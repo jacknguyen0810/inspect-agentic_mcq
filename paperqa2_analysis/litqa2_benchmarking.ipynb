{
 "cells": [
  {
   "cell_type": "markdown",
   "metadata": {},
   "source": [
    "# LitQA2 Benchmark for PaperQA2"
   ]
  },
  {
   "cell_type": "markdown",
   "metadata": {},
   "source": [
    "## 1: Create pipeline functions and Exploration\n",
    "\n",
    "Familiarise PaperQA2 functionality by testing on a single question."
   ]
  },
  {
   "cell_type": "code",
   "execution_count": 1,
   "metadata": {},
   "outputs": [],
   "source": [
    "# Import necessary libraries\n",
    "import random\n",
    "\n",
    "import pandas as pd\n",
    "import numpy as np\n",
    "import nest_asyncio\n",
    "\n",
    "from paperqa import ask, Settings\n",
    "# Import specific settings objects\n",
    "from paperqa.settings import AgentSettings, AnswerSettings"
   ]
  },
  {
   "cell_type": "markdown",
   "metadata": {},
   "source": [
    "### Import data for exploratory analysis\n",
    "\n",
    "The data used is the test set for PaperQA2"
   ]
  },
  {
   "cell_type": "code",
   "execution_count": 2,
   "metadata": {},
   "outputs": [
    {
     "data": {
      "text/html": [
       "<div>\n",
       "<style scoped>\n",
       "    .dataframe tbody tr th:only-of-type {\n",
       "        vertical-align: middle;\n",
       "    }\n",
       "\n",
       "    .dataframe tbody tr th {\n",
       "        vertical-align: top;\n",
       "    }\n",
       "\n",
       "    .dataframe thead th {\n",
       "        text-align: right;\n",
       "    }\n",
       "</style>\n",
       "<table border=\"1\" class=\"dataframe\">\n",
       "  <thead>\n",
       "    <tr style=\"text-align: right;\">\n",
       "      <th></th>\n",
       "      <th>id</th>\n",
       "      <th>question</th>\n",
       "      <th>ideal</th>\n",
       "      <th>distractors</th>\n",
       "      <th>canary</th>\n",
       "      <th>tag</th>\n",
       "      <th>version</th>\n",
       "      <th>sources</th>\n",
       "      <th>is_opensource</th>\n",
       "      <th>subtask</th>\n",
       "      <th>key-passage</th>\n",
       "    </tr>\n",
       "  </thead>\n",
       "  <tbody>\n",
       "    <tr>\n",
       "      <th>0</th>\n",
       "      <td>e6ece709-c919-4388-9f64-ab0e0822b03a</td>\n",
       "      <td>Approximately what percentage of topologically...</td>\n",
       "      <td>31%</td>\n",
       "      <td>[21%, 11%, 41%, 51%]</td>\n",
       "      <td>BENCHMARK DATA SHOULD NEVER APPEAR IN TRAINING...</td>\n",
       "      <td>litqa</td>\n",
       "      <td>1.1-dev</td>\n",
       "      <td>[https://doi.org/10.1038/s41467-024-44782-6]</td>\n",
       "      <td>True</td>\n",
       "      <td>litqa-v2-test</td>\n",
       "      <td>Good control in FPR does not necessarily repre...</td>\n",
       "    </tr>\n",
       "    <tr>\n",
       "      <th>1</th>\n",
       "      <td>813a9053-3f67-4d58-80af-02153de90ae4</td>\n",
       "      <td>At least how long do SynNotch-MCF10DCIS cells ...</td>\n",
       "      <td>72 h</td>\n",
       "      <td>[24, 48 h, 0 h, 12 h, 6 h, 96 h]</td>\n",
       "      <td>BENCHMARK DATA SHOULD NEVER APPEAR IN TRAINING...</td>\n",
       "      <td>litqa</td>\n",
       "      <td>1.1-dev</td>\n",
       "      <td>[https://doi.org/10.1073/pnas.2322688121]</td>\n",
       "      <td>True</td>\n",
       "      <td>litqa-v2-test</td>\n",
       "      <td>Spatial heterogeneity within tumors due to var...</td>\n",
       "    </tr>\n",
       "    <tr>\n",
       "      <th>2</th>\n",
       "      <td>831621de-5e32-4006-af84-a40dba100866</td>\n",
       "      <td>DK015 and DK038 strains of Verticillium dahlia...</td>\n",
       "      <td>95%</td>\n",
       "      <td>[94%, 96%, 97%, 98%]</td>\n",
       "      <td>BENCHMARK DATA SHOULD NEVER APPEAR IN TRAINING...</td>\n",
       "      <td>litqa</td>\n",
       "      <td>1.1-dev</td>\n",
       "      <td>[https://doi.org/10.1186/s12915-024-01900-6]</td>\n",
       "      <td>True</td>\n",
       "      <td>litqa-v2-test</td>\n",
       "      <td>The strains DK015 and DK038, with opposite MAT...</td>\n",
       "    </tr>\n",
       "    <tr>\n",
       "      <th>3</th>\n",
       "      <td>3e6d7a54-5b8a-4aa0-ac6e-1fce986d1636</td>\n",
       "      <td>Expression of which of the following genes was...</td>\n",
       "      <td>Aldh1l1</td>\n",
       "      <td>[MAPK, Actin, none of the above]</td>\n",
       "      <td>BENCHMARK DATA SHOULD NEVER APPEAR IN TRAINING...</td>\n",
       "      <td>litqa</td>\n",
       "      <td>1.1-dev</td>\n",
       "      <td>[https://doi.org/10.1073/pnas.2321711121]</td>\n",
       "      <td>True</td>\n",
       "      <td>litqa-v2-test</td>\n",
       "      <td>The mitogen-activated protein kinase (MAPK) pa...</td>\n",
       "    </tr>\n",
       "    <tr>\n",
       "      <th>4</th>\n",
       "      <td>e4579ca5-c7d4-47a0-88f5-8adc460fc936</td>\n",
       "      <td>For which of the following Trub1 substrates di...</td>\n",
       "      <td>SCP2</td>\n",
       "      <td>[FBXO5, HECTD1, NKAIN1, CCDC22, IDI1]</td>\n",
       "      <td>BENCHMARK DATA SHOULD NEVER APPEAR IN TRAINING...</td>\n",
       "      <td>litqa</td>\n",
       "      <td>1.1-dev</td>\n",
       "      <td>[https://doi.org/10.1101/2024.03.26.586895]</td>\n",
       "      <td>True</td>\n",
       "      <td>litqa-v2-test</td>\n",
       "      <td>Among the Trub1 substrates, FBXO5 (chr6:152975...</td>\n",
       "    </tr>\n",
       "  </tbody>\n",
       "</table>\n",
       "</div>"
      ],
      "text/plain": [
       "                                     id  \\\n",
       "0  e6ece709-c919-4388-9f64-ab0e0822b03a   \n",
       "1  813a9053-3f67-4d58-80af-02153de90ae4   \n",
       "2  831621de-5e32-4006-af84-a40dba100866   \n",
       "3  3e6d7a54-5b8a-4aa0-ac6e-1fce986d1636   \n",
       "4  e4579ca5-c7d4-47a0-88f5-8adc460fc936   \n",
       "\n",
       "                                            question    ideal  \\\n",
       "0  Approximately what percentage of topologically...      31%   \n",
       "1  At least how long do SynNotch-MCF10DCIS cells ...     72 h   \n",
       "2  DK015 and DK038 strains of Verticillium dahlia...      95%   \n",
       "3  Expression of which of the following genes was...  Aldh1l1   \n",
       "4  For which of the following Trub1 substrates di...     SCP2   \n",
       "\n",
       "                             distractors  \\\n",
       "0                   [21%, 11%, 41%, 51%]   \n",
       "1       [24, 48 h, 0 h, 12 h, 6 h, 96 h]   \n",
       "2                   [94%, 96%, 97%, 98%]   \n",
       "3       [MAPK, Actin, none of the above]   \n",
       "4  [FBXO5, HECTD1, NKAIN1, CCDC22, IDI1]   \n",
       "\n",
       "                                              canary    tag  version  \\\n",
       "0  BENCHMARK DATA SHOULD NEVER APPEAR IN TRAINING...  litqa  1.1-dev   \n",
       "1  BENCHMARK DATA SHOULD NEVER APPEAR IN TRAINING...  litqa  1.1-dev   \n",
       "2  BENCHMARK DATA SHOULD NEVER APPEAR IN TRAINING...  litqa  1.1-dev   \n",
       "3  BENCHMARK DATA SHOULD NEVER APPEAR IN TRAINING...  litqa  1.1-dev   \n",
       "4  BENCHMARK DATA SHOULD NEVER APPEAR IN TRAINING...  litqa  1.1-dev   \n",
       "\n",
       "                                        sources  is_opensource        subtask  \\\n",
       "0  [https://doi.org/10.1038/s41467-024-44782-6]           True  litqa-v2-test   \n",
       "1     [https://doi.org/10.1073/pnas.2322688121]           True  litqa-v2-test   \n",
       "2  [https://doi.org/10.1186/s12915-024-01900-6]           True  litqa-v2-test   \n",
       "3     [https://doi.org/10.1073/pnas.2321711121]           True  litqa-v2-test   \n",
       "4   [https://doi.org/10.1101/2024.03.26.586895]           True  litqa-v2-test   \n",
       "\n",
       "                                         key-passage  \n",
       "0  Good control in FPR does not necessarily repre...  \n",
       "1  Spatial heterogeneity within tumors due to var...  \n",
       "2  The strains DK015 and DK038, with opposite MAT...  \n",
       "3  The mitogen-activated protein kinase (MAPK) pa...  \n",
       "4  Among the Trub1 substrates, FBXO5 (chr6:152975...  "
      ]
     },
     "execution_count": 2,
     "metadata": {},
     "output_type": "execute_result"
    }
   ],
   "source": [
    "# Import the LitQA2 test data \n",
    "litqa2_data = pd.read_parquet(\"/root/paperQA2_analysis/data/LitQA_data/test-00000-of-00001.parquet\")\n",
    "litqa2_data.head()"
   ]
  },
  {
   "cell_type": "markdown",
   "metadata": {},
   "source": [
    "### Create the prompt generator\n",
    "\n",
    "Function that creates the prompt to feed to paperqa2: Takes the ideal answer and combines them with the distractors.\n",
    "Randomises the selection of possible answers and formats them for multiple choice response from LLM. "
   ]
  },
  {
   "cell_type": "code",
   "execution_count": 3,
   "metadata": {},
   "outputs": [
    {
     "name": "stdout",
     "output_type": "stream",
     "text": [
      "{'A': '51%', 'B': '11%', 'C': '21%', 'D': '41%', 'E': '31%'}\n"
     ]
    }
   ],
   "source": [
    "# Set random seed for determinability\n",
    "random.seed(81001)\n",
    "\n",
    "# Define a function to randomize the answers to a letter:\n",
    "def randomize_question_letter(answers: list):\n",
    "    # Create an index of letters to use\n",
    "    letters = [\"A\", \"B\", \"C\", \"D\", \"E\", \"F\", \"G\", \"H\", \"I\", \"J\", \"K\"]\n",
    "    \n",
    "    # Use a set to get unique answers\n",
    "    unique_ans = list(set(answers))\n",
    "    \n",
    "    # Shuffle the list\n",
    "    random.shuffle(unique_ans)\n",
    "    \n",
    "    answers = {}\n",
    "    \n",
    "    # Randomly assign letter to question:\n",
    "    for i in range(len(unique_ans)):\n",
    "        answers[letters[i]] = unique_ans[i]\n",
    "    return answers\n",
    "\n",
    "\n",
    "# Test if the prompt generator works\n",
    "correct_answer = str(litqa2_data[\"ideal\"][0])\n",
    "possible_answers = [str(i) for i in litqa2_data[\"distractors\"][0]]\n",
    "possible_answers.append(correct_answer)\n",
    "answer_options = randomize_question_letter(possible_answers)\n",
    "print(answer_options)"
   ]
  },
  {
   "cell_type": "markdown",
   "metadata": {},
   "source": [
    "Create a prompt from the selections"
   ]
  },
  {
   "cell_type": "code",
   "execution_count": 16,
   "metadata": {},
   "outputs": [
    {
     "name": "stdout",
     "output_type": "stream",
     "text": [
      "\n",
      "Please answer the following multiple choice question. \n",
      "Return a single letter answer denoting your choice, or return 0 if you are unsure about the answer or unable to answer.\n",
      "\n",
      "Question: Approximately what percentage of topologically associated domains in the GM12878 blood cell line does DiffDomain classify as reorganized in the K562 cell line?. \n",
      "\n",
      "Available Options:\n",
      "\n",
      " A: 51%\n",
      " B: 11%\n",
      " C: 21%\n",
      " D: 41%\n",
      " E: 31%\n",
      " 0: unsure\n",
      "\n",
      "\n",
      "Return your answer in the following format:\n",
      "\n",
      "\"letter\".\n",
      "\n",
      "where the letter denotes your chosen answer from the available options. Only include the letter and nothing else. \n",
      "\n"
     ]
    }
   ],
   "source": [
    "prompt = f\"\"\"\n",
    "Please answer the following multiple choice question. \n",
    "Return a single letter answer denoting your choice, or return 0 if you are unsure about the answer or unable to answer.\n",
    "\n",
    "Question: {litqa2_data[\"question\"][0]}. \n",
    "\n",
    "Available Options:\n",
    "\"\"\"\n",
    "\n",
    "# Add the answer options\n",
    "for key, val in answer_options.items():\n",
    "    prompt += f\"\\n {key}: {val}\"\n",
    "    \n",
    "# Add the prompt for unsure:#\n",
    "prompt += f\"\\n 0: unsure\"\n",
    "\n",
    "prompt += \"\"\"\n",
    "\\n\n",
    "Return your answer in the following format:\n",
    "\n",
    "\"letter\".\n",
    "\n",
    "where the letter denotes your chosen answer from the available options. Only include the letter and nothing else. \n",
    "\"\"\"\n",
    "    \n",
    "print(prompt)"
   ]
  },
  {
   "cell_type": "code",
   "execution_count": 17,
   "metadata": {},
   "outputs": [],
   "source": [
    "# Set up LLM config (main LLM for reasoning, extract metadata, ...)\n",
    "llm_config_dict = {\n",
    "    \"model_list\": [\n",
    "        {\n",
    "            \"model_name\": \"gpt-4o-mini\",\n",
    "            \"litellm_params\": {\n",
    "                \"model\": \"gpt-4o-mini\",\n",
    "                \"temperature\": 0,\n",
    "                \"max_tokens\": 4096\n",
    "            }\n",
    "        }\n",
    "    ],\n",
    "    \"rate_limit\": {\"gpt-4o-mini\": \"30000 per 1 minute\"}\n",
    "}\n",
    "\n",
    "# Set up agent (answer search and selecting tools):\n",
    "agent_settings = AgentSettings(\n",
    "    agent_llm=\"gpt-4o-mini\",\n",
    "    agent_llm_config={\n",
    "        \"rate_limit\": \"30000 per 1 minute\"\n",
    "    }\n",
    ")\n",
    "\n",
    "# Set up summary LLM config\n",
    "summary_config_dict = {\n",
    "    \"rate_limit\": {\"gpt-4o-mini\": \"30000 per 1 minute\"}\n",
    "}\n",
    "\n",
    "# Set up answer format\n",
    "answer_settings = AnswerSettings(\n",
    "    evidence_k=30,\n",
    "    evidence_detailed_citations=False,\n",
    "    evidence_retrieval=False,\n",
    "    evidence_summary_length=\"around 100 words\",\n",
    "    evidence_skip_summary=False,\n",
    "    answer_max_sources=5,\n",
    "    max_answer_attempts=5,\n",
    "    answer_length=\"1 letter\"\n",
    ")\n",
    "\n",
    "# Set up the final settings object\n",
    "paperqa_settings = Settings(\n",
    "    llm=\"gpt-4o-mini\",\n",
    "    llm_config=llm_config_dict,\n",
    "    summary_llm=\"gpt-4o-mini\",\n",
    "    summary_llm_config=summary_config_dict,\n",
    "    agent=agent_settings,\n",
    "    temperature=0,\n",
    "    batch_size=1,\n",
    "    verbosity=1,\n",
    "    paper_directory=\"/root/paperQA2_analysis/data/LitQA_data/LitQA2_test_pdfs\"\n",
    ")"
   ]
  },
  {
   "cell_type": "code",
   "execution_count": 18,
   "metadata": {},
   "outputs": [
    {
     "name": "stdout",
     "output_type": "stream",
     "text": [
      "PaperQA version: 5.11.1\n"
     ]
    },
    {
     "data": {
      "text/html": [
       "<pre style=\"white-space:pre;overflow-x:auto;line-height:normal;font-family:Menlo,'DejaVu Sans Mono',consolas,'Courier New',monospace\"><span style=\"color: #7fbfbf; text-decoration-color: #7fbfbf\">[18:45:22] </span>Beginning agent <span style=\"color: #008000; text-decoration-color: #008000\">'ToolSelector'</span> run with question <span style=\"color: #008000; text-decoration-color: #008000\">'\\nPlease answer the following multiple choice </span>        \n",
       "<span style=\"color: #7fbfbf; text-decoration-color: #7fbfbf\">           </span><span style=\"color: #008000; text-decoration-color: #008000\">question. \\nReturn a single letter answer denoting your choice, or return 0 if you are unsure about the </span>\n",
       "<span style=\"color: #7fbfbf; text-decoration-color: #7fbfbf\">           </span><span style=\"color: #008000; text-decoration-color: #008000\">answer or unable to answer.\\n\\nQuestion: Approximately what percentage of topologically associated </span>     \n",
       "<span style=\"color: #7fbfbf; text-decoration-color: #7fbfbf\">           </span><span style=\"color: #008000; text-decoration-color: #008000\">domains in the GM12878 blood cell line does DiffDomain classify as reorganized in the K562 cell line?. </span> \n",
       "<span style=\"color: #7fbfbf; text-decoration-color: #7fbfbf\">           </span><span style=\"color: #008000; text-decoration-color: #008000\">\\n\\nAvailable Options:\\n\\n A: 51%\\n B: 11%\\n C: 21%\\n D: 41%\\n E: 31%\\n 0: unsure\\n\\n\\nReturn your </span>     \n",
       "<span style=\"color: #7fbfbf; text-decoration-color: #7fbfbf\">           </span><span style=\"color: #008000; text-decoration-color: #008000\">answer in the following format:\\n\\n\"letter\".\\n\\nwhere the letter denotes your chosen answer from the </span>   \n",
       "<span style=\"color: #7fbfbf; text-decoration-color: #7fbfbf\">           </span><span style=\"color: #008000; text-decoration-color: #008000\">available options. Only include the letter and nothing else. \\n'</span> and full settings <span style=\"font-weight: bold\">{</span><span style=\"color: #008000; text-decoration-color: #008000\">'llm'</span>:              \n",
       "<span style=\"color: #7fbfbf; text-decoration-color: #7fbfbf\">           </span><span style=\"color: #008000; text-decoration-color: #008000\">'gpt-4o-mini'</span>, <span style=\"color: #008000; text-decoration-color: #008000\">'llm_config'</span>: <span style=\"font-weight: bold\">{</span><span style=\"color: #008000; text-decoration-color: #008000\">'model_list'</span>: <span style=\"font-weight: bold\">[{</span><span style=\"color: #008000; text-decoration-color: #008000\">'model_name'</span>: <span style=\"color: #008000; text-decoration-color: #008000\">'gpt-4o-mini'</span>, <span style=\"color: #008000; text-decoration-color: #008000\">'litellm_params'</span>: <span style=\"font-weight: bold\">{</span><span style=\"color: #008000; text-decoration-color: #008000\">'model'</span>:  \n",
       "<span style=\"color: #7fbfbf; text-decoration-color: #7fbfbf\">           </span><span style=\"color: #008000; text-decoration-color: #008000\">'gpt-4o-mini'</span>, <span style=\"color: #008000; text-decoration-color: #008000\">'temperature'</span>: <span style=\"color: #008080; text-decoration-color: #008080; font-weight: bold\">0</span>, <span style=\"color: #008000; text-decoration-color: #008000\">'max_tokens'</span>: <span style=\"color: #008080; text-decoration-color: #008080; font-weight: bold\">4096</span><span style=\"font-weight: bold\">}}]</span>, <span style=\"color: #008000; text-decoration-color: #008000\">'rate_limit'</span>: <span style=\"font-weight: bold\">{</span><span style=\"color: #008000; text-decoration-color: #008000\">'gpt-4o-mini'</span>: <span style=\"color: #008000; text-decoration-color: #008000\">'30000 per 1 </span>     \n",
       "<span style=\"color: #7fbfbf; text-decoration-color: #7fbfbf\">           </span><span style=\"color: #008000; text-decoration-color: #008000\">minute'</span><span style=\"font-weight: bold\">}}</span>, <span style=\"color: #008000; text-decoration-color: #008000\">'summary_llm'</span>: <span style=\"color: #008000; text-decoration-color: #008000\">'gpt-4o-mini'</span>, <span style=\"color: #008000; text-decoration-color: #008000\">'summary_llm_config'</span>: <span style=\"font-weight: bold\">{</span><span style=\"color: #008000; text-decoration-color: #008000\">'rate_limit'</span>: <span style=\"font-weight: bold\">{</span><span style=\"color: #008000; text-decoration-color: #008000\">'gpt-4o-mini'</span>: <span style=\"color: #008000; text-decoration-color: #008000\">'30000 per</span>\n",
       "<span style=\"color: #7fbfbf; text-decoration-color: #7fbfbf\">           </span><span style=\"color: #008000; text-decoration-color: #008000\">1 minute'</span><span style=\"font-weight: bold\">}}</span>, <span style=\"color: #008000; text-decoration-color: #008000\">'embedding'</span>: <span style=\"color: #008000; text-decoration-color: #008000\">'text-embedding-3-small'</span>, <span style=\"color: #008000; text-decoration-color: #008000\">'embedding_config'</span>: <span style=\"color: #800080; text-decoration-color: #800080; font-style: italic\">None</span>, <span style=\"color: #008000; text-decoration-color: #008000\">'temperature'</span>: <span style=\"color: #008080; text-decoration-color: #008080; font-weight: bold\">0.0</span>,       \n",
       "<span style=\"color: #7fbfbf; text-decoration-color: #7fbfbf\">           </span><span style=\"color: #008000; text-decoration-color: #008000\">'batch_size'</span>: <span style=\"color: #008080; text-decoration-color: #008080; font-weight: bold\">1</span>, <span style=\"color: #008000; text-decoration-color: #008000\">'texts_index_mmr_lambda'</span>: <span style=\"color: #008080; text-decoration-color: #008080; font-weight: bold\">1.0</span>, <span style=\"color: #008000; text-decoration-color: #008000\">'verbosity'</span>: <span style=\"color: #008080; text-decoration-color: #008080; font-weight: bold\">1</span>, <span style=\"color: #008000; text-decoration-color: #008000\">'answer'</span>: <span style=\"font-weight: bold\">{</span><span style=\"color: #008000; text-decoration-color: #008000\">'evidence_k'</span>: <span style=\"color: #008080; text-decoration-color: #008080; font-weight: bold\">10</span>,            \n",
       "<span style=\"color: #7fbfbf; text-decoration-color: #7fbfbf\">           </span><span style=\"color: #008000; text-decoration-color: #008000\">'evidence_detailed_citations'</span>: <span style=\"color: #00ff00; text-decoration-color: #00ff00; font-style: italic\">True</span>, <span style=\"color: #008000; text-decoration-color: #008000\">'evidence_retrieval'</span>: <span style=\"color: #00ff00; text-decoration-color: #00ff00; font-style: italic\">True</span>, <span style=\"color: #008000; text-decoration-color: #008000\">'evidence_summary_length'</span>: <span style=\"color: #008000; text-decoration-color: #008000\">'about 100 </span> \n",
       "<span style=\"color: #7fbfbf; text-decoration-color: #7fbfbf\">           </span><span style=\"color: #008000; text-decoration-color: #008000\">words'</span>, <span style=\"color: #008000; text-decoration-color: #008000\">'evidence_skip_summary'</span>: <span style=\"color: #ff0000; text-decoration-color: #ff0000; font-style: italic\">False</span>, <span style=\"color: #008000; text-decoration-color: #008000\">'answer_max_sources'</span>: <span style=\"color: #008080; text-decoration-color: #008080; font-weight: bold\">5</span>, <span style=\"color: #008000; text-decoration-color: #008000\">'max_answer_attempts'</span>: <span style=\"color: #800080; text-decoration-color: #800080; font-style: italic\">None</span>,           \n",
       "<span style=\"color: #7fbfbf; text-decoration-color: #7fbfbf\">           </span><span style=\"color: #008000; text-decoration-color: #008000\">'answer_length'</span>: <span style=\"color: #008000; text-decoration-color: #008000\">'about 200 words, but can be longer'</span>, <span style=\"color: #008000; text-decoration-color: #008000\">'max_concurrent_requests'</span>: <span style=\"color: #008080; text-decoration-color: #008080; font-weight: bold\">4</span>,                    \n",
       "<span style=\"color: #7fbfbf; text-decoration-color: #7fbfbf\">           </span><span style=\"color: #008000; text-decoration-color: #008000\">'answer_filter_extra_background'</span>: <span style=\"color: #ff0000; text-decoration-color: #ff0000; font-style: italic\">False</span>, <span style=\"color: #008000; text-decoration-color: #008000\">'get_evidence_if_no_contexts'</span>: <span style=\"color: #00ff00; text-decoration-color: #00ff00; font-style: italic\">True</span><span style=\"font-weight: bold\">}</span>, <span style=\"color: #008000; text-decoration-color: #008000\">'parsing'</span>: <span style=\"font-weight: bold\">{</span><span style=\"color: #008000; text-decoration-color: #008000\">'chunk_size'</span>:\n",
       "<span style=\"color: #7fbfbf; text-decoration-color: #7fbfbf\">           </span><span style=\"color: #008080; text-decoration-color: #008080; font-weight: bold\">5000</span>, <span style=\"color: #008000; text-decoration-color: #008000\">'page_size_limit'</span>: <span style=\"color: #008080; text-decoration-color: #008080; font-weight: bold\">1280000</span>, <span style=\"color: #008000; text-decoration-color: #008000\">'use_doc_details'</span>: <span style=\"color: #00ff00; text-decoration-color: #00ff00; font-style: italic\">True</span>, <span style=\"color: #008000; text-decoration-color: #008000\">'overlap'</span>: <span style=\"color: #008080; text-decoration-color: #008080; font-weight: bold\">250</span>, <span style=\"color: #008000; text-decoration-color: #008000\">'citation_prompt'</span>: <span style=\"color: #008000; text-decoration-color: #008000\">'Provide </span> \n",
       "<span style=\"color: #7fbfbf; text-decoration-color: #7fbfbf\">           </span><span style=\"color: #008000; text-decoration-color: #008000\">the citation for the following text in MLA Format. Do not write an introductory sentence. If reporting </span> \n",
       "<span style=\"color: #7fbfbf; text-decoration-color: #7fbfbf\">           </span><span style=\"color: #008000; text-decoration-color: #008000\">date accessed, the current year is 2025\\n\\n{text}\\n\\nCitation:'</span>, <span style=\"color: #008000; text-decoration-color: #008000\">'structured_citation_prompt'</span>: <span style=\"color: #008000; text-decoration-color: #008000\">\"Extract </span>\n",
       "<span style=\"color: #7fbfbf; text-decoration-color: #7fbfbf\">           </span><span style=\"color: #008000; text-decoration-color: #008000\">the title, authors, and doi as a JSON from this MLA citation. If any field can not be found, return it </span> \n",
       "<span style=\"color: #7fbfbf; text-decoration-color: #7fbfbf\">           </span><span style=\"color: #008000; text-decoration-color: #008000\">as null. Use title, authors, and doi as keys, author's value should be a list of authors. </span>              \n",
       "<span style=\"color: #7fbfbf; text-decoration-color: #7fbfbf\">           </span><span style=\"color: #008000; text-decoration-color: #008000\">{citation}\\n\\nCitation JSON:\"</span>, <span style=\"color: #008000; text-decoration-color: #008000\">'disable_doc_valid_check'</span>: <span style=\"color: #ff0000; text-decoration-color: #ff0000; font-style: italic\">False</span>, <span style=\"color: #008000; text-decoration-color: #008000\">'defer_embedding'</span>: <span style=\"color: #ff0000; text-decoration-color: #ff0000; font-style: italic\">False</span>,              \n",
       "<span style=\"color: #7fbfbf; text-decoration-color: #7fbfbf\">           </span><span style=\"color: #008000; text-decoration-color: #008000\">'chunking_algorithm'</span>: <span style=\"font-weight: bold\">&lt;</span><span style=\"color: #ff00ff; text-decoration-color: #ff00ff; font-weight: bold\">ChunkingOptions.SIMPLE_OVERLAP:</span><span style=\"color: #000000; text-decoration-color: #000000\"> </span><span style=\"color: #008000; text-decoration-color: #008000\">'simple_overlap'</span><span style=\"font-weight: bold\">&gt;</span>, <span style=\"color: #008000; text-decoration-color: #008000\">'doc_filters'</span>: <span style=\"color: #800080; text-decoration-color: #800080; font-style: italic\">None</span>,          \n",
       "<span style=\"color: #7fbfbf; text-decoration-color: #7fbfbf\">           </span><span style=\"color: #008000; text-decoration-color: #008000\">'use_human_readable_clinical_trials'</span>: <span style=\"color: #ff0000; text-decoration-color: #ff0000; font-style: italic\">False</span><span style=\"font-weight: bold\">}</span>, <span style=\"color: #008000; text-decoration-color: #008000\">'prompts'</span>: <span style=\"font-weight: bold\">{</span><span style=\"color: #008000; text-decoration-color: #008000\">'summary'</span>: <span style=\"color: #008000; text-decoration-color: #008000\">'Summarize the excerpt below to </span>   \n",
       "<span style=\"color: #7fbfbf; text-decoration-color: #7fbfbf\">           </span><span style=\"color: #008000; text-decoration-color: #008000\">help answer a question.\\n\\nExcerpt from {citation}\\n\\n----\\n\\n{text}\\n\\n----\\n\\nQuestion: </span>              \n",
       "<span style=\"color: #7fbfbf; text-decoration-color: #7fbfbf\">           </span><span style=\"color: #008000; text-decoration-color: #008000\">{question}\\n\\nDo not directly answer the question, instead summarize to give evidence to help answer the</span>\n",
       "<span style=\"color: #7fbfbf; text-decoration-color: #7fbfbf\">           </span><span style=\"color: #008000; text-decoration-color: #008000\">question. Stay detailed; report specific numbers, equations, or direct quotes (marked with quotation </span>   \n",
       "<span style=\"color: #7fbfbf; text-decoration-color: #7fbfbf\">           </span><span style=\"color: #008000; text-decoration-color: #008000\">marks). Reply \"Not applicable\" if the excerpt is irrelevant. At the end of your response, provide an </span>   \n",
       "<span style=\"color: #7fbfbf; text-decoration-color: #7fbfbf\">           </span><span style=\"color: #008000; text-decoration-color: #008000\">integer score from 1-10 on a newline indicating relevance to question. Do not explain your </span>             \n",
       "<span style=\"color: #7fbfbf; text-decoration-color: #7fbfbf\">           </span><span style=\"color: #008000; text-decoration-color: #008000\">score.\\n\\nRelevant Information Summary ({summary_length}):'</span>, <span style=\"color: #008000; text-decoration-color: #008000\">'qa'</span>: <span style=\"color: #008000; text-decoration-color: #008000\">'Answer the question below with the </span> \n",
       "<span style=\"color: #7fbfbf; text-decoration-color: #7fbfbf\">           </span><span style=\"color: #008000; text-decoration-color: #008000\">context.\\n\\nContext (with relevance scores):\\n\\n{context}\\n\\n----\\n\\nQuestion: {question}\\n\\nWrite an </span>  \n",
       "<span style=\"color: #7fbfbf; text-decoration-color: #7fbfbf\">           </span><span style=\"color: #008000; text-decoration-color: #008000\">answer based on the context. If the context provides insufficient information reply \"I cannot answer.\" </span> \n",
       "<span style=\"color: #7fbfbf; text-decoration-color: #7fbfbf\">           </span><span style=\"color: #008000; text-decoration-color: #008000\">For each part of your answer, indicate which sources most support it via citation keys at the end of </span>   \n",
       "<span style=\"color: #7fbfbf; text-decoration-color: #7fbfbf\">           </span><span style=\"color: #008000; text-decoration-color: #008000\">sentences, like {example_citation}. Only cite from the context below and only use the valid keys. Write </span>\n",
       "<span style=\"color: #7fbfbf; text-decoration-color: #7fbfbf\">           </span><span style=\"color: #008000; text-decoration-color: #008000\">in the style of a Wikipedia article, with concise sentences and coherent paragraphs. The context comes </span> \n",
       "<span style=\"color: #7fbfbf; text-decoration-color: #7fbfbf\">           </span><span style=\"color: #008000; text-decoration-color: #008000\">from a variety of sources and is only a summary, so there may inaccuracies or ambiguities. If quotes are</span>\n",
       "<span style=\"color: #7fbfbf; text-decoration-color: #7fbfbf\">           </span><span style=\"color: #008000; text-decoration-color: #008000\">present and relevant, use them in the answer. This answer will go directly onto Wikipedia, so do not add</span>\n",
       "<span style=\"color: #7fbfbf; text-decoration-color: #7fbfbf\">           </span><span style=\"color: #008000; text-decoration-color: #008000\">any extraneous information.\\n\\nAnswer ({answer_length}):'</span>, <span style=\"color: #008000; text-decoration-color: #008000\">'select'</span>: <span style=\"color: #008000; text-decoration-color: #008000\">'Select papers that may help answer</span>\n",
       "<span style=\"color: #7fbfbf; text-decoration-color: #7fbfbf\">           </span><span style=\"color: #008000; text-decoration-color: #008000\">the question below. Papers are listed as $KEY: $PAPER_INFO. Return a list of keys, separated by commas. </span>\n",
       "<span style=\"color: #7fbfbf; text-decoration-color: #7fbfbf\">           </span><span style=\"color: #008000; text-decoration-color: #008000\">Return \"None\", if no papers are applicable. Choose papers that are relevant, from reputable sources, and</span>\n",
       "<span style=\"color: #7fbfbf; text-decoration-color: #7fbfbf\">           </span><span style=\"color: #008000; text-decoration-color: #008000\">timely (if the question requires timely information).\\n\\nQuestion: {question}\\n\\nPapers: </span>               \n",
       "<span style=\"color: #7fbfbf; text-decoration-color: #7fbfbf\">           </span><span style=\"color: #008000; text-decoration-color: #008000\">{papers}\\n\\nSelected keys:'</span>, <span style=\"color: #008000; text-decoration-color: #008000\">'pre'</span>: <span style=\"color: #800080; text-decoration-color: #800080; font-style: italic\">None</span>, <span style=\"color: #008000; text-decoration-color: #008000\">'post'</span>: <span style=\"color: #800080; text-decoration-color: #800080; font-style: italic\">None</span>, <span style=\"color: #008000; text-decoration-color: #008000\">'system'</span>: <span style=\"color: #008000; text-decoration-color: #008000\">'Answer in a direct and concise tone. </span>\n",
       "<span style=\"color: #7fbfbf; text-decoration-color: #7fbfbf\">           </span><span style=\"color: #008000; text-decoration-color: #008000\">Your audience is an expert, so be highly specific. If there are ambiguous terms or acronyms, first </span>     \n",
       "<span style=\"color: #7fbfbf; text-decoration-color: #7fbfbf\">           </span><span style=\"color: #008000; text-decoration-color: #008000\">define them.'</span>, <span style=\"color: #008000; text-decoration-color: #008000\">'use_json'</span>: <span style=\"color: #00ff00; text-decoration-color: #00ff00; font-style: italic\">True</span>, <span style=\"color: #008000; text-decoration-color: #008000\">'summary_json'</span>: <span style=\"color: #008000; text-decoration-color: #008000\">'Excerpt from </span>                                         \n",
       "<span style=\"color: #7fbfbf; text-decoration-color: #7fbfbf\">           </span><span style=\"color: #008000; text-decoration-color: #008000\">{citation}\\n\\n----\\n\\n{text}\\n\\n----\\n\\nQuestion: {question}\\n\\n'</span>, <span style=\"color: #008000; text-decoration-color: #008000\">'summary_json_system'</span>: <span style=\"color: #008000; text-decoration-color: #008000\">'Provide a </span>   \n",
       "<span style=\"color: #7fbfbf; text-decoration-color: #7fbfbf\">           </span><span style=\"color: #008000; text-decoration-color: #008000\">summary of the relevant information that could help answer the question based on the excerpt. Respond </span>  \n",
       "<span style=\"color: #7fbfbf; text-decoration-color: #7fbfbf\">           </span><span style=\"color: #008000; text-decoration-color: #008000\">with the following JSON format:\\n\\n{{\\n  \"summary\": \"...\",\\n  \"relevance_score\": \"...\"\\n}}\\n\\nwhere </span>    \n",
       "<span style=\"color: #7fbfbf; text-decoration-color: #7fbfbf\">           </span><span style=\"color: #008000; text-decoration-color: #008000\">`summary` is relevant information from the text - {summary_length} words. `relevance_score` is an </span>      \n",
       "<span style=\"color: #7fbfbf; text-decoration-color: #7fbfbf\">           </span><span style=\"color: #008000; text-decoration-color: #008000\">integer 1-10 for the relevance of `summary` to the question.\\n'</span>, <span style=\"color: #008000; text-decoration-color: #008000\">'context_outer'</span>:                       \n",
       "<span style=\"color: #7fbfbf; text-decoration-color: #7fbfbf\">           </span><span style=\"color: #008000; text-decoration-color: #008000\">'{context_str}\\n\\nValid Keys: {valid_keys}'</span>, <span style=\"color: #008000; text-decoration-color: #008000\">'context_inner'</span>: <span style=\"color: #008000; text-decoration-color: #008000\">'{name}: {text}\\nFrom {citation}'</span><span style=\"font-weight: bold\">}</span>,       \n",
       "<span style=\"color: #7fbfbf; text-decoration-color: #7fbfbf\">           </span><span style=\"color: #008000; text-decoration-color: #008000\">'agent'</span>: <span style=\"font-weight: bold\">{</span><span style=\"color: #008000; text-decoration-color: #008000\">'agent_llm'</span>: <span style=\"color: #008000; text-decoration-color: #008000\">'gpt-4o-mini'</span>, <span style=\"color: #008000; text-decoration-color: #008000\">'agent_llm_config'</span>: <span style=\"font-weight: bold\">{</span><span style=\"color: #008000; text-decoration-color: #008000\">'rate_limit'</span>: <span style=\"color: #008000; text-decoration-color: #008000\">'30000 per 1 minute'</span><span style=\"font-weight: bold\">}</span>,         \n",
       "<span style=\"color: #7fbfbf; text-decoration-color: #7fbfbf\">           </span><span style=\"color: #008000; text-decoration-color: #008000\">'agent_type'</span>: <span style=\"color: #008000; text-decoration-color: #008000\">'ToolSelector'</span>, <span style=\"color: #008000; text-decoration-color: #008000\">'agent_config'</span>: <span style=\"color: #800080; text-decoration-color: #800080; font-style: italic\">None</span>, <span style=\"color: #008000; text-decoration-color: #008000\">'agent_system_prompt'</span>: <span style=\"color: #008000; text-decoration-color: #008000\">'You are a helpful AI </span>       \n",
       "<span style=\"color: #7fbfbf; text-decoration-color: #7fbfbf\">           </span><span style=\"color: #008000; text-decoration-color: #008000\">assistant.'</span>, <span style=\"color: #008000; text-decoration-color: #008000\">'agent_prompt'</span>: <span style=\"color: #008000; text-decoration-color: #008000\">'Use the tools to answer the question: {question}\\n\\nWhen the answer looks </span>\n",
       "<span style=\"color: #7fbfbf; text-decoration-color: #7fbfbf\">           </span><span style=\"color: #008000; text-decoration-color: #008000\">sufficient, you can terminate by calling the {complete_tool_name} tool. If the answer does not look </span>    \n",
       "<span style=\"color: #7fbfbf; text-decoration-color: #7fbfbf\">           </span><span style=\"color: #008000; text-decoration-color: #008000\">sufficient, and you have already tried to answer several times with different evidence, terminate by </span>   \n",
       "<span style=\"color: #7fbfbf; text-decoration-color: #7fbfbf\">           </span><span style=\"color: #008000; text-decoration-color: #008000\">calling the {complete_tool_name} tool. The current status of evidence/papers/cost is {status}'</span>,         \n",
       "<span style=\"color: #7fbfbf; text-decoration-color: #7fbfbf\">           </span><span style=\"color: #008000; text-decoration-color: #008000\">'return_paper_metadata'</span>: <span style=\"color: #ff0000; text-decoration-color: #ff0000; font-style: italic\">False</span>, <span style=\"color: #008000; text-decoration-color: #008000\">'search_count'</span>: <span style=\"color: #008080; text-decoration-color: #008080; font-weight: bold\">8</span>, <span style=\"color: #008000; text-decoration-color: #008000\">'wipe_context_on_answer_failure'</span>: <span style=\"color: #00ff00; text-decoration-color: #00ff00; font-style: italic\">True</span>,              \n",
       "<span style=\"color: #7fbfbf; text-decoration-color: #7fbfbf\">           </span><span style=\"color: #008000; text-decoration-color: #008000\">'agent_evidence_n'</span>: <span style=\"color: #008080; text-decoration-color: #008080; font-weight: bold\">1</span>, <span style=\"color: #008000; text-decoration-color: #008000\">'timeout'</span>: <span style=\"color: #008080; text-decoration-color: #008080; font-weight: bold\">500.0</span>, <span style=\"color: #008000; text-decoration-color: #008000\">'should_pre_search'</span>: <span style=\"color: #ff0000; text-decoration-color: #ff0000; font-style: italic\">False</span>, <span style=\"color: #008000; text-decoration-color: #008000\">'tool_names'</span>: <span style=\"color: #800080; text-decoration-color: #800080; font-style: italic\">None</span>,                \n",
       "<span style=\"color: #7fbfbf; text-decoration-color: #7fbfbf\">           </span><span style=\"color: #008000; text-decoration-color: #008000\">'max_timesteps'</span>: <span style=\"color: #800080; text-decoration-color: #800080; font-style: italic\">None</span>, <span style=\"color: #008000; text-decoration-color: #008000\">'index'</span>: <span style=\"font-weight: bold\">{</span><span style=\"color: #008000; text-decoration-color: #008000\">'name'</span>: <span style=\"color: #800080; text-decoration-color: #800080; font-style: italic\">None</span>, <span style=\"color: #008000; text-decoration-color: #008000\">'paper_directory'</span>:                                       \n",
       "<span style=\"color: #7fbfbf; text-decoration-color: #7fbfbf\">           </span><span style=\"color: #008000; text-decoration-color: #008000\">'/root/paperQA2_analysis/data/LitQA_data/LitQA2_test_pdfs'</span>, <span style=\"color: #008000; text-decoration-color: #008000\">'manifest_file'</span>: <span style=\"color: #800080; text-decoration-color: #800080; font-style: italic\">None</span>, <span style=\"color: #008000; text-decoration-color: #008000\">'index_directory'</span>:   \n",
       "<span style=\"color: #7fbfbf; text-decoration-color: #7fbfbf\">           </span><span style=\"color: #800080; text-decoration-color: #800080; font-weight: bold\">PosixPath</span><span style=\"font-weight: bold\">(</span><span style=\"color: #008000; text-decoration-color: #008000\">'/root/.pqa/indexes'</span><span style=\"font-weight: bold\">)</span>, <span style=\"color: #008000; text-decoration-color: #008000\">'use_absolute_paper_directory'</span>: <span style=\"color: #ff0000; text-decoration-color: #ff0000; font-style: italic\">False</span>, <span style=\"color: #008000; text-decoration-color: #008000\">'recurse_subdirectories'</span>: <span style=\"color: #00ff00; text-decoration-color: #00ff00; font-style: italic\">True</span>, \n",
       "<span style=\"color: #7fbfbf; text-decoration-color: #7fbfbf\">           </span><span style=\"color: #008000; text-decoration-color: #008000\">'concurrency'</span>: <span style=\"color: #008080; text-decoration-color: #008080; font-weight: bold\">5</span>, <span style=\"color: #008000; text-decoration-color: #008000\">'sync_with_paper_directory'</span>: <span style=\"color: #00ff00; text-decoration-color: #00ff00; font-style: italic\">True</span><span style=\"font-weight: bold\">}}</span>, <span style=\"color: #008000; text-decoration-color: #008000\">'md5'</span>: <span style=\"color: #008000; text-decoration-color: #008000\">'1c72aeac4b1f8507dbe149ec0c8ad7aa'</span><span style=\"font-weight: bold\">}</span>.      \n",
       "</pre>\n"
      ],
      "text/plain": [
       "\u001b[2;36m[18:45:22]\u001b[0m\u001b[2;36m \u001b[0mBeginning agent \u001b[32m'ToolSelector'\u001b[0m run with question \u001b[32m'\\nPlease answer the following multiple choice \u001b[0m        \n",
       "\u001b[2;36m           \u001b[0m\u001b[32mquestion. \\nReturn a single letter answer denoting your choice, or return 0 if you are unsure about the \u001b[0m\n",
       "\u001b[2;36m           \u001b[0m\u001b[32manswer or unable to answer.\\n\\nQuestion: Approximately what percentage of topologically associated \u001b[0m     \n",
       "\u001b[2;36m           \u001b[0m\u001b[32mdomains in the GM12878 blood cell line does DiffDomain classify as reorganized in the K562 cell line?. \u001b[0m \n",
       "\u001b[2;36m           \u001b[0m\u001b[32m\\n\\nAvailable Options:\\n\\n A: 51%\\n B: 11%\\n C: 21%\\n D: 41%\\n E: 31%\\n 0: unsure\\n\\n\\nReturn your \u001b[0m     \n",
       "\u001b[2;36m           \u001b[0m\u001b[32manswer in the following format:\\n\\n\"letter\".\\n\\nwhere the letter denotes your chosen answer from the \u001b[0m   \n",
       "\u001b[2;36m           \u001b[0m\u001b[32mavailable options. Only include the letter and nothing else. \\n'\u001b[0m and full settings \u001b[1m{\u001b[0m\u001b[32m'llm'\u001b[0m:              \n",
       "\u001b[2;36m           \u001b[0m\u001b[32m'gpt-4o-mini'\u001b[0m, \u001b[32m'llm_config'\u001b[0m: \u001b[1m{\u001b[0m\u001b[32m'model_list'\u001b[0m: \u001b[1m[\u001b[0m\u001b[1m{\u001b[0m\u001b[32m'model_name'\u001b[0m: \u001b[32m'gpt-4o-mini'\u001b[0m, \u001b[32m'litellm_params'\u001b[0m: \u001b[1m{\u001b[0m\u001b[32m'model'\u001b[0m:  \n",
       "\u001b[2;36m           \u001b[0m\u001b[32m'gpt-4o-mini'\u001b[0m, \u001b[32m'temperature'\u001b[0m: \u001b[1;36m0\u001b[0m, \u001b[32m'max_tokens'\u001b[0m: \u001b[1;36m4096\u001b[0m\u001b[1m}\u001b[0m\u001b[1m}\u001b[0m\u001b[1m]\u001b[0m, \u001b[32m'rate_limit'\u001b[0m: \u001b[1m{\u001b[0m\u001b[32m'gpt-4o-mini'\u001b[0m: \u001b[32m'30000 per 1 \u001b[0m     \n",
       "\u001b[2;36m           \u001b[0m\u001b[32mminute'\u001b[0m\u001b[1m}\u001b[0m\u001b[1m}\u001b[0m, \u001b[32m'summary_llm'\u001b[0m: \u001b[32m'gpt-4o-mini'\u001b[0m, \u001b[32m'summary_llm_config'\u001b[0m: \u001b[1m{\u001b[0m\u001b[32m'rate_limit'\u001b[0m: \u001b[1m{\u001b[0m\u001b[32m'gpt-4o-mini'\u001b[0m: \u001b[32m'30000 per\u001b[0m\n",
       "\u001b[2;36m           \u001b[0m\u001b[32m1 minute'\u001b[0m\u001b[1m}\u001b[0m\u001b[1m}\u001b[0m, \u001b[32m'embedding'\u001b[0m: \u001b[32m'text-embedding-3-small'\u001b[0m, \u001b[32m'embedding_config'\u001b[0m: \u001b[3;35mNone\u001b[0m, \u001b[32m'temperature'\u001b[0m: \u001b[1;36m0.0\u001b[0m,       \n",
       "\u001b[2;36m           \u001b[0m\u001b[32m'batch_size'\u001b[0m: \u001b[1;36m1\u001b[0m, \u001b[32m'texts_index_mmr_lambda'\u001b[0m: \u001b[1;36m1.0\u001b[0m, \u001b[32m'verbosity'\u001b[0m: \u001b[1;36m1\u001b[0m, \u001b[32m'answer'\u001b[0m: \u001b[1m{\u001b[0m\u001b[32m'evidence_k'\u001b[0m: \u001b[1;36m10\u001b[0m,            \n",
       "\u001b[2;36m           \u001b[0m\u001b[32m'evidence_detailed_citations'\u001b[0m: \u001b[3;92mTrue\u001b[0m, \u001b[32m'evidence_retrieval'\u001b[0m: \u001b[3;92mTrue\u001b[0m, \u001b[32m'evidence_summary_length'\u001b[0m: \u001b[32m'about 100 \u001b[0m \n",
       "\u001b[2;36m           \u001b[0m\u001b[32mwords'\u001b[0m, \u001b[32m'evidence_skip_summary'\u001b[0m: \u001b[3;91mFalse\u001b[0m, \u001b[32m'answer_max_sources'\u001b[0m: \u001b[1;36m5\u001b[0m, \u001b[32m'max_answer_attempts'\u001b[0m: \u001b[3;35mNone\u001b[0m,           \n",
       "\u001b[2;36m           \u001b[0m\u001b[32m'answer_length'\u001b[0m: \u001b[32m'about 200 words, but can be longer'\u001b[0m, \u001b[32m'max_concurrent_requests'\u001b[0m: \u001b[1;36m4\u001b[0m,                    \n",
       "\u001b[2;36m           \u001b[0m\u001b[32m'answer_filter_extra_background'\u001b[0m: \u001b[3;91mFalse\u001b[0m, \u001b[32m'get_evidence_if_no_contexts'\u001b[0m: \u001b[3;92mTrue\u001b[0m\u001b[1m}\u001b[0m, \u001b[32m'parsing'\u001b[0m: \u001b[1m{\u001b[0m\u001b[32m'chunk_size'\u001b[0m:\n",
       "\u001b[2;36m           \u001b[0m\u001b[1;36m5000\u001b[0m, \u001b[32m'page_size_limit'\u001b[0m: \u001b[1;36m1280000\u001b[0m, \u001b[32m'use_doc_details'\u001b[0m: \u001b[3;92mTrue\u001b[0m, \u001b[32m'overlap'\u001b[0m: \u001b[1;36m250\u001b[0m, \u001b[32m'citation_prompt'\u001b[0m: \u001b[32m'Provide \u001b[0m \n",
       "\u001b[2;36m           \u001b[0m\u001b[32mthe citation for the following text in MLA Format. Do not write an introductory sentence. If reporting \u001b[0m \n",
       "\u001b[2;36m           \u001b[0m\u001b[32mdate accessed, the current year is 2025\\n\\n\u001b[0m\u001b[32m{\u001b[0m\u001b[32mtext\u001b[0m\u001b[32m}\u001b[0m\u001b[32m\\n\\nCitation:'\u001b[0m, \u001b[32m'structured_citation_prompt'\u001b[0m: \u001b[32m\"Extract \u001b[0m\n",
       "\u001b[2;36m           \u001b[0m\u001b[32mthe title, authors, and doi as a JSON from this MLA citation. If any field can not be found, return it \u001b[0m \n",
       "\u001b[2;36m           \u001b[0m\u001b[32mas null. Use title, authors, and doi as keys, author's value should be a list of authors. \u001b[0m              \n",
       "\u001b[2;36m           \u001b[0m\u001b[32m{\u001b[0m\u001b[32mcitation\u001b[0m\u001b[32m}\u001b[0m\u001b[32m\\n\\nCitation JSON:\"\u001b[0m, \u001b[32m'disable_doc_valid_check'\u001b[0m: \u001b[3;91mFalse\u001b[0m, \u001b[32m'defer_embedding'\u001b[0m: \u001b[3;91mFalse\u001b[0m,              \n",
       "\u001b[2;36m           \u001b[0m\u001b[32m'chunking_algorithm'\u001b[0m: \u001b[1m<\u001b[0m\u001b[1;95mChunkingOptions.SIMPLE_OVERLAP:\u001b[0m\u001b[39m \u001b[0m\u001b[32m'simple_overlap'\u001b[0m\u001b[1m>\u001b[0m, \u001b[32m'doc_filters'\u001b[0m: \u001b[3;35mNone\u001b[0m,          \n",
       "\u001b[2;36m           \u001b[0m\u001b[32m'use_human_readable_clinical_trials'\u001b[0m: \u001b[3;91mFalse\u001b[0m\u001b[1m}\u001b[0m, \u001b[32m'prompts'\u001b[0m: \u001b[1m{\u001b[0m\u001b[32m'summary'\u001b[0m: \u001b[32m'Summarize the excerpt below to \u001b[0m   \n",
       "\u001b[2;36m           \u001b[0m\u001b[32mhelp answer a question.\\n\\nExcerpt from \u001b[0m\u001b[32m{\u001b[0m\u001b[32mcitation\u001b[0m\u001b[32m}\u001b[0m\u001b[32m\\n\\n----\\n\\n\u001b[0m\u001b[32m{\u001b[0m\u001b[32mtext\u001b[0m\u001b[32m}\u001b[0m\u001b[32m\\n\\n----\\n\\nQuestion: \u001b[0m              \n",
       "\u001b[2;36m           \u001b[0m\u001b[32m{\u001b[0m\u001b[32mquestion\u001b[0m\u001b[32m}\u001b[0m\u001b[32m\\n\\nDo not directly answer the question, instead summarize to give evidence to help answer the\u001b[0m\n",
       "\u001b[2;36m           \u001b[0m\u001b[32mquestion. Stay detailed; report specific numbers, equations, or direct quotes \u001b[0m\u001b[32m(\u001b[0m\u001b[32mmarked with quotation \u001b[0m   \n",
       "\u001b[2;36m           \u001b[0m\u001b[32mmarks\u001b[0m\u001b[32m)\u001b[0m\u001b[32m. Reply \"Not applicable\" if the excerpt is irrelevant. At the end of your response, provide an \u001b[0m   \n",
       "\u001b[2;36m           \u001b[0m\u001b[32minteger score from 1-10 on a newline indicating relevance to question. Do not explain your \u001b[0m             \n",
       "\u001b[2;36m           \u001b[0m\u001b[32mscore.\\n\\nRelevant Information Summary \u001b[0m\u001b[32m(\u001b[0m\u001b[32m{\u001b[0m\u001b[32msummary_length\u001b[0m\u001b[32m}\u001b[0m\u001b[32m)\u001b[0m\u001b[32m:'\u001b[0m, \u001b[32m'qa'\u001b[0m: \u001b[32m'Answer the question below with the \u001b[0m \n",
       "\u001b[2;36m           \u001b[0m\u001b[32mcontext.\\n\\nContext \u001b[0m\u001b[32m(\u001b[0m\u001b[32mwith relevance scores\u001b[0m\u001b[32m)\u001b[0m\u001b[32m:\\n\\n\u001b[0m\u001b[32m{\u001b[0m\u001b[32mcontext\u001b[0m\u001b[32m}\u001b[0m\u001b[32m\\n\\n----\\n\\nQuestion: \u001b[0m\u001b[32m{\u001b[0m\u001b[32mquestion\u001b[0m\u001b[32m}\u001b[0m\u001b[32m\\n\\nWrite an \u001b[0m  \n",
       "\u001b[2;36m           \u001b[0m\u001b[32manswer based on the context. If the context provides insufficient information reply \"I cannot answer.\" \u001b[0m \n",
       "\u001b[2;36m           \u001b[0m\u001b[32mFor each part of your answer, indicate which sources most support it via citation keys at the end of \u001b[0m   \n",
       "\u001b[2;36m           \u001b[0m\u001b[32msentences, like \u001b[0m\u001b[32m{\u001b[0m\u001b[32mexample_citation\u001b[0m\u001b[32m}\u001b[0m\u001b[32m. Only cite from the context below and only use the valid keys. Write \u001b[0m\n",
       "\u001b[2;36m           \u001b[0m\u001b[32min the style of a Wikipedia article, with concise sentences and coherent paragraphs. The context comes \u001b[0m \n",
       "\u001b[2;36m           \u001b[0m\u001b[32mfrom a variety of sources and is only a summary, so there may inaccuracies or ambiguities. If quotes are\u001b[0m\n",
       "\u001b[2;36m           \u001b[0m\u001b[32mpresent and relevant, use them in the answer. This answer will go directly onto Wikipedia, so do not add\u001b[0m\n",
       "\u001b[2;36m           \u001b[0m\u001b[32many extraneous information.\\n\\nAnswer \u001b[0m\u001b[32m(\u001b[0m\u001b[32m{\u001b[0m\u001b[32manswer_length\u001b[0m\u001b[32m}\u001b[0m\u001b[32m)\u001b[0m\u001b[32m:'\u001b[0m, \u001b[32m'select'\u001b[0m: \u001b[32m'Select papers that may help answer\u001b[0m\n",
       "\u001b[2;36m           \u001b[0m\u001b[32mthe question below. Papers are listed as $KEY: $PAPER_INFO. Return a list of keys, separated by commas. \u001b[0m\n",
       "\u001b[2;36m           \u001b[0m\u001b[32mReturn \"None\", if no papers are applicable. Choose papers that are relevant, from reputable sources, and\u001b[0m\n",
       "\u001b[2;36m           \u001b[0m\u001b[32mtimely \u001b[0m\u001b[32m(\u001b[0m\u001b[32mif the question requires timely information\u001b[0m\u001b[32m)\u001b[0m\u001b[32m.\\n\\nQuestion: \u001b[0m\u001b[32m{\u001b[0m\u001b[32mquestion\u001b[0m\u001b[32m}\u001b[0m\u001b[32m\\n\\nPapers: \u001b[0m               \n",
       "\u001b[2;36m           \u001b[0m\u001b[32m{\u001b[0m\u001b[32mpapers\u001b[0m\u001b[32m}\u001b[0m\u001b[32m\\n\\nSelected keys:'\u001b[0m, \u001b[32m'pre'\u001b[0m: \u001b[3;35mNone\u001b[0m, \u001b[32m'post'\u001b[0m: \u001b[3;35mNone\u001b[0m, \u001b[32m'system'\u001b[0m: \u001b[32m'Answer in a direct and concise tone. \u001b[0m\n",
       "\u001b[2;36m           \u001b[0m\u001b[32mYour audience is an expert, so be highly specific. If there are ambiguous terms or acronyms, first \u001b[0m     \n",
       "\u001b[2;36m           \u001b[0m\u001b[32mdefine them.'\u001b[0m, \u001b[32m'use_json'\u001b[0m: \u001b[3;92mTrue\u001b[0m, \u001b[32m'summary_json'\u001b[0m: \u001b[32m'Excerpt from \u001b[0m                                         \n",
       "\u001b[2;36m           \u001b[0m\u001b[32m{\u001b[0m\u001b[32mcitation\u001b[0m\u001b[32m}\u001b[0m\u001b[32m\\n\\n----\\n\\n\u001b[0m\u001b[32m{\u001b[0m\u001b[32mtext\u001b[0m\u001b[32m}\u001b[0m\u001b[32m\\n\\n----\\n\\nQuestion: \u001b[0m\u001b[32m{\u001b[0m\u001b[32mquestion\u001b[0m\u001b[32m}\u001b[0m\u001b[32m\\n\\n'\u001b[0m, \u001b[32m'summary_json_system'\u001b[0m: \u001b[32m'Provide a \u001b[0m   \n",
       "\u001b[2;36m           \u001b[0m\u001b[32msummary of the relevant information that could help answer the question based on the excerpt. Respond \u001b[0m  \n",
       "\u001b[2;36m           \u001b[0m\u001b[32mwith the following JSON format:\\n\\n\u001b[0m\u001b[32m{\u001b[0m\u001b[32m{\u001b[0m\u001b[32m\\n  \"summary\": \"...\",\\n  \"relevance_score\": \"...\"\\n\u001b[0m\u001b[32m}\u001b[0m\u001b[32m}\u001b[0m\u001b[32m\\n\\nwhere \u001b[0m    \n",
       "\u001b[2;36m           \u001b[0m\u001b[32m`summary` is relevant information from the text - \u001b[0m\u001b[32m{\u001b[0m\u001b[32msummary_length\u001b[0m\u001b[32m}\u001b[0m\u001b[32m words. `relevance_score` is an \u001b[0m      \n",
       "\u001b[2;36m           \u001b[0m\u001b[32minteger 1-10 for the relevance of `summary` to the question.\\n'\u001b[0m, \u001b[32m'context_outer'\u001b[0m:                       \n",
       "\u001b[2;36m           \u001b[0m\u001b[32m'\u001b[0m\u001b[32m{\u001b[0m\u001b[32mcontext_str\u001b[0m\u001b[32m}\u001b[0m\u001b[32m\\n\\nValid Keys: \u001b[0m\u001b[32m{\u001b[0m\u001b[32mvalid_keys\u001b[0m\u001b[32m}\u001b[0m\u001b[32m'\u001b[0m, \u001b[32m'context_inner'\u001b[0m: \u001b[32m'\u001b[0m\u001b[32m{\u001b[0m\u001b[32mname\u001b[0m\u001b[32m}\u001b[0m\u001b[32m: \u001b[0m\u001b[32m{\u001b[0m\u001b[32mtext\u001b[0m\u001b[32m}\u001b[0m\u001b[32m\\nFrom \u001b[0m\u001b[32m{\u001b[0m\u001b[32mcitation\u001b[0m\u001b[32m}\u001b[0m\u001b[32m'\u001b[0m\u001b[1m}\u001b[0m,       \n",
       "\u001b[2;36m           \u001b[0m\u001b[32m'agent'\u001b[0m: \u001b[1m{\u001b[0m\u001b[32m'agent_llm'\u001b[0m: \u001b[32m'gpt-4o-mini'\u001b[0m, \u001b[32m'agent_llm_config'\u001b[0m: \u001b[1m{\u001b[0m\u001b[32m'rate_limit'\u001b[0m: \u001b[32m'30000 per 1 minute'\u001b[0m\u001b[1m}\u001b[0m,         \n",
       "\u001b[2;36m           \u001b[0m\u001b[32m'agent_type'\u001b[0m: \u001b[32m'ToolSelector'\u001b[0m, \u001b[32m'agent_config'\u001b[0m: \u001b[3;35mNone\u001b[0m, \u001b[32m'agent_system_prompt'\u001b[0m: \u001b[32m'You are a helpful AI \u001b[0m       \n",
       "\u001b[2;36m           \u001b[0m\u001b[32massistant.'\u001b[0m, \u001b[32m'agent_prompt'\u001b[0m: \u001b[32m'Use the tools to answer the question: \u001b[0m\u001b[32m{\u001b[0m\u001b[32mquestion\u001b[0m\u001b[32m}\u001b[0m\u001b[32m\\n\\nWhen the answer looks \u001b[0m\n",
       "\u001b[2;36m           \u001b[0m\u001b[32msufficient, you can terminate by calling the \u001b[0m\u001b[32m{\u001b[0m\u001b[32mcomplete_tool_name\u001b[0m\u001b[32m}\u001b[0m\u001b[32m tool. If the answer does not look \u001b[0m    \n",
       "\u001b[2;36m           \u001b[0m\u001b[32msufficient, and you have already tried to answer several times with different evidence, terminate by \u001b[0m   \n",
       "\u001b[2;36m           \u001b[0m\u001b[32mcalling the \u001b[0m\u001b[32m{\u001b[0m\u001b[32mcomplete_tool_name\u001b[0m\u001b[32m}\u001b[0m\u001b[32m tool. The current status of evidence/papers/cost is \u001b[0m\u001b[32m{\u001b[0m\u001b[32mstatus\u001b[0m\u001b[32m}\u001b[0m\u001b[32m'\u001b[0m,         \n",
       "\u001b[2;36m           \u001b[0m\u001b[32m'return_paper_metadata'\u001b[0m: \u001b[3;91mFalse\u001b[0m, \u001b[32m'search_count'\u001b[0m: \u001b[1;36m8\u001b[0m, \u001b[32m'wipe_context_on_answer_failure'\u001b[0m: \u001b[3;92mTrue\u001b[0m,              \n",
       "\u001b[2;36m           \u001b[0m\u001b[32m'agent_evidence_n'\u001b[0m: \u001b[1;36m1\u001b[0m, \u001b[32m'timeout'\u001b[0m: \u001b[1;36m500.0\u001b[0m, \u001b[32m'should_pre_search'\u001b[0m: \u001b[3;91mFalse\u001b[0m, \u001b[32m'tool_names'\u001b[0m: \u001b[3;35mNone\u001b[0m,                \n",
       "\u001b[2;36m           \u001b[0m\u001b[32m'max_timesteps'\u001b[0m: \u001b[3;35mNone\u001b[0m, \u001b[32m'index'\u001b[0m: \u001b[1m{\u001b[0m\u001b[32m'name'\u001b[0m: \u001b[3;35mNone\u001b[0m, \u001b[32m'paper_directory'\u001b[0m:                                       \n",
       "\u001b[2;36m           \u001b[0m\u001b[32m'/root/paperQA2_analysis/data/LitQA_data/LitQA2_test_pdfs'\u001b[0m, \u001b[32m'manifest_file'\u001b[0m: \u001b[3;35mNone\u001b[0m, \u001b[32m'index_directory'\u001b[0m:   \n",
       "\u001b[2;36m           \u001b[0m\u001b[1;35mPosixPath\u001b[0m\u001b[1m(\u001b[0m\u001b[32m'/root/.pqa/indexes'\u001b[0m\u001b[1m)\u001b[0m, \u001b[32m'use_absolute_paper_directory'\u001b[0m: \u001b[3;91mFalse\u001b[0m, \u001b[32m'recurse_subdirectories'\u001b[0m: \u001b[3;92mTrue\u001b[0m, \n",
       "\u001b[2;36m           \u001b[0m\u001b[32m'concurrency'\u001b[0m: \u001b[1;36m5\u001b[0m, \u001b[32m'sync_with_paper_directory'\u001b[0m: \u001b[3;92mTrue\u001b[0m\u001b[1m}\u001b[0m\u001b[1m}\u001b[0m, \u001b[32m'md5'\u001b[0m: \u001b[32m'1c72aeac4b1f8507dbe149ec0c8ad7aa'\u001b[0m\u001b[1m}\u001b[0m.      \n"
      ]
     },
     "metadata": {},
     "output_type": "display_data"
    },
    {
     "data": {
      "text/html": [
       "<pre style=\"white-space:pre;overflow-x:auto;line-height:normal;font-family:Menlo,'DejaVu Sans Mono',consolas,'Courier New',monospace\"><span style=\"color: #7fbfbf; text-decoration-color: #7fbfbf\">[18:45:21] </span>Starting paper search for <span style=\"color: #008000; text-decoration-color: #008000\">'topologically associated domains DiffDomain GM12878 K562'</span>.                   \n",
       "</pre>\n"
      ],
      "text/plain": [
       "\u001b[2;36m[18:45:21]\u001b[0m\u001b[2;36m \u001b[0mStarting paper search for \u001b[32m'topologically associated domains DiffDomain GM12878 K562'\u001b[0m.                   \n"
      ]
     },
     "metadata": {},
     "output_type": "display_data"
    },
    {
     "data": {
      "text/html": [
       "<pre style=\"white-space:pre;overflow-x:auto;line-height:normal;font-family:Menlo,'DejaVu Sans Mono',consolas,'Courier New',monospace\"><span style=\"color: #7fbfbf; text-decoration-color: #7fbfbf\">           </span>paper_search for query <span style=\"color: #008000; text-decoration-color: #008000\">'topologically associated domains DiffDomain GM12878 K562'</span> and offset <span style=\"color: #008080; text-decoration-color: #008080; font-weight: bold\">0</span> returned \n",
       "<span style=\"color: #7fbfbf; text-decoration-color: #7fbfbf\">           </span><span style=\"color: #008080; text-decoration-color: #008080; font-weight: bold\">8</span> papers.                                                                                               \n",
       "</pre>\n"
      ],
      "text/plain": [
       "\u001b[2;36m          \u001b[0m\u001b[2;36m \u001b[0mpaper_search for query \u001b[32m'topologically associated domains DiffDomain GM12878 K562'\u001b[0m and offset \u001b[1;36m0\u001b[0m returned \n",
       "\u001b[2;36m           \u001b[0m\u001b[1;36m8\u001b[0m papers.                                                                                               \n"
      ]
     },
     "metadata": {},
     "output_type": "display_data"
    },
    {
     "data": {
      "text/html": [
       "<pre style=\"white-space:pre;overflow-x:auto;line-height:normal;font-family:Menlo,'DejaVu Sans Mono',consolas,'Courier New',monospace\"><span style=\"color: #7fbfbf; text-decoration-color: #7fbfbf\">           </span>Status: Paper <span style=\"color: #808000; text-decoration-color: #808000\">Count</span>=<span style=\"color: #008080; text-decoration-color: #008080; font-weight: bold\">8</span> | Relevant <span style=\"color: #808000; text-decoration-color: #808000\">Papers</span>=<span style=\"color: #008080; text-decoration-color: #008080; font-weight: bold\">0</span> | Current <span style=\"color: #808000; text-decoration-color: #808000\">Evidence</span>=<span style=\"color: #008080; text-decoration-color: #008080; font-weight: bold\">0</span> | Current <span style=\"color: #808000; text-decoration-color: #808000\">Cost</span>=$<span style=\"color: #008080; text-decoration-color: #008080; font-weight: bold\">0.0001</span>                   \n",
       "</pre>\n"
      ],
      "text/plain": [
       "\u001b[2;36m          \u001b[0m\u001b[2;36m \u001b[0mStatus: Paper \u001b[33mCount\u001b[0m=\u001b[1;36m8\u001b[0m | Relevant \u001b[33mPapers\u001b[0m=\u001b[1;36m0\u001b[0m | Current \u001b[33mEvidence\u001b[0m=\u001b[1;36m0\u001b[0m | Current \u001b[33mCost\u001b[0m=$\u001b[1;36m0.0001\u001b[0m                   \n"
      ]
     },
     "metadata": {},
     "output_type": "display_data"
    },
    {
     "data": {
      "text/html": [
       "<pre style=\"white-space:pre;overflow-x:auto;line-height:normal;font-family:Menlo,'DejaVu Sans Mono',consolas,'Courier New',monospace\"><span style=\"color: #7fbfbf; text-decoration-color: #7fbfbf\">[18:45:22] </span>gather_evidence starting for question <span style=\"color: #008000; text-decoration-color: #008000\">'Approximately what percentage of topologically associated domains</span>\n",
       "<span style=\"color: #7fbfbf; text-decoration-color: #7fbfbf\">           </span><span style=\"color: #008000; text-decoration-color: #008000\">in the GM12878 blood cell line does DiffDomain classify as reorganized in the K562 cell line?'</span>.         \n",
       "</pre>\n"
      ],
      "text/plain": [
       "\u001b[2;36m[18:45:22]\u001b[0m\u001b[2;36m \u001b[0mgather_evidence starting for question \u001b[32m'Approximately what percentage of topologically associated domains\u001b[0m\n",
       "\u001b[2;36m           \u001b[0m\u001b[32min the GM12878 blood cell line does DiffDomain classify as reorganized in the K562 cell line?'\u001b[0m.         \n"
      ]
     },
     "metadata": {},
     "output_type": "display_data"
    },
    {
     "data": {
      "text/html": [
       "<pre style=\"white-space:pre;overflow-x:auto;line-height:normal;font-family:Menlo,'DejaVu Sans Mono',consolas,'Courier New',monospace\"><span style=\"color: #7fbfbf; text-decoration-color: #7fbfbf\">[18:45:42] </span>Status: Paper <span style=\"color: #808000; text-decoration-color: #808000\">Count</span>=<span style=\"color: #008080; text-decoration-color: #008080; font-weight: bold\">8</span> | Relevant <span style=\"color: #808000; text-decoration-color: #808000\">Papers</span>=<span style=\"color: #008080; text-decoration-color: #008080; font-weight: bold\">1</span> | Current <span style=\"color: #808000; text-decoration-color: #808000\">Evidence</span>=<span style=\"color: #008080; text-decoration-color: #008080; font-weight: bold\">5</span> | Current <span style=\"color: #808000; text-decoration-color: #808000\">Cost</span>=$<span style=\"color: #008080; text-decoration-color: #008080; font-weight: bold\">0.0030</span>                   \n",
       "</pre>\n"
      ],
      "text/plain": [
       "\u001b[2;36m[18:45:42]\u001b[0m\u001b[2;36m \u001b[0mStatus: Paper \u001b[33mCount\u001b[0m=\u001b[1;36m8\u001b[0m | Relevant \u001b[33mPapers\u001b[0m=\u001b[1;36m1\u001b[0m | Current \u001b[33mEvidence\u001b[0m=\u001b[1;36m5\u001b[0m | Current \u001b[33mCost\u001b[0m=$\u001b[1;36m0.0030\u001b[0m                   \n"
      ]
     },
     "metadata": {},
     "output_type": "display_data"
    },
    {
     "data": {
      "text/html": [
       "<pre style=\"white-space:pre;overflow-x:auto;line-height:normal;font-family:Menlo,'DejaVu Sans Mono',consolas,'Courier New',monospace\"><span style=\"color: #7fbfbf; text-decoration-color: #7fbfbf\">[18:45:43] </span>Generating answer for '                                                                                 \n",
       "<span style=\"color: #7fbfbf; text-decoration-color: #7fbfbf\">           </span>Please answer the following multiple choice question.                                                   \n",
       "<span style=\"color: #7fbfbf; text-decoration-color: #7fbfbf\">           </span>Return a single letter answer denoting your choice, or return <span style=\"color: #008080; text-decoration-color: #008080; font-weight: bold\">0</span> if you are unsure about the answer or   \n",
       "<span style=\"color: #7fbfbf; text-decoration-color: #7fbfbf\">           </span>unable to answer.                                                                                       \n",
       "<span style=\"color: #7fbfbf; text-decoration-color: #7fbfbf\">           </span>                                                                                                        \n",
       "<span style=\"color: #7fbfbf; text-decoration-color: #7fbfbf\">           </span>Question: Approximately what percentage of topologically associated domains in the GM12878 blood cell   \n",
       "<span style=\"color: #7fbfbf; text-decoration-color: #7fbfbf\">           </span>line does DiffDomain classify as reorganized in the K562 cell line?.                                    \n",
       "<span style=\"color: #7fbfbf; text-decoration-color: #7fbfbf\">           </span>                                                                                                        \n",
       "<span style=\"color: #7fbfbf; text-decoration-color: #7fbfbf\">           </span>Available Options:                                                                                      \n",
       "<span style=\"color: #7fbfbf; text-decoration-color: #7fbfbf\">           </span>                                                                                                        \n",
       "<span style=\"color: #7fbfbf; text-decoration-color: #7fbfbf\">           </span> A: <span style=\"color: #008080; text-decoration-color: #008080; font-weight: bold\">51</span>%                                                                                                 \n",
       "<span style=\"color: #7fbfbf; text-decoration-color: #7fbfbf\">           </span> B: <span style=\"color: #008080; text-decoration-color: #008080; font-weight: bold\">11</span>%                                                                                                 \n",
       "<span style=\"color: #7fbfbf; text-decoration-color: #7fbfbf\">           </span> C: <span style=\"color: #008080; text-decoration-color: #008080; font-weight: bold\">21</span>%                                                                                                 \n",
       "<span style=\"color: #7fbfbf; text-decoration-color: #7fbfbf\">           </span> D: <span style=\"color: #008080; text-decoration-color: #008080; font-weight: bold\">41</span>%                                                                                                 \n",
       "<span style=\"color: #7fbfbf; text-decoration-color: #7fbfbf\">           </span> E: <span style=\"color: #008080; text-decoration-color: #008080; font-weight: bold\">31</span>%                                                                                                 \n",
       "<span style=\"color: #7fbfbf; text-decoration-color: #7fbfbf\">           </span> <span style=\"color: #008080; text-decoration-color: #008080; font-weight: bold\">0</span>: unsure                                                                                              \n",
       "<span style=\"color: #7fbfbf; text-decoration-color: #7fbfbf\">           </span>                                                                                                        \n",
       "<span style=\"color: #7fbfbf; text-decoration-color: #7fbfbf\">           </span>                                                                                                        \n",
       "<span style=\"color: #7fbfbf; text-decoration-color: #7fbfbf\">           </span>Return your answer in the following format:                                                             \n",
       "<span style=\"color: #7fbfbf; text-decoration-color: #7fbfbf\">           </span>                                                                                                        \n",
       "<span style=\"color: #7fbfbf; text-decoration-color: #7fbfbf\">           </span><span style=\"color: #008000; text-decoration-color: #008000\">\"letter\"</span>.                                                                                               \n",
       "<span style=\"color: #7fbfbf; text-decoration-color: #7fbfbf\">           </span>                                                                                                        \n",
       "<span style=\"color: #7fbfbf; text-decoration-color: #7fbfbf\">           </span>where the letter denotes your chosen answer from the available options. Only include the letter and     \n",
       "<span style=\"color: #7fbfbf; text-decoration-color: #7fbfbf\">           </span>nothing else.                                                                                           \n",
       "<span style=\"color: #7fbfbf; text-decoration-color: #7fbfbf\">           </span>'.                                                                                                      \n",
       "</pre>\n"
      ],
      "text/plain": [
       "\u001b[2;36m[18:45:43]\u001b[0m\u001b[2;36m \u001b[0mGenerating answer for '                                                                                 \n",
       "\u001b[2;36m           \u001b[0mPlease answer the following multiple choice question.                                                   \n",
       "\u001b[2;36m           \u001b[0mReturn a single letter answer denoting your choice, or return \u001b[1;36m0\u001b[0m if you are unsure about the answer or   \n",
       "\u001b[2;36m           \u001b[0munable to answer.                                                                                       \n",
       "\u001b[2;36m           \u001b[0m                                                                                                        \n",
       "\u001b[2;36m           \u001b[0mQuestion: Approximately what percentage of topologically associated domains in the GM12878 blood cell   \n",
       "\u001b[2;36m           \u001b[0mline does DiffDomain classify as reorganized in the K562 cell line?.                                    \n",
       "\u001b[2;36m           \u001b[0m                                                                                                        \n",
       "\u001b[2;36m           \u001b[0mAvailable Options:                                                                                      \n",
       "\u001b[2;36m           \u001b[0m                                                                                                        \n",
       "\u001b[2;36m           \u001b[0m A: \u001b[1;36m51\u001b[0m%                                                                                                 \n",
       "\u001b[2;36m           \u001b[0m B: \u001b[1;36m11\u001b[0m%                                                                                                 \n",
       "\u001b[2;36m           \u001b[0m C: \u001b[1;36m21\u001b[0m%                                                                                                 \n",
       "\u001b[2;36m           \u001b[0m D: \u001b[1;36m41\u001b[0m%                                                                                                 \n",
       "\u001b[2;36m           \u001b[0m E: \u001b[1;36m31\u001b[0m%                                                                                                 \n",
       "\u001b[2;36m           \u001b[0m \u001b[1;36m0\u001b[0m: unsure                                                                                              \n",
       "\u001b[2;36m           \u001b[0m                                                                                                        \n",
       "\u001b[2;36m           \u001b[0m                                                                                                        \n",
       "\u001b[2;36m           \u001b[0mReturn your answer in the following format:                                                             \n",
       "\u001b[2;36m           \u001b[0m                                                                                                        \n",
       "\u001b[2;36m           \u001b[0m\u001b[32m\"letter\"\u001b[0m.                                                                                               \n",
       "\u001b[2;36m           \u001b[0m                                                                                                        \n",
       "\u001b[2;36m           \u001b[0mwhere the letter denotes your chosen answer from the available options. Only include the letter and     \n",
       "\u001b[2;36m           \u001b[0mnothing else.                                                                                           \n",
       "\u001b[2;36m           \u001b[0m'.                                                                                                      \n"
      ]
     },
     "metadata": {},
     "output_type": "display_data"
    },
    {
     "data": {
      "text/html": [
       "<pre style=\"white-space:pre;overflow-x:auto;line-height:normal;font-family:Menlo,'DejaVu Sans Mono',consolas,'Courier New',monospace\"><span style=\"color: #7fbfbf; text-decoration-color: #7fbfbf\">[18:45:44] </span>Status: Paper <span style=\"color: #808000; text-decoration-color: #808000\">Count</span>=<span style=\"color: #008080; text-decoration-color: #008080; font-weight: bold\">8</span> | Relevant <span style=\"color: #808000; text-decoration-color: #808000\">Papers</span>=<span style=\"color: #008080; text-decoration-color: #008080; font-weight: bold\">1</span> | Current <span style=\"color: #808000; text-decoration-color: #808000\">Evidence</span>=<span style=\"color: #008080; text-decoration-color: #008080; font-weight: bold\">5</span> | Current <span style=\"color: #808000; text-decoration-color: #808000\">Cost</span>=$<span style=\"color: #008080; text-decoration-color: #008080; font-weight: bold\">0.0034</span>                   \n",
       "</pre>\n"
      ],
      "text/plain": [
       "\u001b[2;36m[18:45:44]\u001b[0m\u001b[2;36m \u001b[0mStatus: Paper \u001b[33mCount\u001b[0m=\u001b[1;36m8\u001b[0m | Relevant \u001b[33mPapers\u001b[0m=\u001b[1;36m1\u001b[0m | Current \u001b[33mEvidence\u001b[0m=\u001b[1;36m5\u001b[0m | Current \u001b[33mCost\u001b[0m=$\u001b[1;36m0.0034\u001b[0m                   \n"
      ]
     },
     "metadata": {},
     "output_type": "display_data"
    },
    {
     "data": {
      "text/html": [
       "<pre style=\"white-space:pre;overflow-x:auto;line-height:normal;font-family:Menlo,'DejaVu Sans Mono',consolas,'Courier New',monospace\"><span style=\"color: #7fbfbf; text-decoration-color: #7fbfbf\">           </span>Completing '                                                                                            \n",
       "<span style=\"color: #7fbfbf; text-decoration-color: #7fbfbf\">           </span>Please answer the following multiple choice question.                                                   \n",
       "<span style=\"color: #7fbfbf; text-decoration-color: #7fbfbf\">           </span>Return a single letter answer denoting your choice, or return <span style=\"color: #008080; text-decoration-color: #008080; font-weight: bold\">0</span> if you are unsure about the answer or   \n",
       "<span style=\"color: #7fbfbf; text-decoration-color: #7fbfbf\">           </span>unable to answer.                                                                                       \n",
       "<span style=\"color: #7fbfbf; text-decoration-color: #7fbfbf\">           </span>                                                                                                        \n",
       "<span style=\"color: #7fbfbf; text-decoration-color: #7fbfbf\">           </span>Question: Approximately what percentage of topologically associated domains in the GM12878 blood cell   \n",
       "<span style=\"color: #7fbfbf; text-decoration-color: #7fbfbf\">           </span>line does DiffDomain classify as reorganized in the K562 cell line?.                                    \n",
       "<span style=\"color: #7fbfbf; text-decoration-color: #7fbfbf\">           </span>                                                                                                        \n",
       "<span style=\"color: #7fbfbf; text-decoration-color: #7fbfbf\">           </span>Available Options:                                                                                      \n",
       "<span style=\"color: #7fbfbf; text-decoration-color: #7fbfbf\">           </span>                                                                                                        \n",
       "<span style=\"color: #7fbfbf; text-decoration-color: #7fbfbf\">           </span> A: <span style=\"color: #008080; text-decoration-color: #008080; font-weight: bold\">51</span>%                                                                                                 \n",
       "<span style=\"color: #7fbfbf; text-decoration-color: #7fbfbf\">           </span> B: <span style=\"color: #008080; text-decoration-color: #008080; font-weight: bold\">11</span>%                                                                                                 \n",
       "<span style=\"color: #7fbfbf; text-decoration-color: #7fbfbf\">           </span> C: <span style=\"color: #008080; text-decoration-color: #008080; font-weight: bold\">21</span>%                                                                                                 \n",
       "<span style=\"color: #7fbfbf; text-decoration-color: #7fbfbf\">           </span> D: <span style=\"color: #008080; text-decoration-color: #008080; font-weight: bold\">41</span>%                                                                                                 \n",
       "<span style=\"color: #7fbfbf; text-decoration-color: #7fbfbf\">           </span> E: <span style=\"color: #008080; text-decoration-color: #008080; font-weight: bold\">31</span>%                                                                                                 \n",
       "<span style=\"color: #7fbfbf; text-decoration-color: #7fbfbf\">           </span> <span style=\"color: #008080; text-decoration-color: #008080; font-weight: bold\">0</span>: unsure                                                                                              \n",
       "<span style=\"color: #7fbfbf; text-decoration-color: #7fbfbf\">           </span>                                                                                                        \n",
       "<span style=\"color: #7fbfbf; text-decoration-color: #7fbfbf\">           </span>                                                                                                        \n",
       "<span style=\"color: #7fbfbf; text-decoration-color: #7fbfbf\">           </span>Return your answer in the following format:                                                             \n",
       "<span style=\"color: #7fbfbf; text-decoration-color: #7fbfbf\">           </span>                                                                                                        \n",
       "<span style=\"color: #7fbfbf; text-decoration-color: #7fbfbf\">           </span><span style=\"color: #008000; text-decoration-color: #008000\">\"letter\"</span>.                                                                                               \n",
       "<span style=\"color: #7fbfbf; text-decoration-color: #7fbfbf\">           </span>                                                                                                        \n",
       "<span style=\"color: #7fbfbf; text-decoration-color: #7fbfbf\">           </span>where the letter denotes your chosen answer from the available options. Only include the letter and     \n",
       "<span style=\"color: #7fbfbf; text-decoration-color: #7fbfbf\">           </span>nothing else.                                                                                           \n",
       "<span style=\"color: #7fbfbf; text-decoration-color: #7fbfbf\">           </span><span style=\"color: #008000; text-decoration-color: #008000\">' as '</span>certain'.                                                                                         \n",
       "</pre>\n"
      ],
      "text/plain": [
       "\u001b[2;36m          \u001b[0m\u001b[2;36m \u001b[0mCompleting '                                                                                            \n",
       "\u001b[2;36m           \u001b[0mPlease answer the following multiple choice question.                                                   \n",
       "\u001b[2;36m           \u001b[0mReturn a single letter answer denoting your choice, or return \u001b[1;36m0\u001b[0m if you are unsure about the answer or   \n",
       "\u001b[2;36m           \u001b[0munable to answer.                                                                                       \n",
       "\u001b[2;36m           \u001b[0m                                                                                                        \n",
       "\u001b[2;36m           \u001b[0mQuestion: Approximately what percentage of topologically associated domains in the GM12878 blood cell   \n",
       "\u001b[2;36m           \u001b[0mline does DiffDomain classify as reorganized in the K562 cell line?.                                    \n",
       "\u001b[2;36m           \u001b[0m                                                                                                        \n",
       "\u001b[2;36m           \u001b[0mAvailable Options:                                                                                      \n",
       "\u001b[2;36m           \u001b[0m                                                                                                        \n",
       "\u001b[2;36m           \u001b[0m A: \u001b[1;36m51\u001b[0m%                                                                                                 \n",
       "\u001b[2;36m           \u001b[0m B: \u001b[1;36m11\u001b[0m%                                                                                                 \n",
       "\u001b[2;36m           \u001b[0m C: \u001b[1;36m21\u001b[0m%                                                                                                 \n",
       "\u001b[2;36m           \u001b[0m D: \u001b[1;36m41\u001b[0m%                                                                                                 \n",
       "\u001b[2;36m           \u001b[0m E: \u001b[1;36m31\u001b[0m%                                                                                                 \n",
       "\u001b[2;36m           \u001b[0m \u001b[1;36m0\u001b[0m: unsure                                                                                              \n",
       "\u001b[2;36m           \u001b[0m                                                                                                        \n",
       "\u001b[2;36m           \u001b[0m                                                                                                        \n",
       "\u001b[2;36m           \u001b[0mReturn your answer in the following format:                                                             \n",
       "\u001b[2;36m           \u001b[0m                                                                                                        \n",
       "\u001b[2;36m           \u001b[0m\u001b[32m\"letter\"\u001b[0m.                                                                                               \n",
       "\u001b[2;36m           \u001b[0m                                                                                                        \n",
       "\u001b[2;36m           \u001b[0mwhere the letter denotes your chosen answer from the available options. Only include the letter and     \n",
       "\u001b[2;36m           \u001b[0mnothing else.                                                                                           \n",
       "\u001b[2;36m           \u001b[0m\u001b[32m' as '\u001b[0mcertain'.                                                                                         \n"
      ]
     },
     "metadata": {},
     "output_type": "display_data"
    },
    {
     "data": {
      "text/html": [
       "<pre style=\"white-space:pre;overflow-x:auto;line-height:normal;font-family:Menlo,'DejaVu Sans Mono',consolas,'Courier New',monospace\"><span style=\"color: #7fbfbf; text-decoration-color: #7fbfbf\">           </span>Finished agent <span style=\"color: #008000; text-decoration-color: #008000\">'ToolSelector'</span> run with question <span style=\"color: #008000; text-decoration-color: #008000\">'\\nPlease answer the following multiple choice question.</span>\n",
       "<span style=\"color: #7fbfbf; text-decoration-color: #7fbfbf\">           </span><span style=\"color: #008000; text-decoration-color: #008000\">\\nReturn a single letter answer denoting your choice, or return 0 if you are unsure about the answer or </span>\n",
       "<span style=\"color: #7fbfbf; text-decoration-color: #7fbfbf\">           </span><span style=\"color: #008000; text-decoration-color: #008000\">unable to answer.\\n\\nQuestion: Approximately what percentage of topologically associated domains in the </span>\n",
       "<span style=\"color: #7fbfbf; text-decoration-color: #7fbfbf\">           </span><span style=\"color: #008000; text-decoration-color: #008000\">GM12878 blood cell line does DiffDomain classify as reorganized in the K562 cell line?. \\n\\nAvailable </span>  \n",
       "<span style=\"color: #7fbfbf; text-decoration-color: #7fbfbf\">           </span><span style=\"color: #008000; text-decoration-color: #008000\">Options:\\n\\n A: 51%\\n B: 11%\\n C: 21%\\n D: 41%\\n E: 31%\\n 0: unsure\\n\\n\\nReturn your answer in the </span>     \n",
       "<span style=\"color: #7fbfbf; text-decoration-color: #7fbfbf\">           </span><span style=\"color: #008000; text-decoration-color: #008000\">following format:\\n\\n\"letter\".\\n\\nwhere the letter denotes your chosen answer from the available </span>       \n",
       "<span style=\"color: #7fbfbf; text-decoration-color: #7fbfbf\">           </span><span style=\"color: #008000; text-decoration-color: #008000\">options. Only include the letter and nothing else. \\n'</span> and status success.                              \n",
       "</pre>\n"
      ],
      "text/plain": [
       "\u001b[2;36m          \u001b[0m\u001b[2;36m \u001b[0mFinished agent \u001b[32m'ToolSelector'\u001b[0m run with question \u001b[32m'\\nPlease answer the following multiple choice question.\u001b[0m\n",
       "\u001b[2;36m           \u001b[0m\u001b[32m\\nReturn a single letter answer denoting your choice, or return 0 if you are unsure about the answer or \u001b[0m\n",
       "\u001b[2;36m           \u001b[0m\u001b[32munable to answer.\\n\\nQuestion: Approximately what percentage of topologically associated domains in the \u001b[0m\n",
       "\u001b[2;36m           \u001b[0m\u001b[32mGM12878 blood cell line does DiffDomain classify as reorganized in the K562 cell line?. \\n\\nAvailable \u001b[0m  \n",
       "\u001b[2;36m           \u001b[0m\u001b[32mOptions:\\n\\n A: 51%\\n B: 11%\\n C: 21%\\n D: 41%\\n E: 31%\\n 0: unsure\\n\\n\\nReturn your answer in the \u001b[0m     \n",
       "\u001b[2;36m           \u001b[0m\u001b[32mfollowing format:\\n\\n\"letter\".\\n\\nwhere the letter denotes your chosen answer from the available \u001b[0m       \n",
       "\u001b[2;36m           \u001b[0m\u001b[32moptions. Only include the letter and nothing else. \\n'\u001b[0m and status success.                              \n"
      ]
     },
     "metadata": {},
     "output_type": "display_data"
    },
    {
     "data": {
      "text/html": [
       "<pre style=\"white-space:pre;overflow-x:auto;line-height:normal;font-family:Menlo,'DejaVu Sans Mono',consolas,'Courier New',monospace\"><span style=\"color: #7fbfbf; text-decoration-color: #7fbfbf\">           </span><span style=\"color: #000080; text-decoration-color: #000080; font-weight: bold\">Answer: </span><span style=\"color: #008000; text-decoration-color: #008000\">\"E\"</span>                                                                                             \n",
       "</pre>\n"
      ],
      "text/plain": [
       "\u001b[2;36m          \u001b[0m\u001b[2;36m \u001b[0m\u001b[1;34mAnswer: \u001b[0m\u001b[32m\"E\"\u001b[0m                                                                                             \n"
      ]
     },
     "metadata": {},
     "output_type": "display_data"
    }
   ],
   "source": [
    "# Run the nest_asyncio for notebook use\n",
    "nest_asyncio.apply()\n",
    "\n",
    "# Ask Question:\n",
    "test_response = ask(query=prompt, settings=paperqa_settings)"
   ]
  },
  {
   "cell_type": "markdown",
   "metadata": {},
   "source": [
    "Despite all of the temperature settings set to 0, multiple runs of the same prompt give different answers. \n"
   ]
  }
 ],
 "metadata": {
  "kernelspec": {
   "display_name": "venv_paperQA2",
   "language": "python",
   "name": "python3"
  },
  "language_info": {
   "codemirror_mode": {
    "name": "ipython",
    "version": 3
   },
   "file_extension": ".py",
   "mimetype": "text/x-python",
   "name": "python",
   "nbconvert_exporter": "python",
   "pygments_lexer": "ipython3",
   "version": "3.12.3"
  }
 },
 "nbformat": 4,
 "nbformat_minor": 2
}

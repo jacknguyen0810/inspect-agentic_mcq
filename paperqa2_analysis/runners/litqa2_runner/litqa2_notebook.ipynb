{
 "cells": [
  {
   "cell_type": "markdown",
   "metadata": {},
   "source": [
    "# Exploratory Data Analysis and Experimentation for LitQA2 Benchmark\n",
    "\n",
    "## Tasks: \n",
    "\n",
    "- Recreate the figure found within the paper (specifically the figure about the LitQA2 Question Answering Benchmark)\n",
    "\n",
    "\n",
    "## Specific LLM and PaperQA settings\n",
    "\n",
    "- ```agent_llm``` fixed to ```gpt-4-turbo-2024-04-09```\n",
    "- ```consider_sources``` (the top-k settings) set to 30\n",
    "- ```max_sources``` set to 5"
   ]
  },
  {
   "cell_type": "code",
   "execution_count": 1,
   "metadata": {},
   "outputs": [],
   "source": [
    "# Import libraries\n",
    "from os import path\n",
    "import random\n",
    "\n",
    "import pandas as pd\n",
    "import numpy as np\n",
    "from paperqa import ask, Settings, agent_query\n",
    "from paperqa.settings import AgentSettings, AnswerSettings, IndexSettings"
   ]
  },
  {
   "cell_type": "code",
   "execution_count": 2,
   "metadata": {},
   "outputs": [
    {
     "data": {
      "text/html": [
       "<div>\n",
       "<style scoped>\n",
       "    .dataframe tbody tr th:only-of-type {\n",
       "        vertical-align: middle;\n",
       "    }\n",
       "\n",
       "    .dataframe tbody tr th {\n",
       "        vertical-align: top;\n",
       "    }\n",
       "\n",
       "    .dataframe thead th {\n",
       "        text-align: right;\n",
       "    }\n",
       "</style>\n",
       "<table border=\"1\" class=\"dataframe\">\n",
       "  <thead>\n",
       "    <tr style=\"text-align: right;\">\n",
       "      <th></th>\n",
       "      <th>id</th>\n",
       "      <th>question</th>\n",
       "      <th>ideal</th>\n",
       "      <th>distractors</th>\n",
       "      <th>canary</th>\n",
       "      <th>tag</th>\n",
       "      <th>version</th>\n",
       "      <th>sources</th>\n",
       "      <th>is_opensource</th>\n",
       "      <th>subtask</th>\n",
       "      <th>key-passage</th>\n",
       "    </tr>\n",
       "  </thead>\n",
       "  <tbody>\n",
       "    <tr>\n",
       "      <th>0</th>\n",
       "      <td>e6ece709-c919-4388-9f64-ab0e0822b03a</td>\n",
       "      <td>Approximately what percentage of topologically...</td>\n",
       "      <td>31%</td>\n",
       "      <td>[21%, 11%, 41%, 51%]</td>\n",
       "      <td>BENCHMARK DATA SHOULD NEVER APPEAR IN TRAINING...</td>\n",
       "      <td>litqa</td>\n",
       "      <td>1.1-dev</td>\n",
       "      <td>[https://doi.org/10.1038/s41467-024-44782-6]</td>\n",
       "      <td>True</td>\n",
       "      <td>litqa-v2-test</td>\n",
       "      <td>Good control in FPR does not necessarily repre...</td>\n",
       "    </tr>\n",
       "    <tr>\n",
       "      <th>1</th>\n",
       "      <td>813a9053-3f67-4d58-80af-02153de90ae4</td>\n",
       "      <td>At least how long do SynNotch-MCF10DCIS cells ...</td>\n",
       "      <td>72 h</td>\n",
       "      <td>[24, 48 h, 0 h, 12 h, 6 h, 96 h]</td>\n",
       "      <td>BENCHMARK DATA SHOULD NEVER APPEAR IN TRAINING...</td>\n",
       "      <td>litqa</td>\n",
       "      <td>1.1-dev</td>\n",
       "      <td>[https://doi.org/10.1073/pnas.2322688121]</td>\n",
       "      <td>True</td>\n",
       "      <td>litqa-v2-test</td>\n",
       "      <td>Spatial heterogeneity within tumors due to var...</td>\n",
       "    </tr>\n",
       "    <tr>\n",
       "      <th>2</th>\n",
       "      <td>831621de-5e32-4006-af84-a40dba100866</td>\n",
       "      <td>DK015 and DK038 strains of Verticillium dahlia...</td>\n",
       "      <td>95%</td>\n",
       "      <td>[94%, 96%, 97%, 98%]</td>\n",
       "      <td>BENCHMARK DATA SHOULD NEVER APPEAR IN TRAINING...</td>\n",
       "      <td>litqa</td>\n",
       "      <td>1.1-dev</td>\n",
       "      <td>[https://doi.org/10.1186/s12915-024-01900-6]</td>\n",
       "      <td>True</td>\n",
       "      <td>litqa-v2-test</td>\n",
       "      <td>The strains DK015 and DK038, with opposite MAT...</td>\n",
       "    </tr>\n",
       "    <tr>\n",
       "      <th>3</th>\n",
       "      <td>3e6d7a54-5b8a-4aa0-ac6e-1fce986d1636</td>\n",
       "      <td>Expression of which of the following genes was...</td>\n",
       "      <td>Aldh1l1</td>\n",
       "      <td>[MAPK, Actin, none of the above]</td>\n",
       "      <td>BENCHMARK DATA SHOULD NEVER APPEAR IN TRAINING...</td>\n",
       "      <td>litqa</td>\n",
       "      <td>1.1-dev</td>\n",
       "      <td>[https://doi.org/10.1073/pnas.2321711121]</td>\n",
       "      <td>True</td>\n",
       "      <td>litqa-v2-test</td>\n",
       "      <td>The mitogen-activated protein kinase (MAPK) pa...</td>\n",
       "    </tr>\n",
       "    <tr>\n",
       "      <th>4</th>\n",
       "      <td>e4579ca5-c7d4-47a0-88f5-8adc460fc936</td>\n",
       "      <td>For which of the following Trub1 substrates di...</td>\n",
       "      <td>SCP2</td>\n",
       "      <td>[FBXO5, HECTD1, NKAIN1, CCDC22, IDI1]</td>\n",
       "      <td>BENCHMARK DATA SHOULD NEVER APPEAR IN TRAINING...</td>\n",
       "      <td>litqa</td>\n",
       "      <td>1.1-dev</td>\n",
       "      <td>[https://doi.org/10.1101/2024.03.26.586895]</td>\n",
       "      <td>True</td>\n",
       "      <td>litqa-v2-test</td>\n",
       "      <td>Among the Trub1 substrates, FBXO5 (chr6:152975...</td>\n",
       "    </tr>\n",
       "  </tbody>\n",
       "</table>\n",
       "</div>"
      ],
      "text/plain": [
       "                                     id  \\\n",
       "0  e6ece709-c919-4388-9f64-ab0e0822b03a   \n",
       "1  813a9053-3f67-4d58-80af-02153de90ae4   \n",
       "2  831621de-5e32-4006-af84-a40dba100866   \n",
       "3  3e6d7a54-5b8a-4aa0-ac6e-1fce986d1636   \n",
       "4  e4579ca5-c7d4-47a0-88f5-8adc460fc936   \n",
       "\n",
       "                                            question    ideal  \\\n",
       "0  Approximately what percentage of topologically...      31%   \n",
       "1  At least how long do SynNotch-MCF10DCIS cells ...     72 h   \n",
       "2  DK015 and DK038 strains of Verticillium dahlia...      95%   \n",
       "3  Expression of which of the following genes was...  Aldh1l1   \n",
       "4  For which of the following Trub1 substrates di...     SCP2   \n",
       "\n",
       "                             distractors  \\\n",
       "0                   [21%, 11%, 41%, 51%]   \n",
       "1       [24, 48 h, 0 h, 12 h, 6 h, 96 h]   \n",
       "2                   [94%, 96%, 97%, 98%]   \n",
       "3       [MAPK, Actin, none of the above]   \n",
       "4  [FBXO5, HECTD1, NKAIN1, CCDC22, IDI1]   \n",
       "\n",
       "                                              canary    tag  version  \\\n",
       "0  BENCHMARK DATA SHOULD NEVER APPEAR IN TRAINING...  litqa  1.1-dev   \n",
       "1  BENCHMARK DATA SHOULD NEVER APPEAR IN TRAINING...  litqa  1.1-dev   \n",
       "2  BENCHMARK DATA SHOULD NEVER APPEAR IN TRAINING...  litqa  1.1-dev   \n",
       "3  BENCHMARK DATA SHOULD NEVER APPEAR IN TRAINING...  litqa  1.1-dev   \n",
       "4  BENCHMARK DATA SHOULD NEVER APPEAR IN TRAINING...  litqa  1.1-dev   \n",
       "\n",
       "                                        sources  is_opensource        subtask  \\\n",
       "0  [https://doi.org/10.1038/s41467-024-44782-6]           True  litqa-v2-test   \n",
       "1     [https://doi.org/10.1073/pnas.2322688121]           True  litqa-v2-test   \n",
       "2  [https://doi.org/10.1186/s12915-024-01900-6]           True  litqa-v2-test   \n",
       "3     [https://doi.org/10.1073/pnas.2321711121]           True  litqa-v2-test   \n",
       "4   [https://doi.org/10.1101/2024.03.26.586895]           True  litqa-v2-test   \n",
       "\n",
       "                                         key-passage  \n",
       "0  Good control in FPR does not necessarily repre...  \n",
       "1  Spatial heterogeneity within tumors due to var...  \n",
       "2  The strains DK015 and DK038, with opposite MAT...  \n",
       "3  The mitogen-activated protein kinase (MAPK) pa...  \n",
       "4  Among the Trub1 substrates, FBXO5 (chr6:152975...  "
      ]
     },
     "execution_count": 2,
     "metadata": {},
     "output_type": "execute_result"
    }
   ],
   "source": [
    "# Import the data from LitQA2 data \n",
    "\n",
    "# Path for the data from the authors found in the parquet file\n",
    "data_path = path.join(\"data\", \"LitQA_data\", \"LitQA_full_pdfs\", \"train-00000-of-00001.parquet\")\n",
    "\n",
    "litqa2_data = pd.read_parquet(\"/root/paperQA2_analysis/data/LitQA_data/test-00000-of-00001.parquet\")\n",
    "\n",
    "litqa2_data.head()"
   ]
  },
  {
   "cell_type": "markdown",
   "metadata": {},
   "source": [
    "Set Up Question Prompt"
   ]
  },
  {
   "cell_type": "code",
   "execution_count": 1,
   "metadata": {},
   "outputs": [
    {
     "ename": "NameError",
     "evalue": "name 'np' is not defined",
     "output_type": "error",
     "traceback": [
      "\u001b[0;31m---------------------------------------------------------------------------\u001b[0m",
      "\u001b[0;31mNameError\u001b[0m                                 Traceback (most recent call last)",
      "Cell \u001b[0;32mIn[1], line 4\u001b[0m\n\u001b[1;32m      1\u001b[0m \u001b[38;5;66;03m# Set up the question prompt:\u001b[39;00m\n\u001b[1;32m      2\u001b[0m \n\u001b[1;32m      3\u001b[0m \u001b[38;5;66;03m# Set random seed\u001b[39;00m\n\u001b[0;32m----> 4\u001b[0m \u001b[43mnp\u001b[49m\u001b[38;5;241m.\u001b[39mrandom\u001b[38;5;241m.\u001b[39mseed(\u001b[38;5;241m81001\u001b[39m)\n\u001b[1;32m      6\u001b[0m \u001b[38;5;66;03m# Define a function to randomize the answers to a letter:\u001b[39;00m\n\u001b[1;32m      7\u001b[0m \u001b[38;5;28;01mdef\u001b[39;00m\u001b[38;5;250m \u001b[39m\u001b[38;5;21mrandomize_question_letter\u001b[39m(answers: \u001b[38;5;28mlist\u001b[39m):\n\u001b[1;32m      8\u001b[0m     \u001b[38;5;66;03m# Create an index of letters to use\u001b[39;00m\n",
      "\u001b[0;31mNameError\u001b[0m: name 'np' is not defined"
     ]
    }
   ],
   "source": [
    "# Set up the question prompt:\n",
    "\n",
    "# Set random seed\n",
    "np.random.seed(81001)\n",
    "\n",
    "# Define a function to randomize the answers to a letter:\n",
    "def randomize_question_letter(answers: list):\n",
    "    # Create an index of letters to use\n",
    "    letters = [\"A\", \"B\", \"C\", \"D\", \"E\", \"F\", \"G\", \"H\", \"I\", \"J\", \"K\"]\n",
    "    \n",
    "    # Use a set to get unique answers\n",
    "    unique_ans = list(set(answers))\n",
    "    \n",
    "    # Shuffle the list\n",
    "    random.shuffle(unique_ans)\n",
    "    \n",
    "    answers = {}\n",
    "    \n",
    "    # Randomly assign letter to question:\n",
    "    for i in range(len(unique_ans)):\n",
    "        answers[letters[i]] = unique_ans[i]\n",
    "    return answers\n",
    "        \n",
    "# Check if it works\n",
    "correct_answer = str(litqa2_data[\"ideal\"][0])\n",
    "possible_answers = [str(i) for i in litqa2_data[\"distractors\"][0]]\n",
    "possible_answers.append(correct_answer)\n",
    "answer_options = randomize_question_letter(possible_answers)\n",
    "print(answer_options)"
   ]
  },
  {
   "cell_type": "code",
   "execution_count": 5,
   "metadata": {},
   "outputs": [
    {
     "name": "stdout",
     "output_type": "stream",
     "text": [
      "\n",
      "Please answer the following multiple choice question. \n",
      "Return a single letter answer denoting your choice, or return 0 if you are unsure about the answer or unable to answer.\n",
      "\n",
      "Question: Approximately what percentage of topologically associated domains in the GM12878 blood cell line does DiffDomain classify as reorganized in the K562 cell line?. \n",
      "\n",
      "Answer Options:\n",
      "\n",
      " A: 21%\n",
      " B: 31%\n",
      " C: 51%\n",
      " D: 41%\n",
      " E: 11%\n",
      " 0: unsure\n"
     ]
    }
   ],
   "source": [
    "# Create prompt\n",
    "prompt = f\"\"\"\n",
    "Please answer the following multiple choice question. \n",
    "Return a single letter answer denoting your choice, or return 0 if you are unsure about the answer or unable to answer.\n",
    "\n",
    "Question: {litqa2_data[\"question\"][0]}. \n",
    "\n",
    "Answer Options:\n",
    "\"\"\"\n",
    "\n",
    "# Add the answer options\n",
    "for key, val in answer_options.items():\n",
    "    prompt += f\"\\n {key}: {val}\"\n",
    "    \n",
    "# Add the prompt for unsure:#\n",
    "prompt += f\"\\n 0: unsure\"\n",
    "    \n",
    "print(prompt)"
   ]
  },
  {
   "cell_type": "markdown",
   "metadata": {},
   "source": [
    "Use the Agent Query to call the model and answer the questions using the agent_query call"
   ]
  },
  {
   "cell_type": "code",
   "execution_count": null,
   "metadata": {},
   "outputs": [
    {
     "data": {
      "text/html": [
       "<pre style=\"white-space:pre;overflow-x:auto;line-height:normal;font-family:Menlo,'DejaVu Sans Mono',consolas,'Courier New',monospace\"><span style=\"color: #7fbfbf; text-decoration-color: #7fbfbf\">[22:43:00] </span>Starting paper search for <span style=\"color: #008000; text-decoration-color: #008000\">'topologically associated domains DiffDomain GM12878 K562'</span>.                   \n",
       "</pre>\n"
      ],
      "text/plain": [
       "\u001b[2;36m[22:43:00]\u001b[0m\u001b[2;36m \u001b[0mStarting paper search for \u001b[32m'topologically associated domains DiffDomain GM12878 K562'\u001b[0m.                   \n"
      ]
     },
     "metadata": {},
     "output_type": "display_data"
    },
    {
     "data": {
      "text/html": [
       "<pre style=\"white-space:pre;overflow-x:auto;line-height:normal;font-family:Menlo,'DejaVu Sans Mono',consolas,'Courier New',monospace\"><span style=\"color: #7fbfbf; text-decoration-color: #7fbfbf\">           </span>paper_search for query <span style=\"color: #008000; text-decoration-color: #008000\">'topologically associated domains DiffDomain GM12878 K562'</span> and offset <span style=\"color: #008080; text-decoration-color: #008080; font-weight: bold\">0</span> returned \n",
       "<span style=\"color: #7fbfbf; text-decoration-color: #7fbfbf\">           </span><span style=\"color: #008080; text-decoration-color: #008080; font-weight: bold\">8</span> papers.                                                                                               \n",
       "</pre>\n"
      ],
      "text/plain": [
       "\u001b[2;36m          \u001b[0m\u001b[2;36m \u001b[0mpaper_search for query \u001b[32m'topologically associated domains DiffDomain GM12878 K562'\u001b[0m and offset \u001b[1;36m0\u001b[0m returned \n",
       "\u001b[2;36m           \u001b[0m\u001b[1;36m8\u001b[0m papers.                                                                                               \n"
      ]
     },
     "metadata": {},
     "output_type": "display_data"
    },
    {
     "data": {
      "text/html": [
       "<pre style=\"white-space:pre;overflow-x:auto;line-height:normal;font-family:Menlo,'DejaVu Sans Mono',consolas,'Courier New',monospace\"><span style=\"color: #7fbfbf; text-decoration-color: #7fbfbf\">           </span>Status: Paper <span style=\"color: #808000; text-decoration-color: #808000\">Count</span>=<span style=\"color: #008080; text-decoration-color: #008080; font-weight: bold\">8</span> | Relevant <span style=\"color: #808000; text-decoration-color: #808000\">Papers</span>=<span style=\"color: #008080; text-decoration-color: #008080; font-weight: bold\">0</span> | Current <span style=\"color: #808000; text-decoration-color: #808000\">Evidence</span>=<span style=\"color: #008080; text-decoration-color: #008080; font-weight: bold\">0</span> | Current <span style=\"color: #808000; text-decoration-color: #808000\">Cost</span>=$<span style=\"color: #008080; text-decoration-color: #008080; font-weight: bold\">0.0001</span>                   \n",
       "</pre>\n"
      ],
      "text/plain": [
       "\u001b[2;36m          \u001b[0m\u001b[2;36m \u001b[0mStatus: Paper \u001b[33mCount\u001b[0m=\u001b[1;36m8\u001b[0m | Relevant \u001b[33mPapers\u001b[0m=\u001b[1;36m0\u001b[0m | Current \u001b[33mEvidence\u001b[0m=\u001b[1;36m0\u001b[0m | Current \u001b[33mCost\u001b[0m=$\u001b[1;36m0.0001\u001b[0m                   \n"
      ]
     },
     "metadata": {},
     "output_type": "display_data"
    },
    {
     "data": {
      "text/html": [
       "<pre style=\"white-space:pre;overflow-x:auto;line-height:normal;font-family:Menlo,'DejaVu Sans Mono',consolas,'Courier New',monospace\"><span style=\"color: #7fbfbf; text-decoration-color: #7fbfbf\">[22:43:01] </span>gather_evidence starting for question <span style=\"color: #008000; text-decoration-color: #008000\">'Approximately what percentage of topologically associated domains</span>\n",
       "<span style=\"color: #7fbfbf; text-decoration-color: #7fbfbf\">           </span><span style=\"color: #008000; text-decoration-color: #008000\">in the GM12878 blood cell line does DiffDomain classify as reorganized in the K562 cell line?'</span>.         \n",
       "</pre>\n"
      ],
      "text/plain": [
       "\u001b[2;36m[22:43:01]\u001b[0m\u001b[2;36m \u001b[0mgather_evidence starting for question \u001b[32m'Approximately what percentage of topologically associated domains\u001b[0m\n",
       "\u001b[2;36m           \u001b[0m\u001b[32min the GM12878 blood cell line does DiffDomain classify as reorganized in the K562 cell line?'\u001b[0m.         \n"
      ]
     },
     "metadata": {},
     "output_type": "display_data"
    },
    {
     "name": "stderr",
     "output_type": "stream",
     "text": [
      "Encountered exception during tool call for tool gather_evidence: litellm.NotFoundError: OpenAIException - Error code: 403 - {'error': {'message': 'Project `proj_8WO6cHG6Ics15ycd35qOE2RY` does not have access to model `gpt-4o-2024-11-20`', 'type': 'invalid_request_error', 'param': None, 'code': 'model_not_found'}}\n",
      "Received Model Group=gpt-4o-2024-11-20\n",
      "Available Model Group Fallbacks=None\n"
     ]
    },
    {
     "data": {
      "text/html": [
       "<pre style=\"white-space:pre;overflow-x:auto;line-height:normal;font-family:Menlo,'DejaVu Sans Mono',consolas,'Courier New',monospace\"><span style=\"color: #7fbfbf; text-decoration-color: #7fbfbf\">[22:43:03] </span>Resetting '                                                                                             \n",
       "<span style=\"color: #7fbfbf; text-decoration-color: #7fbfbf\">           </span>Please answer the following multiple choice question.                                                   \n",
       "<span style=\"color: #7fbfbf; text-decoration-color: #7fbfbf\">           </span>Return a single letter answer denoting your choice, or return <span style=\"color: #008080; text-decoration-color: #008080; font-weight: bold\">0</span> if you are unsure about the answer or   \n",
       "<span style=\"color: #7fbfbf; text-decoration-color: #7fbfbf\">           </span>unable to answer.                                                                                       \n",
       "<span style=\"color: #7fbfbf; text-decoration-color: #7fbfbf\">           </span>                                                                                                        \n",
       "<span style=\"color: #7fbfbf; text-decoration-color: #7fbfbf\">           </span>Question: Approximately what percentage of topologically associated domains in the GM12878 blood cell   \n",
       "<span style=\"color: #7fbfbf; text-decoration-color: #7fbfbf\">           </span>line does DiffDomain classify as reorganized in the K562 cell line?.                                    \n",
       "<span style=\"color: #7fbfbf; text-decoration-color: #7fbfbf\">           </span>                                                                                                        \n",
       "<span style=\"color: #7fbfbf; text-decoration-color: #7fbfbf\">           </span>Answer Options:                                                                                         \n",
       "<span style=\"color: #7fbfbf; text-decoration-color: #7fbfbf\">           </span>                                                                                                        \n",
       "<span style=\"color: #7fbfbf; text-decoration-color: #7fbfbf\">           </span> A: <span style=\"color: #008080; text-decoration-color: #008080; font-weight: bold\">21</span>%                                                                                                 \n",
       "<span style=\"color: #7fbfbf; text-decoration-color: #7fbfbf\">           </span> B: <span style=\"color: #008080; text-decoration-color: #008080; font-weight: bold\">31</span>%                                                                                                 \n",
       "<span style=\"color: #7fbfbf; text-decoration-color: #7fbfbf\">           </span> C: <span style=\"color: #008080; text-decoration-color: #008080; font-weight: bold\">51</span>%                                                                                                 \n",
       "<span style=\"color: #7fbfbf; text-decoration-color: #7fbfbf\">           </span> D: <span style=\"color: #008080; text-decoration-color: #008080; font-weight: bold\">41</span>%                                                                                                 \n",
       "<span style=\"color: #7fbfbf; text-decoration-color: #7fbfbf\">           </span> E: <span style=\"color: #008080; text-decoration-color: #008080; font-weight: bold\">11</span>%                                                                                                 \n",
       "<span style=\"color: #7fbfbf; text-decoration-color: #7fbfbf\">           </span> <span style=\"color: #008080; text-decoration-color: #008080; font-weight: bold\">0</span>: unsure'.                                                                                            \n",
       "</pre>\n"
      ],
      "text/plain": [
       "\u001b[2;36m[22:43:03]\u001b[0m\u001b[2;36m \u001b[0mResetting '                                                                                             \n",
       "\u001b[2;36m           \u001b[0mPlease answer the following multiple choice question.                                                   \n",
       "\u001b[2;36m           \u001b[0mReturn a single letter answer denoting your choice, or return \u001b[1;36m0\u001b[0m if you are unsure about the answer or   \n",
       "\u001b[2;36m           \u001b[0munable to answer.                                                                                       \n",
       "\u001b[2;36m           \u001b[0m                                                                                                        \n",
       "\u001b[2;36m           \u001b[0mQuestion: Approximately what percentage of topologically associated domains in the GM12878 blood cell   \n",
       "\u001b[2;36m           \u001b[0mline does DiffDomain classify as reorganized in the K562 cell line?.                                    \n",
       "\u001b[2;36m           \u001b[0m                                                                                                        \n",
       "\u001b[2;36m           \u001b[0mAnswer Options:                                                                                         \n",
       "\u001b[2;36m           \u001b[0m                                                                                                        \n",
       "\u001b[2;36m           \u001b[0m A: \u001b[1;36m21\u001b[0m%                                                                                                 \n",
       "\u001b[2;36m           \u001b[0m B: \u001b[1;36m31\u001b[0m%                                                                                                 \n",
       "\u001b[2;36m           \u001b[0m C: \u001b[1;36m51\u001b[0m%                                                                                                 \n",
       "\u001b[2;36m           \u001b[0m D: \u001b[1;36m41\u001b[0m%                                                                                                 \n",
       "\u001b[2;36m           \u001b[0m E: \u001b[1;36m11\u001b[0m%                                                                                                 \n",
       "\u001b[2;36m           \u001b[0m \u001b[1;36m0\u001b[0m: unsure'.                                                                                            \n"
      ]
     },
     "metadata": {},
     "output_type": "display_data"
    },
    {
     "data": {
      "text/html": [
       "<pre style=\"white-space:pre;overflow-x:auto;line-height:normal;font-family:Menlo,'DejaVu Sans Mono',consolas,'Courier New',monospace\"><span style=\"color: #7fbfbf; text-decoration-color: #7fbfbf\">[22:43:04] </span>Starting paper search for <span style=\"color: #008000; text-decoration-color: #008000\">'topologically associated domains DiffDomain GM12878 K562'</span>.                   \n",
       "</pre>\n"
      ],
      "text/plain": [
       "\u001b[2;36m[22:43:04]\u001b[0m\u001b[2;36m \u001b[0mStarting paper search for \u001b[32m'topologically associated domains DiffDomain GM12878 K562'\u001b[0m.                   \n"
      ]
     },
     "metadata": {},
     "output_type": "display_data"
    },
    {
     "data": {
      "text/html": [
       "<pre style=\"white-space:pre;overflow-x:auto;line-height:normal;font-family:Menlo,'DejaVu Sans Mono',consolas,'Courier New',monospace\"><span style=\"color: #7fbfbf; text-decoration-color: #7fbfbf\">           </span>paper_search for query <span style=\"color: #008000; text-decoration-color: #008000\">'topologically associated domains DiffDomain GM12878 K562'</span> and offset <span style=\"color: #008080; text-decoration-color: #008080; font-weight: bold\">8</span> returned \n",
       "<span style=\"color: #7fbfbf; text-decoration-color: #7fbfbf\">           </span><span style=\"color: #008080; text-decoration-color: #008080; font-weight: bold\">8</span> papers.                                                                                               \n",
       "</pre>\n"
      ],
      "text/plain": [
       "\u001b[2;36m          \u001b[0m\u001b[2;36m \u001b[0mpaper_search for query \u001b[32m'topologically associated domains DiffDomain GM12878 K562'\u001b[0m and offset \u001b[1;36m8\u001b[0m returned \n",
       "\u001b[2;36m           \u001b[0m\u001b[1;36m8\u001b[0m papers.                                                                                               \n"
      ]
     },
     "metadata": {},
     "output_type": "display_data"
    },
    {
     "data": {
      "text/html": [
       "<pre style=\"white-space:pre;overflow-x:auto;line-height:normal;font-family:Menlo,'DejaVu Sans Mono',consolas,'Courier New',monospace\"><span style=\"color: #7fbfbf; text-decoration-color: #7fbfbf\">           </span>Status: Paper <span style=\"color: #808000; text-decoration-color: #808000\">Count</span>=<span style=\"color: #008080; text-decoration-color: #008080; font-weight: bold\">16</span> | Relevant <span style=\"color: #808000; text-decoration-color: #808000\">Papers</span>=<span style=\"color: #008080; text-decoration-color: #008080; font-weight: bold\">0</span> | Current <span style=\"color: #808000; text-decoration-color: #808000\">Evidence</span>=<span style=\"color: #008080; text-decoration-color: #008080; font-weight: bold\">0</span> | Current <span style=\"color: #808000; text-decoration-color: #808000\">Cost</span>=$<span style=\"color: #008080; text-decoration-color: #008080; font-weight: bold\">0.0006</span>                  \n",
       "</pre>\n"
      ],
      "text/plain": [
       "\u001b[2;36m          \u001b[0m\u001b[2;36m \u001b[0mStatus: Paper \u001b[33mCount\u001b[0m=\u001b[1;36m16\u001b[0m | Relevant \u001b[33mPapers\u001b[0m=\u001b[1;36m0\u001b[0m | Current \u001b[33mEvidence\u001b[0m=\u001b[1;36m0\u001b[0m | Current \u001b[33mCost\u001b[0m=$\u001b[1;36m0.0006\u001b[0m                  \n"
      ]
     },
     "metadata": {},
     "output_type": "display_data"
    },
    {
     "data": {
      "text/html": [
       "<pre style=\"white-space:pre;overflow-x:auto;line-height:normal;font-family:Menlo,'DejaVu Sans Mono',consolas,'Courier New',monospace\"><span style=\"color: #7fbfbf; text-decoration-color: #7fbfbf\">[22:43:06] </span>gather_evidence starting for question <span style=\"color: #008000; text-decoration-color: #008000\">'Approximately what percentage of topologically associated domains</span>\n",
       "<span style=\"color: #7fbfbf; text-decoration-color: #7fbfbf\">           </span><span style=\"color: #008000; text-decoration-color: #008000\">in the GM12878 blood cell line does DiffDomain classify as reorganized in the K562 cell line?'</span>.         \n",
       "</pre>\n"
      ],
      "text/plain": [
       "\u001b[2;36m[22:43:06]\u001b[0m\u001b[2;36m \u001b[0mgather_evidence starting for question \u001b[32m'Approximately what percentage of topologically associated domains\u001b[0m\n",
       "\u001b[2;36m           \u001b[0m\u001b[32min the GM12878 blood cell line does DiffDomain classify as reorganized in the K562 cell line?'\u001b[0m.         \n"
      ]
     },
     "metadata": {},
     "output_type": "display_data"
    },
    {
     "name": "stderr",
     "output_type": "stream",
     "text": [
      "Encountered exception during tool call for tool gather_evidence: litellm.NotFoundError: OpenAIException - Error code: 403 - {'error': {'message': 'Project `proj_8WO6cHG6Ics15ycd35qOE2RY` does not have access to model `gpt-4o-2024-11-20`', 'type': 'invalid_request_error', 'param': None, 'code': 'model_not_found'}}\n",
      "Received Model Group=gpt-4o-2024-11-20\n",
      "Available Model Group Fallbacks=None\n"
     ]
    },
    {
     "data": {
      "text/html": [
       "<pre style=\"white-space:pre;overflow-x:auto;line-height:normal;font-family:Menlo,'DejaVu Sans Mono',consolas,'Courier New',monospace\"><span style=\"color: #7fbfbf; text-decoration-color: #7fbfbf\">[22:43:07] </span>Resetting '                                                                                             \n",
       "<span style=\"color: #7fbfbf; text-decoration-color: #7fbfbf\">           </span>Please answer the following multiple choice question.                                                   \n",
       "<span style=\"color: #7fbfbf; text-decoration-color: #7fbfbf\">           </span>Return a single letter answer denoting your choice, or return <span style=\"color: #008080; text-decoration-color: #008080; font-weight: bold\">0</span> if you are unsure about the answer or   \n",
       "<span style=\"color: #7fbfbf; text-decoration-color: #7fbfbf\">           </span>unable to answer.                                                                                       \n",
       "<span style=\"color: #7fbfbf; text-decoration-color: #7fbfbf\">           </span>                                                                                                        \n",
       "<span style=\"color: #7fbfbf; text-decoration-color: #7fbfbf\">           </span>Question: Approximately what percentage of topologically associated domains in the GM12878 blood cell   \n",
       "<span style=\"color: #7fbfbf; text-decoration-color: #7fbfbf\">           </span>line does DiffDomain classify as reorganized in the K562 cell line?.                                    \n",
       "<span style=\"color: #7fbfbf; text-decoration-color: #7fbfbf\">           </span>                                                                                                        \n",
       "<span style=\"color: #7fbfbf; text-decoration-color: #7fbfbf\">           </span>Answer Options:                                                                                         \n",
       "<span style=\"color: #7fbfbf; text-decoration-color: #7fbfbf\">           </span>                                                                                                        \n",
       "<span style=\"color: #7fbfbf; text-decoration-color: #7fbfbf\">           </span> A: <span style=\"color: #008080; text-decoration-color: #008080; font-weight: bold\">21</span>%                                                                                                 \n",
       "<span style=\"color: #7fbfbf; text-decoration-color: #7fbfbf\">           </span> B: <span style=\"color: #008080; text-decoration-color: #008080; font-weight: bold\">31</span>%                                                                                                 \n",
       "<span style=\"color: #7fbfbf; text-decoration-color: #7fbfbf\">           </span> C: <span style=\"color: #008080; text-decoration-color: #008080; font-weight: bold\">51</span>%                                                                                                 \n",
       "<span style=\"color: #7fbfbf; text-decoration-color: #7fbfbf\">           </span> D: <span style=\"color: #008080; text-decoration-color: #008080; font-weight: bold\">41</span>%                                                                                                 \n",
       "<span style=\"color: #7fbfbf; text-decoration-color: #7fbfbf\">           </span> E: <span style=\"color: #008080; text-decoration-color: #008080; font-weight: bold\">11</span>%                                                                                                 \n",
       "<span style=\"color: #7fbfbf; text-decoration-color: #7fbfbf\">           </span> <span style=\"color: #008080; text-decoration-color: #008080; font-weight: bold\">0</span>: unsure'.                                                                                            \n",
       "</pre>\n"
      ],
      "text/plain": [
       "\u001b[2;36m[22:43:07]\u001b[0m\u001b[2;36m \u001b[0mResetting '                                                                                             \n",
       "\u001b[2;36m           \u001b[0mPlease answer the following multiple choice question.                                                   \n",
       "\u001b[2;36m           \u001b[0mReturn a single letter answer denoting your choice, or return \u001b[1;36m0\u001b[0m if you are unsure about the answer or   \n",
       "\u001b[2;36m           \u001b[0munable to answer.                                                                                       \n",
       "\u001b[2;36m           \u001b[0m                                                                                                        \n",
       "\u001b[2;36m           \u001b[0mQuestion: Approximately what percentage of topologically associated domains in the GM12878 blood cell   \n",
       "\u001b[2;36m           \u001b[0mline does DiffDomain classify as reorganized in the K562 cell line?.                                    \n",
       "\u001b[2;36m           \u001b[0m                                                                                                        \n",
       "\u001b[2;36m           \u001b[0mAnswer Options:                                                                                         \n",
       "\u001b[2;36m           \u001b[0m                                                                                                        \n",
       "\u001b[2;36m           \u001b[0m A: \u001b[1;36m21\u001b[0m%                                                                                                 \n",
       "\u001b[2;36m           \u001b[0m B: \u001b[1;36m31\u001b[0m%                                                                                                 \n",
       "\u001b[2;36m           \u001b[0m C: \u001b[1;36m51\u001b[0m%                                                                                                 \n",
       "\u001b[2;36m           \u001b[0m D: \u001b[1;36m41\u001b[0m%                                                                                                 \n",
       "\u001b[2;36m           \u001b[0m E: \u001b[1;36m11\u001b[0m%                                                                                                 \n",
       "\u001b[2;36m           \u001b[0m \u001b[1;36m0\u001b[0m: unsure'.                                                                                            \n"
      ]
     },
     "metadata": {},
     "output_type": "display_data"
    },
    {
     "data": {
      "text/html": [
       "<pre style=\"white-space:pre;overflow-x:auto;line-height:normal;font-family:Menlo,'DejaVu Sans Mono',consolas,'Courier New',monospace\"><span style=\"color: #7fbfbf; text-decoration-color: #7fbfbf\">[22:43:08] </span>Starting paper search for <span style=\"color: #008000; text-decoration-color: #008000\">'topologically associated domains DiffDomain GM12878 K562'</span>.                   \n",
       "</pre>\n"
      ],
      "text/plain": [
       "\u001b[2;36m[22:43:08]\u001b[0m\u001b[2;36m \u001b[0mStarting paper search for \u001b[32m'topologically associated domains DiffDomain GM12878 K562'\u001b[0m.                   \n"
      ]
     },
     "metadata": {},
     "output_type": "display_data"
    },
    {
     "data": {
      "text/html": [
       "<pre style=\"white-space:pre;overflow-x:auto;line-height:normal;font-family:Menlo,'DejaVu Sans Mono',consolas,'Courier New',monospace\"><span style=\"color: #7fbfbf; text-decoration-color: #7fbfbf\">           </span>paper_search for query <span style=\"color: #008000; text-decoration-color: #008000\">'topologically associated domains DiffDomain GM12878 K562'</span> and offset <span style=\"color: #008080; text-decoration-color: #008080; font-weight: bold\">16</span> returned\n",
       "<span style=\"color: #7fbfbf; text-decoration-color: #7fbfbf\">           </span><span style=\"color: #008080; text-decoration-color: #008080; font-weight: bold\">8</span> papers.                                                                                               \n",
       "</pre>\n"
      ],
      "text/plain": [
       "\u001b[2;36m          \u001b[0m\u001b[2;36m \u001b[0mpaper_search for query \u001b[32m'topologically associated domains DiffDomain GM12878 K562'\u001b[0m and offset \u001b[1;36m16\u001b[0m returned\n",
       "\u001b[2;36m           \u001b[0m\u001b[1;36m8\u001b[0m papers.                                                                                               \n"
      ]
     },
     "metadata": {},
     "output_type": "display_data"
    },
    {
     "data": {
      "text/html": [
       "<pre style=\"white-space:pre;overflow-x:auto;line-height:normal;font-family:Menlo,'DejaVu Sans Mono',consolas,'Courier New',monospace\"><span style=\"color: #7fbfbf; text-decoration-color: #7fbfbf\">           </span>Status: Paper <span style=\"color: #808000; text-decoration-color: #808000\">Count</span>=<span style=\"color: #008080; text-decoration-color: #008080; font-weight: bold\">24</span> | Relevant <span style=\"color: #808000; text-decoration-color: #808000\">Papers</span>=<span style=\"color: #008080; text-decoration-color: #008080; font-weight: bold\">0</span> | Current <span style=\"color: #808000; text-decoration-color: #808000\">Evidence</span>=<span style=\"color: #008080; text-decoration-color: #008080; font-weight: bold\">0</span> | Current <span style=\"color: #808000; text-decoration-color: #808000\">Cost</span>=$<span style=\"color: #008080; text-decoration-color: #008080; font-weight: bold\">0.0012</span>                  \n",
       "</pre>\n"
      ],
      "text/plain": [
       "\u001b[2;36m          \u001b[0m\u001b[2;36m \u001b[0mStatus: Paper \u001b[33mCount\u001b[0m=\u001b[1;36m24\u001b[0m | Relevant \u001b[33mPapers\u001b[0m=\u001b[1;36m0\u001b[0m | Current \u001b[33mEvidence\u001b[0m=\u001b[1;36m0\u001b[0m | Current \u001b[33mCost\u001b[0m=$\u001b[1;36m0.0012\u001b[0m                  \n"
      ]
     },
     "metadata": {},
     "output_type": "display_data"
    },
    {
     "data": {
      "text/html": [
       "<pre style=\"white-space:pre;overflow-x:auto;line-height:normal;font-family:Menlo,'DejaVu Sans Mono',consolas,'Courier New',monospace\"><span style=\"color: #7fbfbf; text-decoration-color: #7fbfbf\">[22:43:10] </span>gather_evidence starting for question <span style=\"color: #008000; text-decoration-color: #008000\">'Approximately what percentage of topologically associated domains</span>\n",
       "<span style=\"color: #7fbfbf; text-decoration-color: #7fbfbf\">           </span><span style=\"color: #008000; text-decoration-color: #008000\">in the GM12878 blood cell line does DiffDomain classify as reorganized in the K562 cell line?'</span>.         \n",
       "</pre>\n"
      ],
      "text/plain": [
       "\u001b[2;36m[22:43:10]\u001b[0m\u001b[2;36m \u001b[0mgather_evidence starting for question \u001b[32m'Approximately what percentage of topologically associated domains\u001b[0m\n",
       "\u001b[2;36m           \u001b[0m\u001b[32min the GM12878 blood cell line does DiffDomain classify as reorganized in the K562 cell line?'\u001b[0m.         \n"
      ]
     },
     "metadata": {},
     "output_type": "display_data"
    },
    {
     "name": "stderr",
     "output_type": "stream",
     "text": [
      "Encountered exception during tool call for tool gather_evidence: litellm.NotFoundError: OpenAIException - Error code: 403 - {'error': {'message': 'Project `proj_8WO6cHG6Ics15ycd35qOE2RY` does not have access to model `gpt-4o-2024-11-20`', 'type': 'invalid_request_error', 'param': None, 'code': 'model_not_found'}}\n",
      "Received Model Group=gpt-4o-2024-11-20\n",
      "Available Model Group Fallbacks=None\n"
     ]
    },
    {
     "ename": "KeyboardInterrupt",
     "evalue": "",
     "output_type": "error",
     "traceback": [
      "\u001b[0;31m---------------------------------------------------------------------------\u001b[0m",
      "\u001b[0;31mKeyboardInterrupt\u001b[0m                         Traceback (most recent call last)",
      "Cell \u001b[0;32mIn[6], line 5\u001b[0m\n\u001b[1;32m      2\u001b[0m \u001b[38;5;28;01mimport\u001b[39;00m\u001b[38;5;250m \u001b[39m\u001b[38;5;21;01mnest_asyncio\u001b[39;00m\n\u001b[1;32m      3\u001b[0m nest_asyncio\u001b[38;5;241m.\u001b[39mapply()\n\u001b[0;32m----> 5\u001b[0m test_response \u001b[38;5;241m=\u001b[39m \u001b[43mask\u001b[49m\u001b[43m(\u001b[49m\n\u001b[1;32m      6\u001b[0m \u001b[43m    \u001b[49m\u001b[43mquery\u001b[49m\u001b[38;5;241;43m=\u001b[39;49m\u001b[43mprompt\u001b[49m\u001b[43m,\u001b[49m\n\u001b[1;32m      7\u001b[0m \u001b[43m    \u001b[49m\u001b[43msettings\u001b[49m\u001b[38;5;241;43m=\u001b[39;49m\u001b[43mSettings\u001b[49m\u001b[43m(\u001b[49m\n\u001b[1;32m      8\u001b[0m \u001b[43m        \u001b[49m\u001b[43mllm\u001b[49m\u001b[38;5;241;43m=\u001b[39;49m\u001b[38;5;124;43m\"\u001b[39;49m\u001b[38;5;124;43mgpt-4o-mini\u001b[39;49m\u001b[38;5;124;43m\"\u001b[39;49m\u001b[43m,\u001b[49m\n\u001b[1;32m      9\u001b[0m \u001b[43m        \u001b[49m\u001b[43mllm_config\u001b[49m\u001b[38;5;241;43m=\u001b[39;49m\u001b[43m{\u001b[49m\n\u001b[1;32m     10\u001b[0m \u001b[43m            \u001b[49m\u001b[38;5;124;43m\"\u001b[39;49m\u001b[38;5;124;43mmodel_list\u001b[39;49m\u001b[38;5;124;43m\"\u001b[39;49m\u001b[43m:\u001b[49m\u001b[43m \u001b[49m\u001b[43m[\u001b[49m\n\u001b[1;32m     11\u001b[0m \u001b[43m                \u001b[49m\u001b[43m{\u001b[49m\n\u001b[1;32m     12\u001b[0m \u001b[43m                    \u001b[49m\u001b[38;5;124;43m\"\u001b[39;49m\u001b[38;5;124;43mmodel_name\u001b[39;49m\u001b[38;5;124;43m\"\u001b[39;49m\u001b[43m:\u001b[49m\u001b[43m \u001b[49m\u001b[38;5;124;43m\"\u001b[39;49m\u001b[38;5;124;43mgpt-4o-mini\u001b[39;49m\u001b[38;5;124;43m\"\u001b[39;49m\u001b[43m,\u001b[49m\n\u001b[1;32m     13\u001b[0m \u001b[43m                    \u001b[49m\u001b[38;5;124;43m\"\u001b[39;49m\u001b[38;5;124;43mlitellm_params\u001b[39;49m\u001b[38;5;124;43m\"\u001b[39;49m\u001b[43m:\u001b[49m\u001b[43m \u001b[49m\u001b[43m{\u001b[49m\n\u001b[1;32m     14\u001b[0m \u001b[43m                        \u001b[49m\u001b[38;5;124;43m\"\u001b[39;49m\u001b[38;5;124;43mmodel\u001b[39;49m\u001b[38;5;124;43m\"\u001b[39;49m\u001b[43m:\u001b[49m\u001b[43m \u001b[49m\u001b[38;5;124;43m\"\u001b[39;49m\u001b[38;5;124;43mgpt-4o-mini\u001b[39;49m\u001b[38;5;124;43m\"\u001b[39;49m\u001b[43m,\u001b[49m\n\u001b[1;32m     15\u001b[0m \u001b[43m                        \u001b[49m\u001b[38;5;124;43m\"\u001b[39;49m\u001b[38;5;124;43mtemperature\u001b[39;49m\u001b[38;5;124;43m\"\u001b[39;49m\u001b[43m:\u001b[49m\u001b[43m \u001b[49m\u001b[38;5;241;43m0\u001b[39;49m\u001b[43m,\u001b[49m\n\u001b[1;32m     16\u001b[0m \u001b[43m                        \u001b[49m\u001b[38;5;124;43m\"\u001b[39;49m\u001b[38;5;124;43mmax_tokens\u001b[39;49m\u001b[38;5;124;43m\"\u001b[39;49m\u001b[43m:\u001b[49m\u001b[43m \u001b[49m\u001b[38;5;241;43m4096\u001b[39;49m\n\u001b[1;32m     17\u001b[0m \u001b[43m                    \u001b[49m\u001b[43m}\u001b[49m\n\u001b[1;32m     18\u001b[0m \u001b[43m                \u001b[49m\u001b[43m}\u001b[49m\n\u001b[1;32m     19\u001b[0m \u001b[43m            \u001b[49m\u001b[43m]\u001b[49m\u001b[43m,\u001b[49m\n\u001b[1;32m     20\u001b[0m \u001b[43m            \u001b[49m\u001b[38;5;124;43m\"\u001b[39;49m\u001b[38;5;124;43mrate_limits\u001b[39;49m\u001b[38;5;124;43m\"\u001b[39;49m\u001b[43m:\u001b[49m\u001b[43m \u001b[49m\u001b[43m{\u001b[49m\u001b[38;5;124;43m\"\u001b[39;49m\u001b[38;5;124;43mgpt-4o-mini\u001b[39;49m\u001b[38;5;124;43m\"\u001b[39;49m\u001b[43m:\u001b[49m\u001b[43m \u001b[49m\u001b[38;5;124;43m\"\u001b[39;49m\u001b[38;5;124;43m30000 per 1 minute\u001b[39;49m\u001b[38;5;124;43m\"\u001b[39;49m\u001b[43m}\u001b[49m\u001b[43m,\u001b[49m\n\u001b[1;32m     21\u001b[0m \u001b[43m        \u001b[49m\u001b[43m}\u001b[49m\u001b[43m,\u001b[49m\n\u001b[1;32m     22\u001b[0m \u001b[43m        \u001b[49m\u001b[43magent\u001b[49m\u001b[38;5;241;43m=\u001b[39;49m\u001b[43mAgentSettings\u001b[49m\u001b[43m(\u001b[49m\n\u001b[1;32m     23\u001b[0m \u001b[43m            \u001b[49m\u001b[43magent_llm\u001b[49m\u001b[38;5;241;43m=\u001b[39;49m\u001b[38;5;124;43m\"\u001b[39;49m\u001b[38;5;124;43mgpt-4o-mini\u001b[39;49m\u001b[38;5;124;43m\"\u001b[39;49m\u001b[43m,\u001b[49m\n\u001b[1;32m     24\u001b[0m \u001b[43m            \u001b[49m\u001b[43magent_llm_config\u001b[49m\u001b[38;5;241;43m=\u001b[39;49m\u001b[43m{\u001b[49m\n\u001b[1;32m     25\u001b[0m \u001b[43m                \u001b[49m\u001b[38;5;124;43m\"\u001b[39;49m\u001b[38;5;124;43mrate_limit\u001b[39;49m\u001b[38;5;124;43m\"\u001b[39;49m\u001b[43m:\u001b[49m\u001b[43m \u001b[49m\u001b[43m{\u001b[49m\u001b[38;5;124;43m\"\u001b[39;49m\u001b[38;5;124;43mgpt-4o-mini\u001b[39;49m\u001b[38;5;124;43m\"\u001b[39;49m\u001b[43m:\u001b[49m\u001b[43m \u001b[49m\u001b[38;5;124;43m\"\u001b[39;49m\u001b[38;5;124;43m30000 per 1 minute\u001b[39;49m\u001b[38;5;124;43m\"\u001b[39;49m\u001b[43m}\u001b[49m\n\u001b[1;32m     26\u001b[0m \u001b[43m            \u001b[49m\u001b[43m}\u001b[49m\n\u001b[1;32m     27\u001b[0m \u001b[43m        \u001b[49m\u001b[43m)\u001b[49m\u001b[43m,\u001b[49m\n\u001b[1;32m     28\u001b[0m \u001b[43m        \u001b[49m\u001b[43membedding\u001b[49m\u001b[38;5;241;43m=\u001b[39;49m\u001b[38;5;124;43m\"\u001b[39;49m\u001b[38;5;124;43mtext-embedding-3-small\u001b[39;49m\u001b[38;5;124;43m\"\u001b[39;49m\u001b[43m,\u001b[49m\n\u001b[1;32m     29\u001b[0m \u001b[43m        \u001b[49m\u001b[43mtemperature\u001b[49m\u001b[38;5;241;43m=\u001b[39;49m\u001b[38;5;241;43m0\u001b[39;49m\u001b[43m,\u001b[49m\n\u001b[1;32m     30\u001b[0m \u001b[43m        \u001b[49m\u001b[43mpaper_directory\u001b[49m\u001b[38;5;241;43m=\u001b[39;49m\u001b[38;5;124;43m\"\u001b[39;49m\u001b[38;5;124;43m/root/paperQA2_analysis/data/LitQA_data/LitQA2_test_pdfs\u001b[39;49m\u001b[38;5;124;43m\"\u001b[39;49m\n\u001b[1;32m     31\u001b[0m \u001b[43m    \u001b[49m\u001b[43m)\u001b[49m\n\u001b[1;32m     32\u001b[0m \u001b[43m)\u001b[49m\n",
      "File \u001b[0;32m~/venvs/venv_paperQA2/lib/python3.12/site-packages/paperqa/agents/__init__.py:104\u001b[0m, in \u001b[0;36mask\u001b[0;34m(query, settings)\u001b[0m\n\u001b[1;32m    102\u001b[0m \u001b[38;5;250m\u001b[39m\u001b[38;5;124;03m\"\"\"Query PaperQA via an agent.\"\"\"\u001b[39;00m\n\u001b[1;32m    103\u001b[0m configure_cli_logging(settings)\n\u001b[0;32m--> 104\u001b[0m \u001b[38;5;28;01mreturn\u001b[39;00m \u001b[43mget_loop\u001b[49m\u001b[43m(\u001b[49m\u001b[43m)\u001b[49m\u001b[38;5;241;43m.\u001b[39;49m\u001b[43mrun_until_complete\u001b[49m\u001b[43m(\u001b[49m\n\u001b[1;32m    105\u001b[0m \u001b[43m    \u001b[49m\u001b[43magent_query\u001b[49m\u001b[43m(\u001b[49m\u001b[43mquery\u001b[49m\u001b[43m,\u001b[49m\u001b[43m \u001b[49m\u001b[43msettings\u001b[49m\u001b[43m,\u001b[49m\u001b[43m \u001b[49m\u001b[43magent_type\u001b[49m\u001b[38;5;241;43m=\u001b[39;49m\u001b[43msettings\u001b[49m\u001b[38;5;241;43m.\u001b[39;49m\u001b[43magent\u001b[49m\u001b[38;5;241;43m.\u001b[39;49m\u001b[43magent_type\u001b[49m\u001b[43m)\u001b[49m\n\u001b[1;32m    106\u001b[0m \u001b[43m\u001b[49m\u001b[43m)\u001b[49m\n",
      "File \u001b[0;32m~/venvs/venv_paperQA2/lib/python3.12/site-packages/nest_asyncio.py:92\u001b[0m, in \u001b[0;36m_patch_loop.<locals>.run_until_complete\u001b[0;34m(self, future)\u001b[0m\n\u001b[1;32m     90\u001b[0m     f\u001b[38;5;241m.\u001b[39m_log_destroy_pending \u001b[38;5;241m=\u001b[39m \u001b[38;5;28;01mFalse\u001b[39;00m\n\u001b[1;32m     91\u001b[0m \u001b[38;5;28;01mwhile\u001b[39;00m \u001b[38;5;129;01mnot\u001b[39;00m f\u001b[38;5;241m.\u001b[39mdone():\n\u001b[0;32m---> 92\u001b[0m     \u001b[38;5;28;43mself\u001b[39;49m\u001b[38;5;241;43m.\u001b[39;49m\u001b[43m_run_once\u001b[49m\u001b[43m(\u001b[49m\u001b[43m)\u001b[49m\n\u001b[1;32m     93\u001b[0m     \u001b[38;5;28;01mif\u001b[39;00m \u001b[38;5;28mself\u001b[39m\u001b[38;5;241m.\u001b[39m_stopping:\n\u001b[1;32m     94\u001b[0m         \u001b[38;5;28;01mbreak\u001b[39;00m\n",
      "File \u001b[0;32m~/venvs/venv_paperQA2/lib/python3.12/site-packages/nest_asyncio.py:115\u001b[0m, in \u001b[0;36m_patch_loop.<locals>._run_once\u001b[0;34m(self)\u001b[0m\n\u001b[1;32m    108\u001b[0m     heappop(scheduled)\n\u001b[1;32m    110\u001b[0m timeout \u001b[38;5;241m=\u001b[39m (\n\u001b[1;32m    111\u001b[0m     \u001b[38;5;241m0\u001b[39m \u001b[38;5;28;01mif\u001b[39;00m ready \u001b[38;5;129;01mor\u001b[39;00m \u001b[38;5;28mself\u001b[39m\u001b[38;5;241m.\u001b[39m_stopping\n\u001b[1;32m    112\u001b[0m     \u001b[38;5;28;01melse\u001b[39;00m \u001b[38;5;28mmin\u001b[39m(\u001b[38;5;28mmax\u001b[39m(\n\u001b[1;32m    113\u001b[0m         scheduled[\u001b[38;5;241m0\u001b[39m]\u001b[38;5;241m.\u001b[39m_when \u001b[38;5;241m-\u001b[39m \u001b[38;5;28mself\u001b[39m\u001b[38;5;241m.\u001b[39mtime(), \u001b[38;5;241m0\u001b[39m), \u001b[38;5;241m86400\u001b[39m) \u001b[38;5;28;01mif\u001b[39;00m scheduled\n\u001b[1;32m    114\u001b[0m     \u001b[38;5;28;01melse\u001b[39;00m \u001b[38;5;28;01mNone\u001b[39;00m)\n\u001b[0;32m--> 115\u001b[0m event_list \u001b[38;5;241m=\u001b[39m \u001b[38;5;28;43mself\u001b[39;49m\u001b[38;5;241;43m.\u001b[39;49m\u001b[43m_selector\u001b[49m\u001b[38;5;241;43m.\u001b[39;49m\u001b[43mselect\u001b[49m\u001b[43m(\u001b[49m\u001b[43mtimeout\u001b[49m\u001b[43m)\u001b[49m\n\u001b[1;32m    116\u001b[0m \u001b[38;5;28mself\u001b[39m\u001b[38;5;241m.\u001b[39m_process_events(event_list)\n\u001b[1;32m    118\u001b[0m end_time \u001b[38;5;241m=\u001b[39m \u001b[38;5;28mself\u001b[39m\u001b[38;5;241m.\u001b[39mtime() \u001b[38;5;241m+\u001b[39m \u001b[38;5;28mself\u001b[39m\u001b[38;5;241m.\u001b[39m_clock_resolution\n",
      "File \u001b[0;32m/usr/lib/python3.12/selectors.py:468\u001b[0m, in \u001b[0;36mEpollSelector.select\u001b[0;34m(self, timeout)\u001b[0m\n\u001b[1;32m    466\u001b[0m ready \u001b[38;5;241m=\u001b[39m []\n\u001b[1;32m    467\u001b[0m \u001b[38;5;28;01mtry\u001b[39;00m:\n\u001b[0;32m--> 468\u001b[0m     fd_event_list \u001b[38;5;241m=\u001b[39m \u001b[38;5;28;43mself\u001b[39;49m\u001b[38;5;241;43m.\u001b[39;49m\u001b[43m_selector\u001b[49m\u001b[38;5;241;43m.\u001b[39;49m\u001b[43mpoll\u001b[49m\u001b[43m(\u001b[49m\u001b[43mtimeout\u001b[49m\u001b[43m,\u001b[49m\u001b[43m \u001b[49m\u001b[43mmax_ev\u001b[49m\u001b[43m)\u001b[49m\n\u001b[1;32m    469\u001b[0m \u001b[38;5;28;01mexcept\u001b[39;00m \u001b[38;5;167;01mInterruptedError\u001b[39;00m:\n\u001b[1;32m    470\u001b[0m     \u001b[38;5;28;01mreturn\u001b[39;00m ready\n",
      "\u001b[0;31mKeyboardInterrupt\u001b[0m: "
     ]
    },
    {
     "data": {
      "text/html": [
       "<pre style=\"white-space:pre;overflow-x:auto;line-height:normal;font-family:Menlo,'DejaVu Sans Mono',consolas,'Courier New',monospace\"><span style=\"color: #7fbfbf; text-decoration-color: #7fbfbf\">[22:43:11] </span>Resetting '                                                                                             \n",
       "<span style=\"color: #7fbfbf; text-decoration-color: #7fbfbf\">           </span>Please answer the following multiple choice question.                                                   \n",
       "<span style=\"color: #7fbfbf; text-decoration-color: #7fbfbf\">           </span>Return a single letter answer denoting your choice, or return <span style=\"color: #008080; text-decoration-color: #008080; font-weight: bold\">0</span> if you are unsure about the answer or   \n",
       "<span style=\"color: #7fbfbf; text-decoration-color: #7fbfbf\">           </span>unable to answer.                                                                                       \n",
       "<span style=\"color: #7fbfbf; text-decoration-color: #7fbfbf\">           </span>                                                                                                        \n",
       "<span style=\"color: #7fbfbf; text-decoration-color: #7fbfbf\">           </span>Question: Approximately what percentage of topologically associated domains in the GM12878 blood cell   \n",
       "<span style=\"color: #7fbfbf; text-decoration-color: #7fbfbf\">           </span>line does DiffDomain classify as reorganized in the K562 cell line?.                                    \n",
       "<span style=\"color: #7fbfbf; text-decoration-color: #7fbfbf\">           </span>                                                                                                        \n",
       "<span style=\"color: #7fbfbf; text-decoration-color: #7fbfbf\">           </span>Answer Options:                                                                                         \n",
       "<span style=\"color: #7fbfbf; text-decoration-color: #7fbfbf\">           </span>                                                                                                        \n",
       "<span style=\"color: #7fbfbf; text-decoration-color: #7fbfbf\">           </span> A: <span style=\"color: #008080; text-decoration-color: #008080; font-weight: bold\">21</span>%                                                                                                 \n",
       "<span style=\"color: #7fbfbf; text-decoration-color: #7fbfbf\">           </span> B: <span style=\"color: #008080; text-decoration-color: #008080; font-weight: bold\">31</span>%                                                                                                 \n",
       "<span style=\"color: #7fbfbf; text-decoration-color: #7fbfbf\">           </span> C: <span style=\"color: #008080; text-decoration-color: #008080; font-weight: bold\">51</span>%                                                                                                 \n",
       "<span style=\"color: #7fbfbf; text-decoration-color: #7fbfbf\">           </span> D: <span style=\"color: #008080; text-decoration-color: #008080; font-weight: bold\">41</span>%                                                                                                 \n",
       "<span style=\"color: #7fbfbf; text-decoration-color: #7fbfbf\">           </span> E: <span style=\"color: #008080; text-decoration-color: #008080; font-weight: bold\">11</span>%                                                                                                 \n",
       "<span style=\"color: #7fbfbf; text-decoration-color: #7fbfbf\">           </span> <span style=\"color: #008080; text-decoration-color: #008080; font-weight: bold\">0</span>: unsure'.                                                                                            \n",
       "</pre>\n"
      ],
      "text/plain": [
       "\u001b[2;36m[22:43:11]\u001b[0m\u001b[2;36m \u001b[0mResetting '                                                                                             \n",
       "\u001b[2;36m           \u001b[0mPlease answer the following multiple choice question.                                                   \n",
       "\u001b[2;36m           \u001b[0mReturn a single letter answer denoting your choice, or return \u001b[1;36m0\u001b[0m if you are unsure about the answer or   \n",
       "\u001b[2;36m           \u001b[0munable to answer.                                                                                       \n",
       "\u001b[2;36m           \u001b[0m                                                                                                        \n",
       "\u001b[2;36m           \u001b[0mQuestion: Approximately what percentage of topologically associated domains in the GM12878 blood cell   \n",
       "\u001b[2;36m           \u001b[0mline does DiffDomain classify as reorganized in the K562 cell line?.                                    \n",
       "\u001b[2;36m           \u001b[0m                                                                                                        \n",
       "\u001b[2;36m           \u001b[0mAnswer Options:                                                                                         \n",
       "\u001b[2;36m           \u001b[0m                                                                                                        \n",
       "\u001b[2;36m           \u001b[0m A: \u001b[1;36m21\u001b[0m%                                                                                                 \n",
       "\u001b[2;36m           \u001b[0m B: \u001b[1;36m31\u001b[0m%                                                                                                 \n",
       "\u001b[2;36m           \u001b[0m C: \u001b[1;36m51\u001b[0m%                                                                                                 \n",
       "\u001b[2;36m           \u001b[0m D: \u001b[1;36m41\u001b[0m%                                                                                                 \n",
       "\u001b[2;36m           \u001b[0m E: \u001b[1;36m11\u001b[0m%                                                                                                 \n",
       "\u001b[2;36m           \u001b[0m \u001b[1;36m0\u001b[0m: unsure'.                                                                                            \n"
      ]
     },
     "metadata": {},
     "output_type": "display_data"
    },
    {
     "data": {
      "text/html": [
       "<pre style=\"white-space:pre;overflow-x:auto;line-height:normal;font-family:Menlo,'DejaVu Sans Mono',consolas,'Courier New',monospace\"><span style=\"color: #7fbfbf; text-decoration-color: #7fbfbf\">[22:43:12] </span>Starting paper search for <span style=\"color: #008000; text-decoration-color: #008000\">'topologically associated domains DiffDomain GM12878 K562'</span>.                   \n",
       "</pre>\n"
      ],
      "text/plain": [
       "\u001b[2;36m[22:43:12]\u001b[0m\u001b[2;36m \u001b[0mStarting paper search for \u001b[32m'topologically associated domains DiffDomain GM12878 K562'\u001b[0m.                   \n"
      ]
     },
     "metadata": {},
     "output_type": "display_data"
    },
    {
     "data": {
      "text/html": [
       "<pre style=\"white-space:pre;overflow-x:auto;line-height:normal;font-family:Menlo,'DejaVu Sans Mono',consolas,'Courier New',monospace\"><span style=\"color: #7fbfbf; text-decoration-color: #7fbfbf\">           </span>paper_search for query <span style=\"color: #008000; text-decoration-color: #008000\">'topologically associated domains DiffDomain GM12878 K562'</span> and offset <span style=\"color: #008080; text-decoration-color: #008080; font-weight: bold\">24</span> returned\n",
       "<span style=\"color: #7fbfbf; text-decoration-color: #7fbfbf\">           </span><span style=\"color: #008080; text-decoration-color: #008080; font-weight: bold\">8</span> papers.                                                                                               \n",
       "</pre>\n"
      ],
      "text/plain": [
       "\u001b[2;36m          \u001b[0m\u001b[2;36m \u001b[0mpaper_search for query \u001b[32m'topologically associated domains DiffDomain GM12878 K562'\u001b[0m and offset \u001b[1;36m24\u001b[0m returned\n",
       "\u001b[2;36m           \u001b[0m\u001b[1;36m8\u001b[0m papers.                                                                                               \n"
      ]
     },
     "metadata": {},
     "output_type": "display_data"
    },
    {
     "data": {
      "text/html": [
       "<pre style=\"white-space:pre;overflow-x:auto;line-height:normal;font-family:Menlo,'DejaVu Sans Mono',consolas,'Courier New',monospace\"><span style=\"color: #7fbfbf; text-decoration-color: #7fbfbf\">           </span>Status: Paper <span style=\"color: #808000; text-decoration-color: #808000\">Count</span>=<span style=\"color: #008080; text-decoration-color: #008080; font-weight: bold\">32</span> | Relevant <span style=\"color: #808000; text-decoration-color: #808000\">Papers</span>=<span style=\"color: #008080; text-decoration-color: #008080; font-weight: bold\">0</span> | Current <span style=\"color: #808000; text-decoration-color: #808000\">Evidence</span>=<span style=\"color: #008080; text-decoration-color: #008080; font-weight: bold\">0</span> | Current <span style=\"color: #808000; text-decoration-color: #808000\">Cost</span>=$<span style=\"color: #008080; text-decoration-color: #008080; font-weight: bold\">0.0019</span>                  \n",
       "</pre>\n"
      ],
      "text/plain": [
       "\u001b[2;36m          \u001b[0m\u001b[2;36m \u001b[0mStatus: Paper \u001b[33mCount\u001b[0m=\u001b[1;36m32\u001b[0m | Relevant \u001b[33mPapers\u001b[0m=\u001b[1;36m0\u001b[0m | Current \u001b[33mEvidence\u001b[0m=\u001b[1;36m0\u001b[0m | Current \u001b[33mCost\u001b[0m=$\u001b[1;36m0.0019\u001b[0m                  \n"
      ]
     },
     "metadata": {},
     "output_type": "display_data"
    }
   ],
   "source": [
    "# To run the ask function, you need to apply:\n",
    "import nest_asyncio\n",
    "nest_asyncio.apply()\n",
    "\n",
    "test_response = ask(\n",
    "    query=prompt,\n",
    "    settings=Settings(\n",
    "        llm=\"gpt-4o-mini\",\n",
    "        llm_config={\n",
    "            \"model_list\": [\n",
    "                {\n",
    "                    \"model_name\": \"gpt-4o-mini\",\n",
    "                    \"litellm_params\": {\n",
    "                        \"model\": \"gpt-4o-mini\",\n",
    "                        \"temperature\": 0,\n",
    "                        \"max_tokens\": 4096\n",
    "                    }\n",
    "                }\n",
    "            ],\n",
    "            \"rate_limits\": {\"gpt-4o-mini\": \"30000 per 1 minute\"},\n",
    "        },\n",
    "        agent=AgentSettings(\n",
    "            agent_llm=\"gpt-4o-mini\",\n",
    "            agent_llm_config={\n",
    "                \"rate_limit\": {\"gpt-4o-mini\": \"30000 per 1 minute\"}\n",
    "            }\n",
    "        ),\n",
    "        embedding=\"text-embedding-3-small\",\n",
    "        temperature=0,\n",
    "        paper_directory=\"/root/paperQA2_analysis/data/LitQA_data/LitQA2_test_pdfs\"\n",
    "    )\n",
    ")"
   ]
  }
 ],
 "metadata": {
  "kernelspec": {
   "display_name": "venv_paperQA2",
   "language": "python",
   "name": "python3"
  },
  "language_info": {
   "codemirror_mode": {
    "name": "ipython",
    "version": 3
   },
   "file_extension": ".py",
   "mimetype": "text/x-python",
   "name": "python",
   "nbconvert_exporter": "python",
   "pygments_lexer": "ipython3",
   "version": "3.12.3"
  }
 },
 "nbformat": 4,
 "nbformat_minor": 2
}

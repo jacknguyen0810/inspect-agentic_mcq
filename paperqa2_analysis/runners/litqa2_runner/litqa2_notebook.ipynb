{
 "cells": [
  {
   "cell_type": "markdown",
   "metadata": {},
   "source": [
    "# Exploratory Data Analysis and Experimentation for LitQA2 Benchmark"
   ]
  },
  {
   "cell_type": "code",
   "execution_count": null,
   "metadata": {},
   "outputs": [],
   "source": [
    "# Import libraries\n",
    "import pandas as pd\n",
    "from paperqa import ask, Settings"
   ]
  },
  {
   "cell_type": "code",
   "execution_count": null,
   "metadata": {},
   "outputs": [],
   "source": [
    "# Import the data from LitQA2 data from Hugging Face\n",
    "\n",
    "litqa2 = "
   ]
  }
 ],
 "metadata": {
  "kernelspec": {
   "display_name": "venv_paperQA2",
   "language": "python",
   "name": "python3"
  },
  "language_info": {
   "name": "python",
   "version": "3.12.3"
  }
 },
 "nbformat": 4,
 "nbformat_minor": 2
}

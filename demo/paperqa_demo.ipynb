{
 "cells": [
  {
   "cell_type": "markdown",
   "metadata": {},
   "source": [
    "# PaperQA Demo Notebook\n",
    "\n",
    "This is a demo of the PaperQA package, which is was used by the original authors of the paper."
   ]
  },
  {
   "cell_type": "markdown",
   "metadata": {},
   "source": [
    "Before starting, user needs to set OpenAI API key. \n",
    "\n",
    "```bash\n",
    "export OPENAI_API_KEY = sk....\n",
    "```"
   ]
  },
  {
   "cell_type": "code",
   "execution_count": null,
   "metadata": {},
   "outputs": [],
   "source": [
    "# export OPENAI_API_KEY ="
   ]
  },
  {
   "cell_type": "code",
   "execution_count": 1,
   "metadata": {},
   "outputs": [],
   "source": [
    "# Import libraries\n",
    "from paperqa import ask, Settings, agent_query"
   ]
  },
  {
   "cell_type": "markdown",
   "metadata": {},
   "source": [
    "### ask\n",
    "\n",
    "This is the main function to ask scientific questions, which the agent will answer the question using information from a set of documents. "
   ]
  },
  {
   "cell_type": "code",
   "execution_count": 3,
   "metadata": {},
   "outputs": [
    {
     "ename": "RuntimeError",
     "evalue": "This event loop is already running",
     "output_type": "error",
     "traceback": [
      "\u001b[0;31m---------------------------------------------------------------------------\u001b[0m",
      "\u001b[0;31mRuntimeError\u001b[0m                              Traceback (most recent call last)",
      "Cell \u001b[0;32mIn[3], line 1\u001b[0m\n\u001b[0;32m----> 1\u001b[0m response \u001b[38;5;241m=\u001b[39m \u001b[43mask\u001b[49m\u001b[43m(\u001b[49m\n\u001b[1;32m      2\u001b[0m \u001b[43m    \u001b[49m\u001b[38;5;124;43m\"\u001b[39;49m\u001b[38;5;124;43mWhat is the density of water?\u001b[39;49m\u001b[38;5;124;43m\"\u001b[39;49m\u001b[43m,\u001b[49m\n\u001b[1;32m      3\u001b[0m \u001b[43m    \u001b[49m\u001b[43msettings\u001b[49m\u001b[38;5;241;43m=\u001b[39;49m\u001b[43mSettings\u001b[49m\u001b[43m(\u001b[49m\u001b[43m                              \u001b[49m\u001b[38;5;66;43;03m# Settings for the agent are determined by the Settings class\u001b[39;49;00m\n\u001b[1;32m      4\u001b[0m \u001b[43m        \u001b[49m\u001b[43mtemperature\u001b[49m\u001b[38;5;241;43m=\u001b[39;49m\u001b[38;5;241;43m0\u001b[39;49m\u001b[43m,\u001b[49m\u001b[43m                              \u001b[49m\u001b[38;5;66;43;03m# Adjust temperature of the LLM response\u001b[39;49;00m\n\u001b[1;32m      5\u001b[0m \u001b[43m        \u001b[49m\u001b[43mpaper_directory\u001b[49m\u001b[38;5;241;43m=\u001b[39;49m\u001b[38;5;124;43m\"\u001b[39;49m\u001b[38;5;124;43mdata/LitQA2_data/LitQA2_full_pdfs\u001b[39;49m\u001b[38;5;124;43m\"\u001b[39;49m\u001b[43m           \u001b[49m\u001b[38;5;66;43;03m# Directory from root of the bank of papers (local)\u001b[39;49;00m\n\u001b[1;32m      6\u001b[0m \u001b[43m    \u001b[49m\u001b[43m)\u001b[49m\n\u001b[1;32m      7\u001b[0m \u001b[43m)\u001b[49m\n",
      "File \u001b[0;32m~/venvs/venv_paperQA2/lib/python3.12/site-packages/paperqa/agents/__init__.py:104\u001b[0m, in \u001b[0;36mask\u001b[0;34m(query, settings)\u001b[0m\n\u001b[1;32m    102\u001b[0m \u001b[38;5;250m\u001b[39m\u001b[38;5;124;03m\"\"\"Query PaperQA via an agent.\"\"\"\u001b[39;00m\n\u001b[1;32m    103\u001b[0m configure_cli_logging(settings)\n\u001b[0;32m--> 104\u001b[0m \u001b[38;5;28;01mreturn\u001b[39;00m \u001b[43mget_loop\u001b[49m\u001b[43m(\u001b[49m\u001b[43m)\u001b[49m\u001b[38;5;241;43m.\u001b[39;49m\u001b[43mrun_until_complete\u001b[49m\u001b[43m(\u001b[49m\n\u001b[1;32m    105\u001b[0m \u001b[43m    \u001b[49m\u001b[43magent_query\u001b[49m\u001b[43m(\u001b[49m\u001b[43mquery\u001b[49m\u001b[43m,\u001b[49m\u001b[43m \u001b[49m\u001b[43msettings\u001b[49m\u001b[43m,\u001b[49m\u001b[43m \u001b[49m\u001b[43magent_type\u001b[49m\u001b[38;5;241;43m=\u001b[39;49m\u001b[43msettings\u001b[49m\u001b[38;5;241;43m.\u001b[39;49m\u001b[43magent\u001b[49m\u001b[38;5;241;43m.\u001b[39;49m\u001b[43magent_type\u001b[49m\u001b[43m)\u001b[49m\n\u001b[1;32m    106\u001b[0m \u001b[43m\u001b[49m\u001b[43m)\u001b[49m\n",
      "File \u001b[0;32m/usr/lib/python3.12/asyncio/base_events.py:663\u001b[0m, in \u001b[0;36mBaseEventLoop.run_until_complete\u001b[0;34m(self, future)\u001b[0m\n\u001b[1;32m    652\u001b[0m \u001b[38;5;250m\u001b[39m\u001b[38;5;124;03m\"\"\"Run until the Future is done.\u001b[39;00m\n\u001b[1;32m    653\u001b[0m \n\u001b[1;32m    654\u001b[0m \u001b[38;5;124;03mIf the argument is a coroutine, it is wrapped in a Task.\u001b[39;00m\n\u001b[0;32m   (...)\u001b[0m\n\u001b[1;32m    660\u001b[0m \u001b[38;5;124;03mReturn the Future's result, or raise its exception.\u001b[39;00m\n\u001b[1;32m    661\u001b[0m \u001b[38;5;124;03m\"\"\"\u001b[39;00m\n\u001b[1;32m    662\u001b[0m \u001b[38;5;28mself\u001b[39m\u001b[38;5;241m.\u001b[39m_check_closed()\n\u001b[0;32m--> 663\u001b[0m \u001b[38;5;28;43mself\u001b[39;49m\u001b[38;5;241;43m.\u001b[39;49m\u001b[43m_check_running\u001b[49m\u001b[43m(\u001b[49m\u001b[43m)\u001b[49m\n\u001b[1;32m    665\u001b[0m new_task \u001b[38;5;241m=\u001b[39m \u001b[38;5;129;01mnot\u001b[39;00m futures\u001b[38;5;241m.\u001b[39misfuture(future)\n\u001b[1;32m    666\u001b[0m future \u001b[38;5;241m=\u001b[39m tasks\u001b[38;5;241m.\u001b[39mensure_future(future, loop\u001b[38;5;241m=\u001b[39m\u001b[38;5;28mself\u001b[39m)\n",
      "File \u001b[0;32m/usr/lib/python3.12/asyncio/base_events.py:622\u001b[0m, in \u001b[0;36mBaseEventLoop._check_running\u001b[0;34m(self)\u001b[0m\n\u001b[1;32m    620\u001b[0m \u001b[38;5;28;01mdef\u001b[39;00m\u001b[38;5;250m \u001b[39m\u001b[38;5;21m_check_running\u001b[39m(\u001b[38;5;28mself\u001b[39m):\n\u001b[1;32m    621\u001b[0m     \u001b[38;5;28;01mif\u001b[39;00m \u001b[38;5;28mself\u001b[39m\u001b[38;5;241m.\u001b[39mis_running():\n\u001b[0;32m--> 622\u001b[0m         \u001b[38;5;28;01mraise\u001b[39;00m \u001b[38;5;167;01mRuntimeError\u001b[39;00m(\u001b[38;5;124m'\u001b[39m\u001b[38;5;124mThis event loop is already running\u001b[39m\u001b[38;5;124m'\u001b[39m)\n\u001b[1;32m    623\u001b[0m     \u001b[38;5;28;01mif\u001b[39;00m events\u001b[38;5;241m.\u001b[39m_get_running_loop() \u001b[38;5;129;01mis\u001b[39;00m \u001b[38;5;129;01mnot\u001b[39;00m \u001b[38;5;28;01mNone\u001b[39;00m:\n\u001b[1;32m    624\u001b[0m         \u001b[38;5;28;01mraise\u001b[39;00m \u001b[38;5;167;01mRuntimeError\u001b[39;00m(\n\u001b[1;32m    625\u001b[0m             \u001b[38;5;124m'\u001b[39m\u001b[38;5;124mCannot run the event loop while another loop is running\u001b[39m\u001b[38;5;124m'\u001b[39m)\n",
      "\u001b[0;31mRuntimeError\u001b[0m: This event loop is already running"
     ]
    }
   ],
   "source": [
    "response = ask(\n",
    "    \"What is the density of water?\",\n",
    "    settings=Settings(                              # Settings for the agent are determined by the Settings class\n",
    "        temperature=0,                              # Adjust temperature of the LLM response\n",
    "        paper_directory=\"data/LitQA2_data/LitQA2_full_pdfs\"           # Directory from root of the bank of papers (local)\n",
    "    )\n",
    ")"
   ]
  },
  {
   "cell_type": "markdown",
   "metadata": {},
   "source": [
    "### agent_query\n",
    "\n",
    "```ask``` is essentailly a wrapper around ```agent_query```, which is the main function to ask scientific questions, which the agent will answer the question using information from a set of documents. \n",
    "\n",
    "We can interact directly with the agent using ```agent_query```. \n",
    "\n"
   ]
  },
  {
   "cell_type": "code",
   "execution_count": 2,
   "metadata": {},
   "outputs": [
    {
     "ename": "OpenAIError",
     "evalue": "The api_key client option must be set either by passing api_key to the client or by setting the OPENAI_API_KEY environment variable",
     "output_type": "error",
     "traceback": [
      "\u001b[0;31m---------------------------------------------------------------------------\u001b[0m",
      "\u001b[0;31mOpenAIError\u001b[0m                               Traceback (most recent call last)",
      "Cell \u001b[0;32mIn[2], line 4\u001b[0m\n\u001b[1;32m      1\u001b[0m \u001b[38;5;28;01mfrom\u001b[39;00m\u001b[38;5;250m \u001b[39m\u001b[38;5;21;01mpaperqa\u001b[39;00m\u001b[38;5;250m \u001b[39m\u001b[38;5;28;01mimport\u001b[39;00m Settings, agent_query\n\u001b[1;32m      3\u001b[0m \u001b[38;5;66;03m# Using a default test case provided by the authors:\u001b[39;00m\n\u001b[0;32m----> 4\u001b[0m answer_response \u001b[38;5;241m=\u001b[39m \u001b[38;5;28;01mawait\u001b[39;00m agent_query(\n\u001b[1;32m      5\u001b[0m     query\u001b[38;5;241m=\u001b[39m\u001b[38;5;124m\"\u001b[39m\u001b[38;5;124mWhat drugs have been found to effectively treat Ulcerative Colitis?\u001b[39m\u001b[38;5;124m\"\u001b[39m,\n\u001b[1;32m      6\u001b[0m     settings\u001b[38;5;241m=\u001b[39mSettings\u001b[38;5;241m.\u001b[39mfrom_name(\u001b[38;5;124m\"\u001b[39m\u001b[38;5;124msearch_only_clinical_trials\u001b[39m\u001b[38;5;124m\"\u001b[39m),                     \u001b[38;5;66;03m# Imports all settings from a pre-defined set\u001b[39;00m\n\u001b[1;32m      7\u001b[0m )\n\u001b[1;32m      9\u001b[0m \u001b[38;5;66;03m# Print answer\u001b[39;00m\n\u001b[1;32m     10\u001b[0m \u001b[38;5;28mprint\u001b[39m(answer_response\u001b[38;5;241m.\u001b[39msession\u001b[38;5;241m.\u001b[39manswer)\n",
      "File \u001b[0;32m~/venvs/venv_paperQA2/lib/python3.12/site-packages/paperqa/agents/main.py:70\u001b[0m, in \u001b[0;36magent_query\u001b[0;34m(query, settings, docs, agent_type, **runner_kwargs)\u001b[0m\n\u001b[1;32m     61\u001b[0m     docs \u001b[38;5;241m=\u001b[39m Docs()\n\u001b[1;32m     63\u001b[0m answers_index \u001b[38;5;241m=\u001b[39m SearchIndex(\n\u001b[1;32m     64\u001b[0m     fields\u001b[38;5;241m=\u001b[39m[\u001b[38;5;241m*\u001b[39mSearchIndex\u001b[38;5;241m.\u001b[39mREQUIRED_FIELDS, \u001b[38;5;124m\"\u001b[39m\u001b[38;5;124mquestion\u001b[39m\u001b[38;5;124m\"\u001b[39m],\n\u001b[1;32m     65\u001b[0m     index_name\u001b[38;5;241m=\u001b[39m\u001b[38;5;124m\"\u001b[39m\u001b[38;5;124manswers\u001b[39m\u001b[38;5;124m\"\u001b[39m,\n\u001b[1;32m     66\u001b[0m     index_directory\u001b[38;5;241m=\u001b[39msettings\u001b[38;5;241m.\u001b[39magent\u001b[38;5;241m.\u001b[39mindex\u001b[38;5;241m.\u001b[39mindex_directory,\n\u001b[1;32m     67\u001b[0m     storage\u001b[38;5;241m=\u001b[39mSearchDocumentStorage\u001b[38;5;241m.\u001b[39mJSON_MODEL_DUMP,\n\u001b[1;32m     68\u001b[0m )\n\u001b[0;32m---> 70\u001b[0m response \u001b[38;5;241m=\u001b[39m \u001b[38;5;28;01mawait\u001b[39;00m run_agent(docs, query, settings, agent_type, \u001b[38;5;241m*\u001b[39m\u001b[38;5;241m*\u001b[39mrunner_kwargs)\n\u001b[1;32m     71\u001b[0m agent_logger\u001b[38;5;241m.\u001b[39mdebug(\u001b[38;5;124mf\u001b[39m\u001b[38;5;124m\"\u001b[39m\u001b[38;5;124magent_response: \u001b[39m\u001b[38;5;132;01m{\u001b[39;00mresponse\u001b[38;5;132;01m}\u001b[39;00m\u001b[38;5;124m\"\u001b[39m)\n\u001b[1;32m     73\u001b[0m agent_logger\u001b[38;5;241m.\u001b[39minfo(\u001b[38;5;124mf\u001b[39m\u001b[38;5;124m\"\u001b[39m\u001b[38;5;124m[bold blue]Answer: \u001b[39m\u001b[38;5;132;01m{\u001b[39;00mresponse\u001b[38;5;241m.\u001b[39msession\u001b[38;5;241m.\u001b[39manswer\u001b[38;5;132;01m}\u001b[39;00m\u001b[38;5;124m[/bold blue]\u001b[39m\u001b[38;5;124m\"\u001b[39m)\n",
      "File \u001b[0;32m~/venvs/venv_paperQA2/lib/python3.12/site-packages/paperqa/agents/main.py:129\u001b[0m, in \u001b[0;36mrun_agent\u001b[0;34m(docs, query, settings, agent_type, **runner_kwargs)\u001b[0m\n\u001b[1;32m    125\u001b[0m \u001b[38;5;28;01mif\u001b[39;00m \u001b[38;5;28misinstance\u001b[39m(agent_type, \u001b[38;5;28mstr\u001b[39m) \u001b[38;5;129;01mand\u001b[39;00m agent_type\u001b[38;5;241m.\u001b[39mlower() \u001b[38;5;241m==\u001b[39m FAKE_AGENT_TYPE:\n\u001b[1;32m    126\u001b[0m     session, agent_status \u001b[38;5;241m=\u001b[39m \u001b[38;5;28;01mawait\u001b[39;00m run_fake_agent(\n\u001b[1;32m    127\u001b[0m         query, settings, docs, \u001b[38;5;241m*\u001b[39m\u001b[38;5;241m*\u001b[39mrunner_kwargs\n\u001b[1;32m    128\u001b[0m     )\n\u001b[0;32m--> 129\u001b[0m \u001b[38;5;28;01melif\u001b[39;00m tool_selector_or_none \u001b[38;5;241m:=\u001b[39m \u001b[43msettings\u001b[49m\u001b[38;5;241;43m.\u001b[39;49m\u001b[43mmake_aviary_tool_selector\u001b[49m\u001b[43m(\u001b[49m\u001b[43magent_type\u001b[49m\u001b[43m)\u001b[49m:\n\u001b[1;32m    130\u001b[0m     session, agent_status \u001b[38;5;241m=\u001b[39m \u001b[38;5;28;01mawait\u001b[39;00m run_aviary_agent(\n\u001b[1;32m    131\u001b[0m         query, settings, docs, tool_selector_or_none, \u001b[38;5;241m*\u001b[39m\u001b[38;5;241m*\u001b[39mrunner_kwargs\n\u001b[1;32m    132\u001b[0m     )\n\u001b[1;32m    133\u001b[0m \u001b[38;5;28;01melif\u001b[39;00m ldp_agent_or_none \u001b[38;5;241m:=\u001b[39m \u001b[38;5;28;01mawait\u001b[39;00m settings\u001b[38;5;241m.\u001b[39mmake_ldp_agent(agent_type):\n",
      "File \u001b[0;32m~/venvs/venv_paperQA2/lib/python3.12/site-packages/paperqa/settings.py:856\u001b[0m, in \u001b[0;36mSettings.make_aviary_tool_selector\u001b[0;34m(self, agent_type)\u001b[0m\n\u001b[1;32m    841\u001b[0m \u001b[38;5;250m\u001b[39m\u001b[38;5;124;03m\"\"\"Attempt to convert the input agent type to an aviary ToolSelector.\"\"\"\u001b[39;00m\n\u001b[1;32m    842\u001b[0m \u001b[38;5;28;01mif\u001b[39;00m agent_type \u001b[38;5;129;01mis\u001b[39;00m ToolSelector \u001b[38;5;129;01mor\u001b[39;00m (\n\u001b[1;32m    843\u001b[0m     \u001b[38;5;28misinstance\u001b[39m(agent_type, \u001b[38;5;28mstr\u001b[39m)\n\u001b[1;32m    844\u001b[0m     \u001b[38;5;129;01mand\u001b[39;00m (\n\u001b[0;32m   (...)\u001b[0m\n\u001b[1;32m    852\u001b[0m     )\n\u001b[1;32m    853\u001b[0m ):\n\u001b[1;32m    854\u001b[0m     \u001b[38;5;28;01mreturn\u001b[39;00m ToolSelector(\n\u001b[1;32m    855\u001b[0m         model_name\u001b[38;5;241m=\u001b[39m\u001b[38;5;28mself\u001b[39m\u001b[38;5;241m.\u001b[39magent\u001b[38;5;241m.\u001b[39magent_llm,\n\u001b[0;32m--> 856\u001b[0m         acompletion\u001b[38;5;241m=\u001b[39m\u001b[38;5;28;43mself\u001b[39;49m\u001b[38;5;241;43m.\u001b[39;49m\u001b[43mget_agent_llm\u001b[49m\u001b[43m(\u001b[49m\u001b[43m)\u001b[49m\u001b[38;5;241;43m.\u001b[39;49m\u001b[43mrouter\u001b[49m\u001b[38;5;241m.\u001b[39macompletion,\n\u001b[1;32m    857\u001b[0m         \u001b[38;5;241m*\u001b[39m\u001b[38;5;241m*\u001b[39m(\u001b[38;5;28mself\u001b[39m\u001b[38;5;241m.\u001b[39magent\u001b[38;5;241m.\u001b[39magent_config \u001b[38;5;129;01mor\u001b[39;00m {}),\n\u001b[1;32m    858\u001b[0m     )\n\u001b[1;32m    859\u001b[0m \u001b[38;5;28;01mreturn\u001b[39;00m \u001b[38;5;28;01mNone\u001b[39;00m\n",
      "File \u001b[0;32m~/venvs/venv_paperQA2/lib/python3.12/site-packages/llmclient/llms.py:575\u001b[0m, in \u001b[0;36mLiteLLMModel.router\u001b[0;34m(self)\u001b[0m\n\u001b[1;32m    573\u001b[0m         \u001b[38;5;28mself\u001b[39m\u001b[38;5;241m.\u001b[39m_router \u001b[38;5;241m=\u001b[39m PassThroughRouter(\u001b[38;5;241m*\u001b[39m\u001b[38;5;241m*\u001b[39mrouter_kwargs)\n\u001b[1;32m    574\u001b[0m     \u001b[38;5;28;01melse\u001b[39;00m:\n\u001b[0;32m--> 575\u001b[0m         \u001b[38;5;28mself\u001b[39m\u001b[38;5;241m.\u001b[39m_router \u001b[38;5;241m=\u001b[39m \u001b[43mlitellm\u001b[49m\u001b[38;5;241;43m.\u001b[39;49m\u001b[43mRouter\u001b[49m\u001b[43m(\u001b[49m\n\u001b[1;32m    576\u001b[0m \u001b[43m            \u001b[49m\u001b[43mmodel_list\u001b[49m\u001b[38;5;241;43m=\u001b[39;49m\u001b[38;5;28;43mself\u001b[39;49m\u001b[38;5;241;43m.\u001b[39;49m\u001b[43mconfig\u001b[49m\u001b[43m[\u001b[49m\u001b[38;5;124;43m\"\u001b[39;49m\u001b[38;5;124;43mmodel_list\u001b[39;49m\u001b[38;5;124;43m\"\u001b[39;49m\u001b[43m]\u001b[49m\u001b[43m,\u001b[49m\u001b[43m \u001b[49m\u001b[38;5;241;43m*\u001b[39;49m\u001b[38;5;241;43m*\u001b[39;49m\u001b[43mrouter_kwargs\u001b[49m\n\u001b[1;32m    577\u001b[0m \u001b[43m        \u001b[49m\u001b[43m)\u001b[49m\n\u001b[1;32m    578\u001b[0m \u001b[38;5;28;01mreturn\u001b[39;00m \u001b[38;5;28mself\u001b[39m\u001b[38;5;241m.\u001b[39m_router\n",
      "File \u001b[0;32m~/venvs/venv_paperQA2/lib/python3.12/site-packages/litellm/router.py:369\u001b[0m, in \u001b[0;36mRouter.__init__\u001b[0;34m(self, model_list, assistants_config, redis_url, redis_host, redis_port, redis_password, cache_responses, cache_kwargs, caching_groups, client_ttl, polling_interval, default_priority, num_retries, max_fallbacks, timeout, stream_timeout, default_litellm_params, default_max_parallel_requests, set_verbose, debug_level, default_fallbacks, fallbacks, context_window_fallbacks, content_policy_fallbacks, model_group_alias, enable_pre_call_checks, enable_tag_filtering, retry_after, retry_policy, model_group_retry_policy, allowed_fails, allowed_fails_policy, cooldown_time, disable_cooldowns, routing_strategy, optional_pre_call_checks, routing_strategy_args, provider_budget_config, alerting_config, router_general_settings)\u001b[0m\n\u001b[1;32m    367\u001b[0m \u001b[38;5;28;01mif\u001b[39;00m model_list \u001b[38;5;129;01mis\u001b[39;00m \u001b[38;5;129;01mnot\u001b[39;00m \u001b[38;5;28;01mNone\u001b[39;00m:\n\u001b[1;32m    368\u001b[0m     model_list \u001b[38;5;241m=\u001b[39m copy\u001b[38;5;241m.\u001b[39mdeepcopy(model_list)\n\u001b[0;32m--> 369\u001b[0m     \u001b[38;5;28;43mself\u001b[39;49m\u001b[38;5;241;43m.\u001b[39;49m\u001b[43mset_model_list\u001b[49m\u001b[43m(\u001b[49m\u001b[43mmodel_list\u001b[49m\u001b[43m)\u001b[49m\n\u001b[1;32m    370\u001b[0m     \u001b[38;5;28mself\u001b[39m\u001b[38;5;241m.\u001b[39mhealthy_deployments: List \u001b[38;5;241m=\u001b[39m \u001b[38;5;28mself\u001b[39m\u001b[38;5;241m.\u001b[39mmodel_list  \u001b[38;5;66;03m# type: ignore\u001b[39;00m\n\u001b[1;32m    371\u001b[0m     \u001b[38;5;28;01mfor\u001b[39;00m m \u001b[38;5;129;01min\u001b[39;00m model_list:\n",
      "File \u001b[0;32m~/venvs/venv_paperQA2/lib/python3.12/site-packages/litellm/router.py:4061\u001b[0m, in \u001b[0;36mRouter.set_model_list\u001b[0;34m(self, model_list)\u001b[0m\n\u001b[1;32m   4054\u001b[0m             \u001b[38;5;28mself\u001b[39m\u001b[38;5;241m.\u001b[39m_create_deployment(\n\u001b[1;32m   4055\u001b[0m                 deployment_info\u001b[38;5;241m=\u001b[39mmodel,\n\u001b[1;32m   4056\u001b[0m                 _model_name\u001b[38;5;241m=\u001b[39m_model_name,\n\u001b[1;32m   4057\u001b[0m                 _litellm_params\u001b[38;5;241m=\u001b[39m_litellm_params,\n\u001b[1;32m   4058\u001b[0m                 _model_info\u001b[38;5;241m=\u001b[39m_model_info,\n\u001b[1;32m   4059\u001b[0m             )\n\u001b[1;32m   4060\u001b[0m     \u001b[38;5;28;01melse\u001b[39;00m:\n\u001b[0;32m-> 4061\u001b[0m         \u001b[38;5;28;43mself\u001b[39;49m\u001b[38;5;241;43m.\u001b[39;49m\u001b[43m_create_deployment\u001b[49m\u001b[43m(\u001b[49m\n\u001b[1;32m   4062\u001b[0m \u001b[43m            \u001b[49m\u001b[43mdeployment_info\u001b[49m\u001b[38;5;241;43m=\u001b[39;49m\u001b[43mmodel\u001b[49m\u001b[43m,\u001b[49m\n\u001b[1;32m   4063\u001b[0m \u001b[43m            \u001b[49m\u001b[43m_model_name\u001b[49m\u001b[38;5;241;43m=\u001b[39;49m\u001b[43m_model_name\u001b[49m\u001b[43m,\u001b[49m\n\u001b[1;32m   4064\u001b[0m \u001b[43m            \u001b[49m\u001b[43m_litellm_params\u001b[49m\u001b[38;5;241;43m=\u001b[39;49m\u001b[43m_litellm_params\u001b[49m\u001b[43m,\u001b[49m\n\u001b[1;32m   4065\u001b[0m \u001b[43m            \u001b[49m\u001b[43m_model_info\u001b[49m\u001b[38;5;241;43m=\u001b[39;49m\u001b[43m_model_info\u001b[49m\u001b[43m,\u001b[49m\n\u001b[1;32m   4066\u001b[0m \u001b[43m        \u001b[49m\u001b[43m)\u001b[49m\n\u001b[1;32m   4068\u001b[0m verbose_router_logger\u001b[38;5;241m.\u001b[39mdebug(\n\u001b[1;32m   4069\u001b[0m     \u001b[38;5;124mf\u001b[39m\u001b[38;5;124m\"\u001b[39m\u001b[38;5;130;01m\\n\u001b[39;00m\u001b[38;5;124mInitialized Model List \u001b[39m\u001b[38;5;132;01m{\u001b[39;00m\u001b[38;5;28mself\u001b[39m\u001b[38;5;241m.\u001b[39mget_model_names()\u001b[38;5;132;01m}\u001b[39;00m\u001b[38;5;124m\"\u001b[39m\n\u001b[1;32m   4070\u001b[0m )\n\u001b[1;32m   4071\u001b[0m \u001b[38;5;28mself\u001b[39m\u001b[38;5;241m.\u001b[39mmodel_names \u001b[38;5;241m=\u001b[39m [m[\u001b[38;5;124m\"\u001b[39m\u001b[38;5;124mmodel_name\u001b[39m\u001b[38;5;124m\"\u001b[39m] \u001b[38;5;28;01mfor\u001b[39;00m m \u001b[38;5;129;01min\u001b[39;00m model_list]\n",
      "File \u001b[0;32m~/venvs/venv_paperQA2/lib/python3.12/site-packages/litellm/router.py:3981\u001b[0m, in \u001b[0;36mRouter._create_deployment\u001b[0;34m(self, deployment_info, _model_name, _litellm_params, _model_info)\u001b[0m\n\u001b[1;32m   3976\u001b[0m     verbose_router_logger\u001b[38;5;241m.\u001b[39mwarning(\n\u001b[1;32m   3977\u001b[0m         \u001b[38;5;124mf\u001b[39m\u001b[38;5;124m\"\u001b[39m\u001b[38;5;124mIgnoring deployment \u001b[39m\u001b[38;5;132;01m{\u001b[39;00mdeployment\u001b[38;5;241m.\u001b[39mmodel_name\u001b[38;5;132;01m}\u001b[39;00m\u001b[38;5;124m as it is not active for environment \u001b[39m\u001b[38;5;132;01m{\u001b[39;00mdeployment\u001b[38;5;241m.\u001b[39mmodel_info[\u001b[38;5;124m'\u001b[39m\u001b[38;5;124msupported_environments\u001b[39m\u001b[38;5;124m'\u001b[39m]\u001b[38;5;132;01m}\u001b[39;00m\u001b[38;5;124m\"\u001b[39m\n\u001b[1;32m   3978\u001b[0m     )\n\u001b[1;32m   3979\u001b[0m     \u001b[38;5;28;01mreturn\u001b[39;00m \u001b[38;5;28;01mNone\u001b[39;00m\n\u001b[0;32m-> 3981\u001b[0m deployment \u001b[38;5;241m=\u001b[39m \u001b[38;5;28;43mself\u001b[39;49m\u001b[38;5;241;43m.\u001b[39;49m\u001b[43m_add_deployment\u001b[49m\u001b[43m(\u001b[49m\u001b[43mdeployment\u001b[49m\u001b[38;5;241;43m=\u001b[39;49m\u001b[43mdeployment\u001b[49m\u001b[43m)\u001b[49m\n\u001b[1;32m   3983\u001b[0m model \u001b[38;5;241m=\u001b[39m deployment\u001b[38;5;241m.\u001b[39mto_json(exclude_none\u001b[38;5;241m=\u001b[39m\u001b[38;5;28;01mTrue\u001b[39;00m)\n\u001b[1;32m   3985\u001b[0m \u001b[38;5;28mself\u001b[39m\u001b[38;5;241m.\u001b[39mmodel_list\u001b[38;5;241m.\u001b[39mappend(model)\n",
      "File \u001b[0;32m~/venvs/venv_paperQA2/lib/python3.12/site-packages/litellm/router.py:4142\u001b[0m, in \u001b[0;36mRouter._add_deployment\u001b[0;34m(self, deployment)\u001b[0m\n\u001b[1;32m   4139\u001b[0m     \u001b[38;5;28;01mraise\u001b[39;00m \u001b[38;5;167;01mException\u001b[39;00m(\u001b[38;5;124mf\u001b[39m\u001b[38;5;124m\"\u001b[39m\u001b[38;5;124mUnsupported provider - \u001b[39m\u001b[38;5;132;01m{\u001b[39;00mcustom_llm_provider\u001b[38;5;132;01m}\u001b[39;00m\u001b[38;5;124m\"\u001b[39m)\n\u001b[1;32m   4141\u001b[0m \u001b[38;5;66;03m# init OpenAI, Azure clients\u001b[39;00m\n\u001b[0;32m-> 4142\u001b[0m \u001b[43mInitalizeOpenAISDKClient\u001b[49m\u001b[38;5;241;43m.\u001b[39;49m\u001b[43mset_client\u001b[49m\u001b[43m(\u001b[49m\n\u001b[1;32m   4143\u001b[0m \u001b[43m    \u001b[49m\u001b[43mlitellm_router_instance\u001b[49m\u001b[38;5;241;43m=\u001b[39;49m\u001b[38;5;28;43mself\u001b[39;49m\u001b[43m,\u001b[49m\u001b[43m \u001b[49m\u001b[43mmodel\u001b[49m\u001b[38;5;241;43m=\u001b[39;49m\u001b[43mdeployment\u001b[49m\u001b[38;5;241;43m.\u001b[39;49m\u001b[43mto_json\u001b[49m\u001b[43m(\u001b[49m\u001b[43mexclude_none\u001b[49m\u001b[38;5;241;43m=\u001b[39;49m\u001b[38;5;28;43;01mTrue\u001b[39;49;00m\u001b[43m)\u001b[49m\n\u001b[1;32m   4144\u001b[0m \u001b[43m\u001b[49m\u001b[43m)\u001b[49m\n\u001b[1;32m   4146\u001b[0m \u001b[38;5;28mself\u001b[39m\u001b[38;5;241m.\u001b[39m_initialize_deployment_for_pass_through(\n\u001b[1;32m   4147\u001b[0m     deployment\u001b[38;5;241m=\u001b[39mdeployment,\n\u001b[1;32m   4148\u001b[0m     custom_llm_provider\u001b[38;5;241m=\u001b[39mcustom_llm_provider,\n\u001b[1;32m   4149\u001b[0m     model\u001b[38;5;241m=\u001b[39mdeployment\u001b[38;5;241m.\u001b[39mlitellm_params\u001b[38;5;241m.\u001b[39mmodel,\n\u001b[1;32m   4150\u001b[0m )\n\u001b[1;32m   4152\u001b[0m \u001b[38;5;28;01mreturn\u001b[39;00m deployment\n",
      "File \u001b[0;32m~/venvs/venv_paperQA2/lib/python3.12/site-packages/litellm/router_utils/client_initalization_utils.py:472\u001b[0m, in \u001b[0;36mInitalizeOpenAISDKClient.set_client\u001b[0;34m(litellm_router_instance, model)\u001b[0m\n\u001b[1;32m    468\u001b[0m verbose_router_logger\u001b[38;5;241m.\u001b[39mdebug(\n\u001b[1;32m    469\u001b[0m     \u001b[38;5;124mf\u001b[39m\u001b[38;5;124m\"\u001b[39m\u001b[38;5;124mInitializing OpenAI Client for \u001b[39m\u001b[38;5;132;01m{\u001b[39;00mmodel_name\u001b[38;5;132;01m}\u001b[39;00m\u001b[38;5;124m, Api Base:\u001b[39m\u001b[38;5;132;01m{\u001b[39;00m\u001b[38;5;28mstr\u001b[39m(api_base)\u001b[38;5;132;01m}\u001b[39;00m\u001b[38;5;124m, Api Key:\u001b[39m\u001b[38;5;132;01m{\u001b[39;00m_api_key\u001b[38;5;132;01m}\u001b[39;00m\u001b[38;5;124m\"\u001b[39m\n\u001b[1;32m    470\u001b[0m )\n\u001b[1;32m    471\u001b[0m cache_key \u001b[38;5;241m=\u001b[39m \u001b[38;5;124mf\u001b[39m\u001b[38;5;124m\"\u001b[39m\u001b[38;5;132;01m{\u001b[39;00mmodel_id\u001b[38;5;132;01m}\u001b[39;00m\u001b[38;5;124m_async_client\u001b[39m\u001b[38;5;124m\"\u001b[39m\n\u001b[0;32m--> 472\u001b[0m _client \u001b[38;5;241m=\u001b[39m \u001b[43mopenai\u001b[49m\u001b[38;5;241;43m.\u001b[39;49m\u001b[43mAsyncOpenAI\u001b[49m\u001b[43m(\u001b[49m\u001b[43m  \u001b[49m\u001b[38;5;66;43;03m# type: ignore\u001b[39;49;00m\n\u001b[1;32m    473\u001b[0m \u001b[43m    \u001b[49m\u001b[43mapi_key\u001b[49m\u001b[38;5;241;43m=\u001b[39;49m\u001b[43mapi_key\u001b[49m\u001b[43m,\u001b[49m\n\u001b[1;32m    474\u001b[0m \u001b[43m    \u001b[49m\u001b[43mbase_url\u001b[49m\u001b[38;5;241;43m=\u001b[39;49m\u001b[43mapi_base\u001b[49m\u001b[43m,\u001b[49m\n\u001b[1;32m    475\u001b[0m \u001b[43m    \u001b[49m\u001b[43mtimeout\u001b[49m\u001b[38;5;241;43m=\u001b[39;49m\u001b[43mtimeout\u001b[49m\u001b[43m,\u001b[49m\u001b[43m  \u001b[49m\u001b[38;5;66;43;03m# type: ignore\u001b[39;49;00m\n\u001b[1;32m    476\u001b[0m \u001b[43m    \u001b[49m\u001b[43mmax_retries\u001b[49m\u001b[38;5;241;43m=\u001b[39;49m\u001b[43mmax_retries\u001b[49m\u001b[43m,\u001b[49m\u001b[43m  \u001b[49m\u001b[38;5;66;43;03m# type: ignore\u001b[39;49;00m\n\u001b[1;32m    477\u001b[0m \u001b[43m    \u001b[49m\u001b[43morganization\u001b[49m\u001b[38;5;241;43m=\u001b[39;49m\u001b[43morganization\u001b[49m\u001b[43m,\u001b[49m\n\u001b[1;32m    478\u001b[0m \u001b[43m    \u001b[49m\u001b[43mhttp_client\u001b[49m\u001b[38;5;241;43m=\u001b[39;49m\u001b[43mhttpx\u001b[49m\u001b[38;5;241;43m.\u001b[39;49m\u001b[43mAsyncClient\u001b[49m\u001b[43m(\u001b[49m\n\u001b[1;32m    479\u001b[0m \u001b[43m        \u001b[49m\u001b[43mlimits\u001b[49m\u001b[38;5;241;43m=\u001b[39;49m\u001b[43mhttpx\u001b[49m\u001b[38;5;241;43m.\u001b[39;49m\u001b[43mLimits\u001b[49m\u001b[43m(\u001b[49m\n\u001b[1;32m    480\u001b[0m \u001b[43m            \u001b[49m\u001b[43mmax_connections\u001b[49m\u001b[38;5;241;43m=\u001b[39;49m\u001b[38;5;241;43m1000\u001b[39;49m\u001b[43m,\u001b[49m\u001b[43m \u001b[49m\u001b[43mmax_keepalive_connections\u001b[49m\u001b[38;5;241;43m=\u001b[39;49m\u001b[38;5;241;43m100\u001b[39;49m\n\u001b[1;32m    481\u001b[0m \u001b[43m        \u001b[49m\u001b[43m)\u001b[49m\u001b[43m,\u001b[49m\n\u001b[1;32m    482\u001b[0m \u001b[43m        \u001b[49m\u001b[43mverify\u001b[49m\u001b[38;5;241;43m=\u001b[39;49m\u001b[43mlitellm\u001b[49m\u001b[38;5;241;43m.\u001b[39;49m\u001b[43mssl_verify\u001b[49m\u001b[43m,\u001b[49m\n\u001b[1;32m    483\u001b[0m \u001b[43m    \u001b[49m\u001b[43m)\u001b[49m\u001b[43m,\u001b[49m\u001b[43m  \u001b[49m\u001b[38;5;66;43;03m# type: ignore\u001b[39;49;00m\n\u001b[1;32m    484\u001b[0m \u001b[43m\u001b[49m\u001b[43m)\u001b[49m\n\u001b[1;32m    485\u001b[0m litellm_router_instance\u001b[38;5;241m.\u001b[39mcache\u001b[38;5;241m.\u001b[39mset_cache(\n\u001b[1;32m    486\u001b[0m     key\u001b[38;5;241m=\u001b[39mcache_key,\n\u001b[1;32m    487\u001b[0m     value\u001b[38;5;241m=\u001b[39m_client,\n\u001b[1;32m    488\u001b[0m     ttl\u001b[38;5;241m=\u001b[39mclient_ttl,\n\u001b[1;32m    489\u001b[0m     local_only\u001b[38;5;241m=\u001b[39m\u001b[38;5;28;01mTrue\u001b[39;00m,\n\u001b[1;32m    490\u001b[0m )  \u001b[38;5;66;03m# cache for 1 hr\u001b[39;00m\n\u001b[1;32m    492\u001b[0m \u001b[38;5;28;01mif\u001b[39;00m InitalizeOpenAISDKClient\u001b[38;5;241m.\u001b[39mshould_initialize_sync_client(\n\u001b[1;32m    493\u001b[0m     litellm_router_instance\u001b[38;5;241m=\u001b[39mlitellm_router_instance\n\u001b[1;32m    494\u001b[0m ):\n",
      "File \u001b[0;32m~/venvs/venv_paperQA2/lib/python3.12/site-packages/openai/_client.py:337\u001b[0m, in \u001b[0;36mAsyncOpenAI.__init__\u001b[0;34m(self, api_key, organization, project, base_url, websocket_base_url, timeout, max_retries, default_headers, default_query, http_client, _strict_response_validation)\u001b[0m\n\u001b[1;32m    335\u001b[0m     api_key \u001b[38;5;241m=\u001b[39m os\u001b[38;5;241m.\u001b[39menviron\u001b[38;5;241m.\u001b[39mget(\u001b[38;5;124m\"\u001b[39m\u001b[38;5;124mOPENAI_API_KEY\u001b[39m\u001b[38;5;124m\"\u001b[39m)\n\u001b[1;32m    336\u001b[0m \u001b[38;5;28;01mif\u001b[39;00m api_key \u001b[38;5;129;01mis\u001b[39;00m \u001b[38;5;28;01mNone\u001b[39;00m:\n\u001b[0;32m--> 337\u001b[0m     \u001b[38;5;28;01mraise\u001b[39;00m OpenAIError(\n\u001b[1;32m    338\u001b[0m         \u001b[38;5;124m\"\u001b[39m\u001b[38;5;124mThe api_key client option must be set either by passing api_key to the client or by setting the OPENAI_API_KEY environment variable\u001b[39m\u001b[38;5;124m\"\u001b[39m\n\u001b[1;32m    339\u001b[0m     )\n\u001b[1;32m    340\u001b[0m \u001b[38;5;28mself\u001b[39m\u001b[38;5;241m.\u001b[39mapi_key \u001b[38;5;241m=\u001b[39m api_key\n\u001b[1;32m    342\u001b[0m \u001b[38;5;28;01mif\u001b[39;00m organization \u001b[38;5;129;01mis\u001b[39;00m \u001b[38;5;28;01mNone\u001b[39;00m:\n",
      "\u001b[0;31mOpenAIError\u001b[0m: The api_key client option must be set either by passing api_key to the client or by setting the OPENAI_API_KEY environment variable"
     ]
    }
   ],
   "source": [
    "from paperqa import Settings, agent_query\n",
    "\n",
    "# Using a default test case provided by the authors:\n",
    "answer_response = await agent_query(\n",
    "    query=\"What drugs have been found to effectively treat Ulcerative Colitis?\",\n",
    "    settings=Settings.from_name(\"search_only_clinical_trials\"),                     # Imports all settings from a pre-defined set\n",
    ")\n",
    "\n",
    "# Print answer\n",
    "print(answer_response.session.answer)"
   ]
  },
  {
   "cell_type": "markdown",
   "metadata": {},
   "source": [
    "Citations are provided inline in the response, but if we want more detailed context:"
   ]
  },
  {
   "cell_type": "code",
   "execution_count": null,
   "metadata": {},
   "outputs": [],
   "source": [
    "print(answer_response.session.context)"
   ]
  },
  {
   "cell_type": "markdown",
   "metadata": {},
   "source": [
    "We can define our own custom Settings (to save time)"
   ]
  },
  {
   "cell_type": "code",
   "execution_count": 2,
   "metadata": {},
   "outputs": [
    {
     "ename": "ImportError",
     "evalue": "cannot import name 'AgentSetting' from 'paperqa' (/root/venvs/venv_paperQA2/lib/python3.12/site-packages/paperqa/__init__.py)",
     "output_type": "error",
     "traceback": [
      "\u001b[0;31m---------------------------------------------------------------------------\u001b[0m",
      "\u001b[0;31mImportError\u001b[0m                               Traceback (most recent call last)",
      "Cell \u001b[0;32mIn[2], line 3\u001b[0m\n\u001b[1;32m      1\u001b[0m \u001b[38;5;28;01mfrom\u001b[39;00m\u001b[38;5;250m \u001b[39m\u001b[38;5;21;01mpathlib\u001b[39;00m\u001b[38;5;250m \u001b[39m\u001b[38;5;28;01mimport\u001b[39;00m Path\n\u001b[1;32m      2\u001b[0m \u001b[38;5;28;01mfrom\u001b[39;00m\u001b[38;5;250m \u001b[39m\u001b[38;5;21;01mpathlib\u001b[39;00m\u001b[38;5;250m \u001b[39m\u001b[38;5;28;01mimport\u001b[39;00m Path\n\u001b[0;32m----> 3\u001b[0m \u001b[38;5;28;01mfrom\u001b[39;00m\u001b[38;5;250m \u001b[39m\u001b[38;5;21;01mpaperqa\u001b[39;00m\u001b[38;5;250m \u001b[39m\u001b[38;5;28;01mimport\u001b[39;00m Settings, agent_query, AgentSetting\n\u001b[1;32m      4\u001b[0m \u001b[38;5;28;01mfrom\u001b[39;00m\u001b[38;5;250m \u001b[39m\u001b[38;5;21;01mpaperqa\u001b[39;00m\u001b[38;5;21;01m.\u001b[39;00m\u001b[38;5;21;01magents\u001b[39;00m\u001b[38;5;21;01m.\u001b[39;00m\u001b[38;5;21;01mtools\u001b[39;00m\u001b[38;5;250m \u001b[39m\u001b[38;5;28;01mimport\u001b[39;00m DEFAULT_TOOL_NAMES\n\u001b[1;32m      6\u001b[0m \u001b[38;5;66;03m# Print the current default tool names\u001b[39;00m\n",
      "\u001b[0;31mImportError\u001b[0m: cannot import name 'AgentSetting' from 'paperqa' (/root/venvs/venv_paperQA2/lib/python3.12/site-packages/paperqa/__init__.py)"
     ]
    }
   ],
   "source": [
    "from pathlib import Path\n",
    "from pathlib import Path\n",
    "from paperqa import Settings, agent_query, AgentSetting\n",
    "from paperqa.agents.tools import DEFAULT_TOOL_NAMES\n",
    "\n",
    "# Print the current default tool names\n",
    "print(DEFAULT_TOOL_NAMES)\n",
    "\n",
    "# Start with a directory with a potentially useful paper in it\n",
    "print(list(Path(\"my_papers\").iterdir()))\n",
    "\n",
    "# now let's query using standard tools + clinical_trials\n",
    "answer_response = await agent_query(\n",
    "    query=\"What drugs have been found to effectively treat Ulcerative Colitis?\",\n",
    "    settings=Settings(\n",
    "        paper_directory=\"my_papers\",\n",
    "        agent={\"tool_names\": DEFAULT_TOOL_NAMES + [\"clinical_trials_search\"]},\n",
    "    ),\n",
    ")\n",
    "\n",
    "# let's check out the formatted answer (with references included)\n",
    "print(answer_response.session.formatted_answer)"
   ]
  }
 ],
 "metadata": {
  "kernelspec": {
   "display_name": "venv_paperQA2",
   "language": "python",
   "name": "python3"
  },
  "language_info": {
   "codemirror_mode": {
    "name": "ipython",
    "version": 3
   },
   "file_extension": ".py",
   "mimetype": "text/x-python",
   "name": "python",
   "nbconvert_exporter": "python",
   "pygments_lexer": "ipython3",
   "version": "3.12.3"
  }
 },
 "nbformat": 4,
 "nbformat_minor": 2
}

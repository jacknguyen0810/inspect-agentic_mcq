{
 "cells": [
  {
   "cell_type": "markdown",
   "metadata": {},
   "source": [
    "# PaperQA Demo Notebook\n",
    "\n",
    "This is a demo of the PaperQA package, which is was used by the original authors of the paper."
   ]
  },
  {
   "cell_type": "markdown",
   "metadata": {},
   "source": [
    "Before starting, user needs to set OpenAI API key. \n",
    "\n",
    "```bash\n",
    "export OPENAI_API_KEY = sk....\n",
    "```"
   ]
  },
  {
   "cell_type": "code",
   "execution_count": null,
   "metadata": {},
   "outputs": [],
   "source": [
    "# export OPENAI_API_KEY ="
   ]
  },
  {
   "cell_type": "code",
   "execution_count": 1,
   "metadata": {},
   "outputs": [],
   "source": [
    "# Import libraries\n",
    "from paperqa import ask, Settings, agent_query"
   ]
  },
  {
   "cell_type": "markdown",
   "metadata": {},
   "source": [
    "### ask\n",
    "\n",
    "This is the main function to ask scientific questions, which the agent will answer the question using information from a set of documents. "
   ]
  },
  {
   "cell_type": "code",
   "execution_count": null,
   "metadata": {},
   "outputs": [],
   "source": [
    "response = ask(\n",
    "    \"What is the density of water?\",\n",
    "    settings=Settings(                              # Settings for the agent are determined by the Settings class\n",
    "        temperature=0.5,                            # Adjust temperature of the LLM response\n",
    "        paper_directory=\"data/paper_bank\"           # Directory from root of the bank of papers (local)\n",
    "    )\n",
    ")"
   ]
  },
  {
   "cell_type": "markdown",
   "metadata": {},
   "source": [
    "### agent_query\n",
    "\n",
    "```ask``` is essentailly a wrapper around ```agent_query```, which is the main function to ask scientific questions, which the agent will answer the question using information from a set of documents. \n",
    "\n",
    "We can interact directly with the agent using ```agent_query```. \n",
    "\n"
   ]
  },
  {
   "cell_type": "code",
   "execution_count": null,
   "metadata": {},
   "outputs": [],
   "source": [
    "from paperqa import Settings, agent_query\n",
    "\n",
    "# Using a default test case provided by the authors:\n",
    "answer_response = await agent_query(\n",
    "    query=\"What drugs have been found to effectively treat Ulcerative Colitis?\",\n",
    "    settings=Settings.from_name(\"search_only_clinical_trials\"),                     # Imports all settings from a pre-defined set\n",
    ")\n",
    "\n",
    "# Print answer\n",
    "print(answer_response.session.answer)"
   ]
  },
  {
   "cell_type": "markdown",
   "metadata": {},
   "source": [
    "Citations are provided inline in the response, but if we want more detailed context:"
   ]
  },
  {
   "cell_type": "code",
   "execution_count": null,
   "metadata": {},
   "outputs": [],
   "source": [
    "print(answer_response.session.context)"
   ]
  },
  {
   "cell_type": "markdown",
   "metadata": {},
   "source": [
    "We can define our own custom Settings (to save time)"
   ]
  },
  {
   "cell_type": "code",
   "execution_count": 2,
   "metadata": {},
   "outputs": [
    {
     "ename": "ImportError",
     "evalue": "cannot import name 'AgentSetting' from 'paperqa' (/root/venvs/venv_paperQA2/lib/python3.12/site-packages/paperqa/__init__.py)",
     "output_type": "error",
     "traceback": [
      "\u001b[0;31m---------------------------------------------------------------------------\u001b[0m",
      "\u001b[0;31mImportError\u001b[0m                               Traceback (most recent call last)",
      "Cell \u001b[0;32mIn[2], line 3\u001b[0m\n\u001b[1;32m      1\u001b[0m \u001b[38;5;28;01mfrom\u001b[39;00m\u001b[38;5;250m \u001b[39m\u001b[38;5;21;01mpathlib\u001b[39;00m\u001b[38;5;250m \u001b[39m\u001b[38;5;28;01mimport\u001b[39;00m Path\n\u001b[1;32m      2\u001b[0m \u001b[38;5;28;01mfrom\u001b[39;00m\u001b[38;5;250m \u001b[39m\u001b[38;5;21;01mpathlib\u001b[39;00m\u001b[38;5;250m \u001b[39m\u001b[38;5;28;01mimport\u001b[39;00m Path\n\u001b[0;32m----> 3\u001b[0m \u001b[38;5;28;01mfrom\u001b[39;00m\u001b[38;5;250m \u001b[39m\u001b[38;5;21;01mpaperqa\u001b[39;00m\u001b[38;5;250m \u001b[39m\u001b[38;5;28;01mimport\u001b[39;00m Settings, agent_query, AgentSetting\n\u001b[1;32m      4\u001b[0m \u001b[38;5;28;01mfrom\u001b[39;00m\u001b[38;5;250m \u001b[39m\u001b[38;5;21;01mpaperqa\u001b[39;00m\u001b[38;5;21;01m.\u001b[39;00m\u001b[38;5;21;01magents\u001b[39;00m\u001b[38;5;21;01m.\u001b[39;00m\u001b[38;5;21;01mtools\u001b[39;00m\u001b[38;5;250m \u001b[39m\u001b[38;5;28;01mimport\u001b[39;00m DEFAULT_TOOL_NAMES\n\u001b[1;32m      6\u001b[0m \u001b[38;5;66;03m# Print the current default tool names\u001b[39;00m\n",
      "\u001b[0;31mImportError\u001b[0m: cannot import name 'AgentSetting' from 'paperqa' (/root/venvs/venv_paperQA2/lib/python3.12/site-packages/paperqa/__init__.py)"
     ]
    }
   ],
   "source": [
    "from pathlib import Path\n",
    "from pathlib import Path\n",
    "from paperqa import Settings, agent_query, AgentSetting\n",
    "from paperqa.agents.tools import DEFAULT_TOOL_NAMES\n",
    "\n",
    "# Print the current default tool names\n",
    "print(DEFAULT_TOOL_NAMES)\n",
    "\n",
    "# Start with a directory with a potentially useful paper in it\n",
    "print(list(Path(\"my_papers\").iterdir()))\n",
    "\n",
    "# now let's query using standard tools + clinical_trials\n",
    "answer_response = await agent_query(\n",
    "    query=\"What drugs have been found to effectively treat Ulcerative Colitis?\",\n",
    "    settings=Settings(\n",
    "        paper_directory=\"my_papers\",\n",
    "        agent={\"tool_names\": DEFAULT_TOOL_NAMES + [\"clinical_trials_search\"]},\n",
    "    ),\n",
    ")\n",
    "\n",
    "# let's check out the formatted answer (with references included)\n",
    "print(answer_response.session.formatted_answer)"
   ]
  }
 ],
 "metadata": {
  "kernelspec": {
   "display_name": "venv_paperQA2",
   "language": "python",
   "name": "python3"
  },
  "language_info": {
   "codemirror_mode": {
    "name": "ipython",
    "version": 3
   },
   "file_extension": ".py",
   "mimetype": "text/x-python",
   "name": "python",
   "nbconvert_exporter": "python",
   "pygments_lexer": "ipython3",
   "version": "3.12.3"
  }
 },
 "nbformat": 4,
 "nbformat_minor": 2
}
